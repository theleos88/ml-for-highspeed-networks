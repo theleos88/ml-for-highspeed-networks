{
 "cells": [
  {
   "cell_type": "markdown",
   "metadata": {},
   "source": [
    "# Basic Example for Calculating the Causal Effect\n",
    "This is a quick introduction to the DoWhy causal inference library.\n",
    "We will load in a sample dataset and estimate the causal effect of a (pre-specified) treatment variable on a (pre-specified) outcome variable.\n",
    "\n",
    "First, let us load all required packages."
   ]
  },
  {
   "cell_type": "code",
   "execution_count": 108,
   "metadata": {},
   "outputs": [],
   "source": [
    "import numpy as np\n",
    "\n",
    "from dowhy import CausalModel\n",
    "import dowhy.datasets "
   ]
  },
  {
   "cell_type": "markdown",
   "metadata": {},
   "source": [
    "Now, let us load a dataset. For simplicity, we simulate a dataset with linear relationships between common causes and treatment, and common causes and outcome. \n",
    "\n",
    "Beta is the true causal effect. "
   ]
  },
  {
   "cell_type": "markdown",
   "metadata": {},
   "source": [
    "data = dowhy.datasets.linear_dataset(beta=10,\n",
    "        num_common_causes=5,\n",
    "        num_instruments = 2,\n",
    "        num_effect_modifiers=1,\n",
    "        num_samples=5000, \n",
    "        treatment_is_binary=True,\n",
    "        stddev_treatment_noise=10,\n",
    "        num_discrete_common_causes=1)\n",
    "df = data[\"df\"]"
   ]
  },
  {
   "cell_type": "code",
   "execution_count": 109,
   "metadata": {},
   "outputs": [],
   "source": [
    "import pandas as pd"
   ]
  },
  {
   "cell_type": "code",
   "execution_count": 110,
   "metadata": {},
   "outputs": [],
   "source": [
    "df = pd.read_csv(\"bridge_binary_load.csv\")"
   ]
  },
  {
   "cell_type": "code",
   "execution_count": 111,
   "metadata": {},
   "outputs": [
    {
     "data": {
      "text/html": [
       "<div>\n",
       "<style scoped>\n",
       "    .dataframe tbody tr th:only-of-type {\n",
       "        vertical-align: middle;\n",
       "    }\n",
       "\n",
       "    .dataframe tbody tr th {\n",
       "        vertical-align: top;\n",
       "    }\n",
       "\n",
       "    .dataframe thead th {\n",
       "        text-align: right;\n",
       "    }\n",
       "</style>\n",
       "<table border=\"1\" class=\"dataframe\">\n",
       "  <thead>\n",
       "    <tr style=\"text-align: right;\">\n",
       "      <th></th>\n",
       "      <th>Unnamed: 0</th>\n",
       "      <th>input_rate</th>\n",
       "      <th>output_rate</th>\n",
       "      <th>latency</th>\n",
       "      <th>bridge_instructions</th>\n",
       "      <th>bridge_branches</th>\n",
       "      <th>bridge_branch-misses</th>\n",
       "      <th>bridge_branch-load-misses</th>\n",
       "      <th>bridge_cache-misses</th>\n",
       "      <th>bridge_cache-references</th>\n",
       "      <th>bridge_cycles</th>\n",
       "      <th>bridge_L1-dcache-load-misses</th>\n",
       "      <th>bridge_L1-dcache-loads</th>\n",
       "      <th>bridge_LLC-load-misses</th>\n",
       "      <th>bridge_LLC-stores</th>\n",
       "      <th>bridge_LLC-loads</th>\n",
       "    </tr>\n",
       "  </thead>\n",
       "  <tbody>\n",
       "    <tr>\n",
       "      <th>0</th>\n",
       "      <td>0</td>\n",
       "      <td>528.196914</td>\n",
       "      <td>478.690020</td>\n",
       "      <td>17.210</td>\n",
       "      <td>2.289558e+09</td>\n",
       "      <td>454520501.0</td>\n",
       "      <td>1654144.0</td>\n",
       "      <td>1654091.0</td>\n",
       "      <td>2602.0</td>\n",
       "      <td>715.0</td>\n",
       "      <td>580098756.0</td>\n",
       "      <td>4923.0</td>\n",
       "      <td>720560636.0</td>\n",
       "      <td>25.0</td>\n",
       "      <td>0.0</td>\n",
       "      <td>6749.0</td>\n",
       "    </tr>\n",
       "    <tr>\n",
       "      <th>1</th>\n",
       "      <td>1</td>\n",
       "      <td>472.009050</td>\n",
       "      <td>528.257677</td>\n",
       "      <td>8.681</td>\n",
       "      <td>2.320473e+09</td>\n",
       "      <td>446293979.0</td>\n",
       "      <td>1636181.0</td>\n",
       "      <td>1650041.0</td>\n",
       "      <td>55.0</td>\n",
       "      <td>658.0</td>\n",
       "      <td>599325346.0</td>\n",
       "      <td>4829.0</td>\n",
       "      <td>744629626.0</td>\n",
       "      <td>63.0</td>\n",
       "      <td>0.0</td>\n",
       "      <td>463.0</td>\n",
       "    </tr>\n",
       "    <tr>\n",
       "      <th>2</th>\n",
       "      <td>2</td>\n",
       "      <td>527.940551</td>\n",
       "      <td>527.999645</td>\n",
       "      <td>7.770</td>\n",
       "      <td>2.483917e+09</td>\n",
       "      <td>489374524.0</td>\n",
       "      <td>1774572.0</td>\n",
       "      <td>1775378.0</td>\n",
       "      <td>25.0</td>\n",
       "      <td>469.0</td>\n",
       "      <td>617072261.0</td>\n",
       "      <td>9282.0</td>\n",
       "      <td>750112301.0</td>\n",
       "      <td>113.0</td>\n",
       "      <td>0.0</td>\n",
       "      <td>663.0</td>\n",
       "    </tr>\n",
       "    <tr>\n",
       "      <th>3</th>\n",
       "      <td>3</td>\n",
       "      <td>528.209734</td>\n",
       "      <td>528.260483</td>\n",
       "      <td>8.893</td>\n",
       "      <td>2.480397e+09</td>\n",
       "      <td>488851113.0</td>\n",
       "      <td>1773511.0</td>\n",
       "      <td>1772958.0</td>\n",
       "      <td>70.0</td>\n",
       "      <td>507.0</td>\n",
       "      <td>618348096.0</td>\n",
       "      <td>4816.0</td>\n",
       "      <td>769282198.0</td>\n",
       "      <td>13.0</td>\n",
       "      <td>75.0</td>\n",
       "      <td>5776.0</td>\n",
       "    </tr>\n",
       "    <tr>\n",
       "      <th>4</th>\n",
       "      <td>4</td>\n",
       "      <td>528.615025</td>\n",
       "      <td>528.568649</td>\n",
       "      <td>7.635</td>\n",
       "      <td>2.485589e+09</td>\n",
       "      <td>476514809.0</td>\n",
       "      <td>1734541.0</td>\n",
       "      <td>1734735.0</td>\n",
       "      <td>80.0</td>\n",
       "      <td>538.0</td>\n",
       "      <td>617847842.0</td>\n",
       "      <td>4826.0</td>\n",
       "      <td>766924105.0</td>\n",
       "      <td>125.0</td>\n",
       "      <td>0.0</td>\n",
       "      <td>438.0</td>\n",
       "    </tr>\n",
       "  </tbody>\n",
       "</table>\n",
       "</div>"
      ],
      "text/plain": [
       "   Unnamed: 0  input_rate  output_rate  latency  bridge_instructions  \\\n",
       "0           0  528.196914   478.690020   17.210         2.289558e+09   \n",
       "1           1  472.009050   528.257677    8.681         2.320473e+09   \n",
       "2           2  527.940551   527.999645    7.770         2.483917e+09   \n",
       "3           3  528.209734   528.260483    8.893         2.480397e+09   \n",
       "4           4  528.615025   528.568649    7.635         2.485589e+09   \n",
       "\n",
       "   bridge_branches  bridge_branch-misses  bridge_branch-load-misses  \\\n",
       "0      454520501.0             1654144.0                  1654091.0   \n",
       "1      446293979.0             1636181.0                  1650041.0   \n",
       "2      489374524.0             1774572.0                  1775378.0   \n",
       "3      488851113.0             1773511.0                  1772958.0   \n",
       "4      476514809.0             1734541.0                  1734735.0   \n",
       "\n",
       "   bridge_cache-misses  bridge_cache-references  bridge_cycles  \\\n",
       "0               2602.0                    715.0    580098756.0   \n",
       "1                 55.0                    658.0    599325346.0   \n",
       "2                 25.0                    469.0    617072261.0   \n",
       "3                 70.0                    507.0    618348096.0   \n",
       "4                 80.0                    538.0    617847842.0   \n",
       "\n",
       "   bridge_L1-dcache-load-misses  bridge_L1-dcache-loads  \\\n",
       "0                        4923.0             720560636.0   \n",
       "1                        4829.0             744629626.0   \n",
       "2                        9282.0             750112301.0   \n",
       "3                        4816.0             769282198.0   \n",
       "4                        4826.0             766924105.0   \n",
       "\n",
       "   bridge_LLC-load-misses  bridge_LLC-stores  bridge_LLC-loads  \n",
       "0                    25.0                0.0            6749.0  \n",
       "1                    63.0                0.0             463.0  \n",
       "2                   113.0                0.0             663.0  \n",
       "3                    13.0               75.0            5776.0  \n",
       "4                   125.0                0.0             438.0  "
      ]
     },
     "execution_count": 111,
     "metadata": {},
     "output_type": "execute_result"
    }
   ],
   "source": [
    "df.head()"
   ]
  },
  {
   "cell_type": "markdown",
   "metadata": {},
   "source": [
    "Note that we are using a pandas dataframe to load the data. At present, DoWhy only supports pandas dataframe as input."
   ]
  },
  {
   "cell_type": "markdown",
   "metadata": {},
   "source": [
    "## Interface 1 (recommended): Input causal graph"
   ]
  },
  {
   "cell_type": "markdown",
   "metadata": {},
   "source": [
    "We now input a causal graph in the GML graph format (recommended). You can also use the DOT format.\n",
    "\n",
    "To create the causal graph for your dataset, you can use a tool like [DAGitty](http://dagitty.net/dags.html#) that provides a GUI to construct the graph. You can export the graph string that it generates. The graph string is very close to the DOT format: just rename `dag` to `digraph`, remove newlines and add a semicolon after every line, to convert it to the DOT format and input to DoWhy. "
   ]
  },
  {
   "cell_type": "markdown",
   "metadata": {},
   "source": [
    "# With graph\n",
    "model=CausalModel(\n",
    "        data = df,\n",
    "        treatment=data[\"treatment_name\"],\n",
    "        outcome=data[\"outcome_name\"],\n",
    "        graph=data[\"gml_graph\"]\n",
    "        )"
   ]
  },
  {
   "cell_type": "code",
   "execution_count": 112,
   "metadata": {},
   "outputs": [],
   "source": [
    "gml = \"\"\"graph[\n",
    "    directed 1\n",
    "    node[ id \"input_rate\" label \"input_rate\"]\n",
    "    node[ id \"output_rate\" label \"output_rate\"]\n",
    "    node[ id \"bridge_cycles\" label \"bridge_cycles\"]\n",
    "    node[ id \"latency\" label \"latency\"]\n",
    "    node[ id \"bridge_L1-dcache-load-misses\" label \"bridge_L1-dcache-load-misses\"]\n",
    "    edge[source \"input_rate\" target \"output_rate\"]\n",
    "    edge[source \"bridge_cycles\" target \"output_rate\"]\n",
    "    edge[source \"bridge_cycles\" target \"latency\"]\n",
    "    edge[source \"input_rate\" target \"latency\"]\n",
    "    edge[source \"input_rate\" target \"bridge_L1-dcache-load-misses\"]\n",
    "    edge[source \"bridge_L1-dcache-load-misses\" target \"output_rate\"]\n",
    "    edge[source \"bridge_L1-dcache-load-misses\" target \"latency\"]\n",
    "]\"\"\""
   ]
  },
  {
   "cell_type": "code",
   "execution_count": 113,
   "metadata": {},
   "outputs": [
    {
     "data": {
      "text/html": [
       "<div>\n",
       "<style scoped>\n",
       "    .dataframe tbody tr th:only-of-type {\n",
       "        vertical-align: middle;\n",
       "    }\n",
       "\n",
       "    .dataframe tbody tr th {\n",
       "        vertical-align: top;\n",
       "    }\n",
       "\n",
       "    .dataframe thead th {\n",
       "        text-align: right;\n",
       "    }\n",
       "</style>\n",
       "<table border=\"1\" class=\"dataframe\">\n",
       "  <thead>\n",
       "    <tr style=\"text-align: right;\">\n",
       "      <th></th>\n",
       "      <th>input_rate</th>\n",
       "      <th>output_rate</th>\n",
       "      <th>latency</th>\n",
       "      <th>bridge_cycles</th>\n",
       "      <th>bridge_L1-dcache-load-misses</th>\n",
       "    </tr>\n",
       "  </thead>\n",
       "  <tbody>\n",
       "    <tr>\n",
       "      <th>0</th>\n",
       "      <td>528.196914</td>\n",
       "      <td>478.690020</td>\n",
       "      <td>17.210</td>\n",
       "      <td>580098756.0</td>\n",
       "      <td>4923.0</td>\n",
       "    </tr>\n",
       "    <tr>\n",
       "      <th>1</th>\n",
       "      <td>472.009050</td>\n",
       "      <td>528.257677</td>\n",
       "      <td>8.681</td>\n",
       "      <td>599325346.0</td>\n",
       "      <td>4829.0</td>\n",
       "    </tr>\n",
       "    <tr>\n",
       "      <th>2</th>\n",
       "      <td>527.940551</td>\n",
       "      <td>527.999645</td>\n",
       "      <td>7.770</td>\n",
       "      <td>617072261.0</td>\n",
       "      <td>9282.0</td>\n",
       "    </tr>\n",
       "    <tr>\n",
       "      <th>3</th>\n",
       "      <td>528.209734</td>\n",
       "      <td>528.260483</td>\n",
       "      <td>8.893</td>\n",
       "      <td>618348096.0</td>\n",
       "      <td>4816.0</td>\n",
       "    </tr>\n",
       "    <tr>\n",
       "      <th>4</th>\n",
       "      <td>528.615025</td>\n",
       "      <td>528.568649</td>\n",
       "      <td>7.635</td>\n",
       "      <td>617847842.0</td>\n",
       "      <td>4826.0</td>\n",
       "    </tr>\n",
       "    <tr>\n",
       "      <th>...</th>\n",
       "      <td>...</td>\n",
       "      <td>...</td>\n",
       "      <td>...</td>\n",
       "      <td>...</td>\n",
       "      <td>...</td>\n",
       "    </tr>\n",
       "    <tr>\n",
       "      <th>944</th>\n",
       "      <td>528.120613</td>\n",
       "      <td>528.378804</td>\n",
       "      <td>4.845</td>\n",
       "      <td>617083039.0</td>\n",
       "      <td>379875.0</td>\n",
       "    </tr>\n",
       "    <tr>\n",
       "      <th>945</th>\n",
       "      <td>527.988512</td>\n",
       "      <td>527.936627</td>\n",
       "      <td>6.928</td>\n",
       "      <td>619019675.0</td>\n",
       "      <td>386194.0</td>\n",
       "    </tr>\n",
       "    <tr>\n",
       "      <th>946</th>\n",
       "      <td>528.272246</td>\n",
       "      <td>528.287872</td>\n",
       "      <td>4.870</td>\n",
       "      <td>619036199.0</td>\n",
       "      <td>372694.0</td>\n",
       "    </tr>\n",
       "    <tr>\n",
       "      <th>947</th>\n",
       "      <td>528.398485</td>\n",
       "      <td>528.284064</td>\n",
       "      <td>4.819</td>\n",
       "      <td>617153462.0</td>\n",
       "      <td>364988.0</td>\n",
       "    </tr>\n",
       "    <tr>\n",
       "      <th>948</th>\n",
       "      <td>527.963735</td>\n",
       "      <td>527.979131</td>\n",
       "      <td>5.082</td>\n",
       "      <td>617555990.0</td>\n",
       "      <td>366089.0</td>\n",
       "    </tr>\n",
       "  </tbody>\n",
       "</table>\n",
       "<p>949 rows × 5 columns</p>\n",
       "</div>"
      ],
      "text/plain": [
       "     input_rate  output_rate  latency  bridge_cycles  \\\n",
       "0    528.196914   478.690020   17.210    580098756.0   \n",
       "1    472.009050   528.257677    8.681    599325346.0   \n",
       "2    527.940551   527.999645    7.770    617072261.0   \n",
       "3    528.209734   528.260483    8.893    618348096.0   \n",
       "4    528.615025   528.568649    7.635    617847842.0   \n",
       "..          ...          ...      ...            ...   \n",
       "944  528.120613   528.378804    4.845    617083039.0   \n",
       "945  527.988512   527.936627    6.928    619019675.0   \n",
       "946  528.272246   528.287872    4.870    619036199.0   \n",
       "947  528.398485   528.284064    4.819    617153462.0   \n",
       "948  527.963735   527.979131    5.082    617555990.0   \n",
       "\n",
       "     bridge_L1-dcache-load-misses  \n",
       "0                          4923.0  \n",
       "1                          4829.0  \n",
       "2                          9282.0  \n",
       "3                          4816.0  \n",
       "4                          4826.0  \n",
       "..                            ...  \n",
       "944                      379875.0  \n",
       "945                      386194.0  \n",
       "946                      372694.0  \n",
       "947                      364988.0  \n",
       "948                      366089.0  \n",
       "\n",
       "[949 rows x 5 columns]"
      ]
     },
     "execution_count": 113,
     "metadata": {},
     "output_type": "execute_result"
    }
   ],
   "source": [
    "data = df[[\"input_rate\", \"output_rate\", \"latency\", \"bridge_cycles\", \"bridge_L1-dcache-load-misses\"]]\n",
    "data"
   ]
  },
  {
   "cell_type": "code",
   "execution_count": 114,
   "metadata": {},
   "outputs": [],
   "source": [
    "model=CausalModel(\n",
    "        data = data,\n",
    "        treatment=[\"input_rate\"],\n",
    "        outcome=\"output_rate\",\n",
    "        graph=gml\n",
    "        )"
   ]
  },
  {
   "cell_type": "code",
   "execution_count": 115,
   "metadata": {},
   "outputs": [
    {
     "data": {
      "image/png": "[encoded data removed]",
      "text/plain": [
       "<Figure size 800x600 with 1 Axes>"
      ]
     },
     "metadata": {},
     "output_type": "display_data"
    }
   ],
   "source": [
    "model.view_model()"
   ]
  },
  {
   "cell_type": "code",
   "execution_count": 116,
   "metadata": {
    "scrolled": true
   },
   "outputs": [
    {
     "data": {
      "image/png": "[encoded data removed]",
      "text/plain": [
       "<IPython.core.display.Image object>"
      ]
     },
     "metadata": {},
     "output_type": "display_data"
    }
   ],
   "source": [
    "from IPython.display import Image, display\n",
    "display(Image(filename=\"causal_model.png\"))"
   ]
  },
  {
   "cell_type": "markdown",
   "metadata": {},
   "source": [
    "The above causal graph shows the assumptions encoded in the causal model. We can now use this graph to first identify \n",
    "the causal effect (go from a causal estimand to a probability expression), and then estimate the causal effect."
   ]
  },
  {
   "cell_type": "markdown",
   "metadata": {},
   "source": [
    "### DoWhy philosophy: Keep identification and estimation separate\n",
    "\n",
    "Identification can be achieved without access to the data, acccesing only the graph. This results in an expression to be computed. This expression can then be evaluated using the available data in the estimation step.\n",
    "It is important to understand that these are orthogonal steps.\n",
    "\n",
    "#### Identification"
   ]
  },
  {
   "cell_type": "code",
   "execution_count": 117,
   "metadata": {},
   "outputs": [
    {
     "name": "stdout",
     "output_type": "stream",
     "text": [
      "Estimand type: EstimandType.NONPARAMETRIC_ATE\n",
      "\n",
      "### Estimand : 1\n",
      "Estimand name: backdoor\n",
      "Estimand expression:\n",
      "     d                     \n",
      "────────────(E[outputᵣₐₜₑ])\n",
      "d[inputᵣₐₜₑ]               \n",
      "Estimand assumption 1, Unconfoundedness: If U→{input_rate} and U→output_rate then P(output_rate|input_rate,,U) = P(output_rate|input_rate,)\n",
      "\n",
      "### Estimand : 2\n",
      "Estimand name: iv\n",
      "No such variable(s) found!\n",
      "\n",
      "### Estimand : 3\n",
      "Estimand name: frontdoor\n",
      "No such variable(s) found!\n",
      "\n"
     ]
    }
   ],
   "source": [
    "identified_estimand = model.identify_effect(proceed_when_unidentifiable=True)\n",
    "print(identified_estimand)"
   ]
  },
  {
   "cell_type": "markdown",
   "metadata": {},
   "source": [
    "Note the parameter flag *proceed\\_when\\_unidentifiable*. It needs to be set to *True* to convey the assumption that we are ignoring any unobserved confounding. The default behavior is to prompt the user to double-check that the unobserved confounders can be ignored. "
   ]
  },
  {
   "cell_type": "markdown",
   "metadata": {},
   "source": [
    "#### Estimation"
   ]
  },
  {
   "cell_type": "code",
   "execution_count": 118,
   "metadata": {
    "scrolled": true
   },
   "outputs": [
    {
     "name": "stdout",
     "output_type": "stream",
     "text": [
      "*** Causal Estimate ***\n",
      "\n",
      "## Identified estimand\n",
      "Estimand type: EstimandType.NONPARAMETRIC_ATE\n",
      "\n",
      "### Estimand : 1\n",
      "Estimand name: backdoor\n",
      "Estimand expression:\n",
      "     d                     \n",
      "────────────(E[outputᵣₐₜₑ])\n",
      "d[inputᵣₐₜₑ]               \n",
      "Estimand assumption 1, Unconfoundedness: If U→{input_rate} and U→output_rate then P(output_rate|input_rate,,U) = P(output_rate|input_rate,)\n",
      "\n",
      "## Realized estimand\n",
      "b: output_rate~input_rate+input_rate*bridge_cycles\n",
      "Target units: ate\n",
      "\n",
      "## Estimate\n",
      "Mean value: 0.9915458079237514\n",
      "\n"
     ]
    }
   ],
   "source": [
    "causal_estimate = model.estimate_effect(identified_estimand,\n",
    "        method_name=\"backdoor.linear_regression\")\n",
    "print(causal_estimate)"
   ]
  },
  {
   "cell_type": "markdown",
   "metadata": {},
   "source": [
    "You can input additional parameters to the estimate_effect method. For instance, to estimate the effect on any subset of the units, you can specify the \"target_units\" parameter which can be a string (\"ate\", \"att\", or \"atc\"), lambda function that filters rows of the data frame, or a new dataframe on which to compute the effect. You can also specify \"effect modifiers\" to estimate heterogeneous effects across these variables. See `help(CausalModel.estimate_effect)`. "
   ]
  },
  {
   "cell_type": "code",
   "execution_count": 119,
   "metadata": {},
   "outputs": [
    {
     "name": "stdout",
     "output_type": "stream",
     "text": [
      "*** Causal Estimate ***\n",
      "\n",
      "## Identified estimand\n",
      "Estimand type: EstimandType.NONPARAMETRIC_ATE\n",
      "\n",
      "### Estimand : 1\n",
      "Estimand name: backdoor\n",
      "Estimand expression:\n",
      "     d                     \n",
      "────────────(E[outputᵣₐₜₑ])\n",
      "d[inputᵣₐₜₑ]               \n",
      "Estimand assumption 1, Unconfoundedness: If U→{input_rate} and U→output_rate then P(output_rate|input_rate,,U) = P(output_rate|input_rate,)\n",
      "\n",
      "## Realized estimand\n",
      "b: output_rate~input_rate+input_rate*bridge_cycles\n",
      "Target units: atc\n",
      "\n",
      "## Estimate\n",
      "Mean value: 0.9915458079237514\n",
      "\n",
      "Causal Estimate is 0.9915458079237514\n"
     ]
    }
   ],
   "source": [
    "# Causal effect on the control group (ATC)\n",
    "causal_estimate_att = model.estimate_effect(identified_estimand,\n",
    "        method_name=\"backdoor.linear_regression\",\n",
    "        target_units=\"atc\")\n",
    "\n",
    "print(causal_estimate_att)\n",
    "print(\"Causal Estimate is \" + str(causal_estimate_att.value))"
   ]
  },
  {
   "cell_type": "code",
   "execution_count": 120,
   "metadata": {},
   "outputs": [
    {
     "data": {
      "image/png": "[encoded data removed]",
      "text/latex": [
       "$\\displaystyle 0.99877619946551$"
      ],
      "text/plain": [
       "0.9987761994655104"
      ]
     },
     "execution_count": 120,
     "metadata": {},
     "output_type": "execute_result"
    }
   ],
   "source": [
    "df[\"input_rate\"].corr(df[\"output_rate\"])"
   ]
  },
  {
   "cell_type": "code",
   "execution_count": null,
   "metadata": {},
   "outputs": [],
   "source": []
  },
  {
   "cell_type": "code",
   "execution_count": null,
   "metadata": {},
   "outputs": [],
   "source": []
  },
  {
   "cell_type": "code",
   "execution_count": 121,
   "metadata": {},
   "outputs": [
    {
     "data": {
      "text/html": [
       "<div>\n",
       "<style scoped>\n",
       "    .dataframe tbody tr th:only-of-type {\n",
       "        vertical-align: middle;\n",
       "    }\n",
       "\n",
       "    .dataframe tbody tr th {\n",
       "        vertical-align: top;\n",
       "    }\n",
       "\n",
       "    .dataframe thead th {\n",
       "        text-align: right;\n",
       "    }\n",
       "</style>\n",
       "<table border=\"1\" class=\"dataframe\">\n",
       "  <thead>\n",
       "    <tr style=\"text-align: right;\">\n",
       "      <th></th>\n",
       "      <th>input_rate</th>\n",
       "      <th>output_rate</th>\n",
       "      <th>latency</th>\n",
       "      <th>l2fwd_cycles</th>\n",
       "      <th>l2fwd_L1-dcache-load-misses</th>\n",
       "    </tr>\n",
       "  </thead>\n",
       "  <tbody>\n",
       "    <tr>\n",
       "      <th>0</th>\n",
       "      <td>7795.167880</td>\n",
       "      <td>5915.233979</td>\n",
       "      <td>13.485</td>\n",
       "      <td>580276770.0</td>\n",
       "      <td>14180.0</td>\n",
       "    </tr>\n",
       "    <tr>\n",
       "      <th>1</th>\n",
       "      <td>1209.088695</td>\n",
       "      <td>1350.851859</td>\n",
       "      <td>97.427</td>\n",
       "      <td>582654104.0</td>\n",
       "      <td>10561.0</td>\n",
       "    </tr>\n",
       "    <tr>\n",
       "      <th>2</th>\n",
       "      <td>2241.721515</td>\n",
       "      <td>2895.546122</td>\n",
       "      <td>58.294</td>\n",
       "      <td>617729279.0</td>\n",
       "      <td>5964.0</td>\n",
       "    </tr>\n",
       "    <tr>\n",
       "      <th>3</th>\n",
       "      <td>8173.779417</td>\n",
       "      <td>8002.005638</td>\n",
       "      <td>8.950</td>\n",
       "      <td>617765006.0</td>\n",
       "      <td>6093.0</td>\n",
       "    </tr>\n",
       "    <tr>\n",
       "      <th>4</th>\n",
       "      <td>6270.170190</td>\n",
       "      <td>5750.337259</td>\n",
       "      <td>15.290</td>\n",
       "      <td>615501307.0</td>\n",
       "      <td>10715.0</td>\n",
       "    </tr>\n",
       "    <tr>\n",
       "      <th>...</th>\n",
       "      <td>...</td>\n",
       "      <td>...</td>\n",
       "      <td>...</td>\n",
       "      <td>...</td>\n",
       "      <td>...</td>\n",
       "    </tr>\n",
       "    <tr>\n",
       "      <th>995</th>\n",
       "      <td>2510.830532</td>\n",
       "      <td>2686.797103</td>\n",
       "      <td>7.235</td>\n",
       "      <td>615959004.0</td>\n",
       "      <td>2890398.0</td>\n",
       "    </tr>\n",
       "    <tr>\n",
       "      <th>996</th>\n",
       "      <td>4178.571154</td>\n",
       "      <td>4155.320534</td>\n",
       "      <td>10.317</td>\n",
       "      <td>614911972.0</td>\n",
       "      <td>3080547.0</td>\n",
       "    </tr>\n",
       "    <tr>\n",
       "      <th>997</th>\n",
       "      <td>4520.757829</td>\n",
       "      <td>5055.422286</td>\n",
       "      <td>8.013</td>\n",
       "      <td>618969976.0</td>\n",
       "      <td>3635628.0</td>\n",
       "    </tr>\n",
       "    <tr>\n",
       "      <th>998</th>\n",
       "      <td>9172.273873</td>\n",
       "      <td>8783.775462</td>\n",
       "      <td>41.033</td>\n",
       "      <td>618929489.0</td>\n",
       "      <td>3152962.0</td>\n",
       "    </tr>\n",
       "    <tr>\n",
       "      <th>999</th>\n",
       "      <td>5808.762572</td>\n",
       "      <td>6113.004855</td>\n",
       "      <td>5.696</td>\n",
       "      <td>617029518.0</td>\n",
       "      <td>2994988.0</td>\n",
       "    </tr>\n",
       "  </tbody>\n",
       "</table>\n",
       "<p>1000 rows × 5 columns</p>\n",
       "</div>"
      ],
      "text/plain": [
       "      input_rate  output_rate  latency  l2fwd_cycles  \\\n",
       "0    7795.167880  5915.233979   13.485   580276770.0   \n",
       "1    1209.088695  1350.851859   97.427   582654104.0   \n",
       "2    2241.721515  2895.546122   58.294   617729279.0   \n",
       "3    8173.779417  8002.005638    8.950   617765006.0   \n",
       "4    6270.170190  5750.337259   15.290   615501307.0   \n",
       "..           ...          ...      ...           ...   \n",
       "995  2510.830532  2686.797103    7.235   615959004.0   \n",
       "996  4178.571154  4155.320534   10.317   614911972.0   \n",
       "997  4520.757829  5055.422286    8.013   618969976.0   \n",
       "998  9172.273873  8783.775462   41.033   618929489.0   \n",
       "999  5808.762572  6113.004855    5.696   617029518.0   \n",
       "\n",
       "     l2fwd_L1-dcache-load-misses  \n",
       "0                        14180.0  \n",
       "1                        10561.0  \n",
       "2                         5964.0  \n",
       "3                         6093.0  \n",
       "4                        10715.0  \n",
       "..                           ...  \n",
       "995                    2890398.0  \n",
       "996                    3080547.0  \n",
       "997                    3635628.0  \n",
       "998                    3152962.0  \n",
       "999                    2994988.0  \n",
       "\n",
       "[1000 rows x 5 columns]"
      ]
     },
     "execution_count": 121,
     "metadata": {},
     "output_type": "execute_result"
    }
   ],
   "source": [
    "df = pd.read_csv(\"l2fwd_random_load.csv\")\n",
    "\n",
    "gml = \"\"\"graph[\n",
    "    directed 1\n",
    "    node[ id \"input_rate\" label \"input_rate\"]\n",
    "    node[ id \"output_rate\" label \"output_rate\"]\n",
    "    node[ id \"l2fwd_cycles\" label \"l2fwd_cycles\"]\n",
    "    node[ id \"latency\" label \"latency\"]\n",
    "    node[ id \"l2fwd_L1-dcache-load-misses\" label \"l2fwd_L1-dcache-load-misses\"]\n",
    "    edge[source \"input_rate\" target \"output_rate\"]\n",
    "    edge[source \"l2fwd_cycles\" target \"output_rate\"]\n",
    "    edge[source \"l2fwd_cycles\" target \"latency\"]\n",
    "    edge[source \"input_rate\" target \"latency\"]\n",
    "    edge[source \"input_rate\" target \"l2fwd_L1-dcache-load-misses\"]\n",
    "    edge[source \"l2fwd_L1-dcache-load-misses\" target \"output_rate\"]\n",
    "    edge[source \"l2fwd_L1-dcache-load-misses\" target \"latency\"]\n",
    "]\"\"\"\n",
    "\n",
    "data = df[[\"input_rate\", \"output_rate\", \"latency\", \"l2fwd_cycles\", \"l2fwd_L1-dcache-load-misses\"]]\n",
    "data"
   ]
  },
  {
   "cell_type": "code",
   "execution_count": 122,
   "metadata": {},
   "outputs": [
    {
     "data": {
      "image/png": "[encoded data removed]",
      "text/plain": [
       "<Figure size 800x600 with 1 Axes>"
      ]
     },
     "metadata": {},
     "output_type": "display_data"
    }
   ],
   "source": [
    "model=CausalModel(\n",
    "        data = data,\n",
    "        treatment=[\"input_rate\"],\n",
    "        outcome=\"output_rate\",\n",
    "        graph=gml\n",
    "        )\n",
    "model.view_model()"
   ]
  },
  {
   "cell_type": "code",
   "execution_count": 123,
   "metadata": {},
   "outputs": [
    {
     "name": "stdout",
     "output_type": "stream",
     "text": [
      "Estimand type: EstimandType.NONPARAMETRIC_ATE\n",
      "\n",
      "### Estimand : 1\n",
      "Estimand name: backdoor\n",
      "Estimand expression:\n",
      "     d                     \n",
      "────────────(E[outputᵣₐₜₑ])\n",
      "d[inputᵣₐₜₑ]               \n",
      "Estimand assumption 1, Unconfoundedness: If U→{input_rate} and U→output_rate then P(output_rate|input_rate,,U) = P(output_rate|input_rate,)\n",
      "\n",
      "### Estimand : 2\n",
      "Estimand name: iv\n",
      "No such variable(s) found!\n",
      "\n",
      "### Estimand : 3\n",
      "Estimand name: frontdoor\n",
      "No such variable(s) found!\n",
      "\n"
     ]
    }
   ],
   "source": [
    "identified_estimand = model.identify_effect(proceed_when_unidentifiable=True)\n",
    "print(identified_estimand)"
   ]
  },
  {
   "cell_type": "code",
   "execution_count": 124,
   "metadata": {},
   "outputs": [
    {
     "name": "stdout",
     "output_type": "stream",
     "text": [
      "*** Causal Estimate ***\n",
      "\n",
      "## Identified estimand\n",
      "Estimand type: EstimandType.NONPARAMETRIC_ATE\n",
      "\n",
      "### Estimand : 1\n",
      "Estimand name: backdoor\n",
      "Estimand expression:\n",
      "     d                     \n",
      "────────────(E[outputᵣₐₜₑ])\n",
      "d[inputᵣₐₜₑ]               \n",
      "Estimand assumption 1, Unconfoundedness: If U→{input_rate} and U→output_rate then P(output_rate|input_rate,,U) = P(output_rate|input_rate,)\n",
      "\n",
      "## Realized estimand\n",
      "b: output_rate~input_rate+input_rate*l2fwd_cycles\n",
      "Target units: ate\n",
      "\n",
      "## Estimate\n",
      "Mean value: 0.8931703417659946\n",
      "\n"
     ]
    }
   ],
   "source": [
    "causal_estimate = model.estimate_effect(identified_estimand,\n",
    "        method_name=\"backdoor.linear_regression\")\n",
    "print(causal_estimate)"
   ]
  },
  {
   "cell_type": "code",
   "execution_count": 128,
   "metadata": {},
   "outputs": [
    {
     "data": {
      "image/png": "[encoded data removed]",
      "text/latex": [
       "$\\displaystyle 0.991399715600095$"
      ],
      "text/plain": [
       "0.9913997156000945"
      ]
     },
     "execution_count": 128,
     "metadata": {},
     "output_type": "execute_result"
    }
   ],
   "source": [
    "df[\"input_rate\"].corr(df[\"output_rate\"], method=\"pearson\")"
   ]
  },
  {
   "cell_type": "code",
   "execution_count": 126,
   "metadata": {},
   "outputs": [
    {
     "data": {
      "image/png": "[encoded data removed]",
      "text/latex": [
       "$\\displaystyle 0.918122122122122$"
      ],
      "text/plain": [
       "0.9181221221221222"
      ]
     },
     "execution_count": 126,
     "metadata": {},
     "output_type": "execute_result"
    }
   ],
   "source": [
    "df[\"input_rate\"].corr(df[\"output_rate\"], method=\"kendall\")"
   ]
  },
  {
   "cell_type": "code",
   "execution_count": 127,
   "metadata": {},
   "outputs": [
    {
     "data": {
      "image/png": "[encoded data removed]",
      "text/latex": [
       "$\\displaystyle 0.99147715947716$"
      ],
      "text/plain": [
       "0.9914771594771596"
      ]
     },
     "execution_count": 127,
     "metadata": {},
     "output_type": "execute_result"
    }
   ],
   "source": [
    "df[\"input_rate\"].corr(df[\"output_rate\"], method=\"spearman\")"
   ]
  },
  {
   "cell_type": "code",
   "execution_count": 130,
   "metadata": {},
   "outputs": [
    {
     "data": {
      "image/png": "[encoded data removed]",
      "text/latex": [
       "$\\displaystyle -0.0427485534103758$"
      ],
      "text/plain": [
       "-0.04274855341037578"
      ]
     },
     "execution_count": 130,
     "metadata": {},
     "output_type": "execute_result"
    }
   ],
   "source": [
    "df[\"input_rate\"].corr(df[\"latency\"])"
   ]
  },
  {
   "cell_type": "code",
   "execution_count": 131,
   "metadata": {},
   "outputs": [
    {
     "data": {
      "image/png": "[encoded data removed]",
      "text/latex": [
       "$\\displaystyle -0.00382808840727898$"
      ],
      "text/plain": [
       "-0.003828088407278977"
      ]
     },
     "execution_count": 131,
     "metadata": {},
     "output_type": "execute_result"
    }
   ],
   "source": [
    "df[\"input_rate\"].corr(df[\"latency\"], method=\"kendall\")"
   ]
  },
  {
   "cell_type": "code",
   "execution_count": 132,
   "metadata": {},
   "outputs": [
    {
     "data": {
      "image/png": "[encoded data removed]",
      "text/latex": [
       "$\\displaystyle -0.00630244362595693$"
      ],
      "text/plain": [
       "-0.0063024436259569265"
      ]
     },
     "execution_count": 132,
     "metadata": {},
     "output_type": "execute_result"
    }
   ],
   "source": [
    "df[\"input_rate\"].corr(df[\"latency\"], method=\"spearman\")"
   ]
  }
 ],
 "metadata": {
  "kernelspec": {
   "display_name": "Python 3 (ipykernel)",
   "language": "python",
   "name": "python3"
  },
  "language_info": {
   "codemirror_mode": {
    "name": "ipython",
    "version": 3
   },
   "file_extension": ".py",
   "mimetype": "text/x-python",
   "name": "python",
   "nbconvert_exporter": "python",
   "pygments_lexer": "ipython3",
   "version": "3.8.15"
  },
  "toc": {
   "base_numbering": 1,
   "nav_menu": {},
   "number_sections": false,
   "sideBar": true,
   "skip_h1_title": true,
   "title_cell": "Table of Contents",
   "title_sidebar": "Contents",
   "toc_cell": false,
   "toc_position": {},
   "toc_section_display": true,
   "toc_window_display": false
  }
 },
 "nbformat": 4,
 "nbformat_minor": 4
}
