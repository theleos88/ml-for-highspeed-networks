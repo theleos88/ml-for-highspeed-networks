{
 "cells": [
  {
   "cell_type": "markdown",
   "metadata": {},
   "source": [
    "# Basic Example for Calculating the Causal Effect\n",
    "This is a quick introduction to the DoWhy causal inference library.\n",
    "We will load in a sample dataset and estimate the causal effect of a (pre-specified) treatment variable on a (pre-specified) outcome variable.\n",
    "\n",
    "First, let us load all required packages."
   ]
  },
  {
   "cell_type": "code",
<<<<<<< HEAD
   "execution_count": 27,
=======
   "execution_count": 19,
>>>>>>> 64d6841c1ec2f8c60bd4e882fd7474bdf8eaf760
   "metadata": {},
   "outputs": [],
   "source": [
    "import numpy as np\n",
    "\n",
    "from dowhy import CausalModel\n",
    "import dowhy.datasets "
   ]
  },
  {
   "cell_type": "markdown",
   "metadata": {},
   "source": [
    "Now, let us load a dataset. For simplicity, we simulate a dataset with linear relationships between common causes and treatment, and common causes and outcome. \n",
    "\n",
    "Beta is the true causal effect. "
   ]
  },
  {
   "cell_type": "markdown",
   "metadata": {},
   "source": [
    "data = dowhy.datasets.linear_dataset(beta=10,\n",
    "        num_common_causes=5,\n",
    "        num_instruments = 2,\n",
    "        num_effect_modifiers=1,\n",
    "        num_samples=5000, \n",
    "        treatment_is_binary=True,\n",
    "        stddev_treatment_noise=10,\n",
    "        num_discrete_common_causes=1)\n",
    "df = data[\"df\"]"
   ]
  },
  {
   "cell_type": "code",
<<<<<<< HEAD
   "execution_count": 28,
=======
   "execution_count": 20,
>>>>>>> 64d6841c1ec2f8c60bd4e882fd7474bdf8eaf760
   "metadata": {},
   "outputs": [],
   "source": [
    "import pandas as pd"
   ]
  },
  {
   "cell_type": "code",
<<<<<<< HEAD
   "execution_count": 29,
=======
   "execution_count": 21,
>>>>>>> 64d6841c1ec2f8c60bd4e882fd7474bdf8eaf760
   "metadata": {},
   "outputs": [],
   "source": [
    "df = pd.read_csv(\"bridge_random_load.csv\")"
   ]
  },
  {
   "cell_type": "code",
<<<<<<< HEAD
   "execution_count": 35,
=======
   "execution_count": 22,
>>>>>>> 64d6841c1ec2f8c60bd4e882fd7474bdf8eaf760
   "metadata": {},
   "outputs": [
    {
     "data": {
      "text/html": [
       "<div>\n",
       "<style scoped>\n",
       "    .dataframe tbody tr th:only-of-type {\n",
       "        vertical-align: middle;\n",
       "    }\n",
       "\n",
       "    .dataframe tbody tr th {\n",
       "        vertical-align: top;\n",
       "    }\n",
       "\n",
       "    .dataframe thead th {\n",
       "        text-align: right;\n",
       "    }\n",
       "</style>\n",
       "<table border=\"1\" class=\"dataframe\">\n",
       "  <thead>\n",
       "    <tr style=\"text-align: right;\">\n",
       "      <th></th>\n",
       "      <th>Unnamed: 0</th>\n",
       "      <th>input_rate</th>\n",
       "      <th>output_rate</th>\n",
       "      <th>latency</th>\n",
       "      <th>bridge_instructions</th>\n",
       "      <th>bridge_branches</th>\n",
       "      <th>bridge_branch-misses</th>\n",
       "      <th>bridge_branch-load-misses</th>\n",
       "      <th>bridge_cache-misses</th>\n",
       "      <th>bridge_cache-references</th>\n",
       "      <th>bridge_cycles</th>\n",
       "      <th>bridge_L1-dcache-load-misses</th>\n",
       "      <th>bridge_L1-dcache-loads</th>\n",
       "      <th>bridge_LLC-load-misses</th>\n",
       "      <th>bridge_LLC-stores</th>\n",
       "      <th>bridge_LLC-loads</th>\n",
       "    </tr>\n",
       "  </thead>\n",
       "  <tbody>\n",
       "    <tr>\n",
       "      <th>0</th>\n",
       "      <td>0</td>\n",
       "      <td>7795.167880</td>\n",
       "      <td>5915.233979</td>\n",
       "      <td>58.294</td>\n",
       "      <td>2.291128e+09</td>\n",
       "      <td>454226909.0</td>\n",
       "      <td>1654594.0</td>\n",
       "      <td>1655899.0</td>\n",
       "      <td>2479.0</td>\n",
       "      <td>790.0</td>\n",
       "      <td>580165483.0</td>\n",
       "      <td>8853.0</td>\n",
       "      <td>696026591.0</td>\n",
       "      <td>63.0</td>\n",
       "      <td>238.0</td>\n",
       "      <td>514.0</td>\n",
       "    </tr>\n",
       "    <tr>\n",
       "      <th>1</th>\n",
       "      <td>1</td>\n",
       "      <td>1209.088695</td>\n",
       "      <td>1350.851859</td>\n",
       "      <td>8.950</td>\n",
       "      <td>2.414436e+09</td>\n",
       "      <td>475364782.0</td>\n",
       "      <td>1722943.0</td>\n",
       "      <td>1719518.0</td>\n",
       "      <td>10.0</td>\n",
       "      <td>520.0</td>\n",
       "      <td>599510440.0</td>\n",
       "      <td>4684.0</td>\n",
       "      <td>744607331.0</td>\n",
       "      <td>63.0</td>\n",
       "      <td>0.0</td>\n",
       "      <td>476.0</td>\n",
       "    </tr>\n",
       "    <tr>\n",
       "      <th>2</th>\n",
       "      <td>2</td>\n",
       "      <td>2241.721515</td>\n",
       "      <td>2895.546122</td>\n",
       "      <td>15.290</td>\n",
       "      <td>2.386295e+09</td>\n",
       "      <td>475728248.0</td>\n",
       "      <td>1729789.0</td>\n",
       "      <td>1772060.0</td>\n",
       "      <td>55.0</td>\n",
       "      <td>3749.0</td>\n",
       "      <td>617035461.0</td>\n",
       "      <td>5198.0</td>\n",
       "      <td>769043890.0</td>\n",
       "      <td>50.0</td>\n",
       "      <td>0.0</td>\n",
       "      <td>438.0</td>\n",
       "    </tr>\n",
       "    <tr>\n",
       "      <th>3</th>\n",
       "      <td>3</td>\n",
       "      <td>8173.779417</td>\n",
       "      <td>8002.005638</td>\n",
       "      <td>9.626</td>\n",
       "      <td>2.484589e+09</td>\n",
       "      <td>488772169.0</td>\n",
       "      <td>1772178.0</td>\n",
       "      <td>1773375.0</td>\n",
       "      <td>5.0</td>\n",
       "      <td>469.0</td>\n",
       "      <td>619069881.0</td>\n",
       "      <td>9027.0</td>\n",
       "      <td>749891817.0</td>\n",
       "      <td>0.0</td>\n",
       "      <td>213.0</td>\n",
       "      <td>463.0</td>\n",
       "    </tr>\n",
       "    <tr>\n",
       "      <th>4</th>\n",
       "      <td>4</td>\n",
       "      <td>6270.170190</td>\n",
       "      <td>5750.337259</td>\n",
       "      <td>9.635</td>\n",
       "      <td>2.475942e+09</td>\n",
       "      <td>488087869.0</td>\n",
       "      <td>1770739.0</td>\n",
       "      <td>1770211.0</td>\n",
       "      <td>0.0</td>\n",
       "      <td>676.0</td>\n",
       "      <td>618831504.0</td>\n",
       "      <td>4911.0</td>\n",
       "      <td>767836104.0</td>\n",
       "      <td>0.0</td>\n",
       "      <td>0.0</td>\n",
       "      <td>488.0</td>\n",
       "    </tr>\n",
       "  </tbody>\n",
       "</table>\n",
       "</div>"
      ],
      "text/plain": [
       "   Unnamed: 0   input_rate  output_rate  latency  bridge_instructions  \\\n",
       "0           0  7795.167880  5915.233979   58.294         2.291128e+09   \n",
       "1           1  1209.088695  1350.851859    8.950         2.414436e+09   \n",
       "2           2  2241.721515  2895.546122   15.290         2.386295e+09   \n",
       "3           3  8173.779417  8002.005638    9.626         2.484589e+09   \n",
       "4           4  6270.170190  5750.337259    9.635         2.475942e+09   \n",
       "\n",
       "   bridge_branches  bridge_branch-misses  bridge_branch-load-misses  \\\n",
       "0      454226909.0             1654594.0                  1655899.0   \n",
       "1      475364782.0             1722943.0                  1719518.0   \n",
       "2      475728248.0             1729789.0                  1772060.0   \n",
       "3      488772169.0             1772178.0                  1773375.0   \n",
       "4      488087869.0             1770739.0                  1770211.0   \n",
       "\n",
       "   bridge_cache-misses  bridge_cache-references  bridge_cycles  \\\n",
       "0               2479.0                    790.0    580165483.0   \n",
       "1                 10.0                    520.0    599510440.0   \n",
       "2                 55.0                   3749.0    617035461.0   \n",
       "3                  5.0                    469.0    619069881.0   \n",
       "4                  0.0                    676.0    618831504.0   \n",
       "\n",
       "   bridge_L1-dcache-load-misses  bridge_L1-dcache-loads  \\\n",
       "0                        8853.0             696026591.0   \n",
       "1                        4684.0             744607331.0   \n",
       "2                        5198.0             769043890.0   \n",
       "3                        9027.0             749891817.0   \n",
       "4                        4911.0             767836104.0   \n",
       "\n",
       "   bridge_LLC-load-misses  bridge_LLC-stores  bridge_LLC-loads  \n",
       "0                    63.0              238.0             514.0  \n",
       "1                    63.0                0.0             476.0  \n",
       "2                    50.0                0.0             438.0  \n",
       "3                     0.0              213.0             463.0  \n",
       "4                     0.0                0.0             488.0  "
      ]
     },
<<<<<<< HEAD
     "execution_count": 35,
=======
     "execution_count": 22,
>>>>>>> 64d6841c1ec2f8c60bd4e882fd7474bdf8eaf760
     "metadata": {},
     "output_type": "execute_result"
    }
   ],
   "source": [
    "df.head()"
   ]
  },
  {
   "cell_type": "markdown",
   "metadata": {},
   "source": [
    "Note that we are using a pandas dataframe to load the data. At present, DoWhy only supports pandas dataframe as input."
   ]
  },
  {
   "cell_type": "markdown",
   "metadata": {},
   "source": [
    "## Interface 1 (recommended): Input causal graph"
   ]
  },
  {
   "cell_type": "markdown",
   "metadata": {},
   "source": [
    "We now input a causal graph in the GML graph format (recommended). You can also use the DOT format.\n",
    "\n",
    "To create the causal graph for your dataset, you can use a tool like [DAGitty](http://dagitty.net/dags.html#) that provides a GUI to construct the graph. You can export the graph string that it generates. The graph string is very close to the DOT format: just rename `dag` to `digraph`, remove newlines and add a semicolon after every line, to convert it to the DOT format and input to DoWhy. "
   ]
  },
  {
   "cell_type": "markdown",
   "metadata": {},
   "source": [
    "# With graph\n",
    "model=CausalModel(\n",
    "        data = df,\n",
    "        treatment=data[\"treatment_name\"],\n",
    "        outcome=data[\"outcome_name\"],\n",
    "        graph=data[\"gml_graph\"]\n",
    "        )"
   ]
  },
  {
   "cell_type": "code",
<<<<<<< HEAD
   "execution_count": 41,
=======
   "execution_count": 23,
>>>>>>> 64d6841c1ec2f8c60bd4e882fd7474bdf8eaf760
   "metadata": {},
   "outputs": [],
   "source": [
    "gml = \"\"\"\n",
    "graph[\n",
    "    directed 1\n",
    "    node[ id \"input_rate\" label \"input_rate\"]\n",
    "    node[ id \"output_rate\" label \"output_rate\"]\n",
    "    node[ id \"bridge_cycles\" label \"bridge_cycles\"]\n",
    "    node[ id \"latency\" label \"latency\"]\n",
    "    node[ id \"bridge_L1-dcache-load-misses\" label \"bridge_L1-dcache-load-misses\"]\n",
    "    edge[source \"input_rate\" target \"output_rate\"]\n",
    "    edge[source \"bridge_cycles\" target \"output_rate\"]\n",
    "    edge[source \"bridge_cycles\" target \"latency\"]\n",
    "    edge[source \"input_rate\" target \"latency\"]\n",
    "    edge[source \"input_rate\" target \"bridge_L1-dcache-load-misses\"]\n",
    "    edge[source \"bridge_L1-dcache-load-misses\" target \"output_rate\"]\n",
    "    edge[source \"bridge_L1-dcache-load-misses\" target \"latency\"]\n",
    "]\"\"\""
   ]
  },
  {
   "cell_type": "code",
<<<<<<< HEAD
   "execution_count": 37,
=======
   "execution_count": 24,
>>>>>>> 64d6841c1ec2f8c60bd4e882fd7474bdf8eaf760
   "metadata": {},
   "outputs": [
    {
     "data": {
      "text/html": [
       "<div>\n",
       "<style scoped>\n",
       "    .dataframe tbody tr th:only-of-type {\n",
       "        vertical-align: middle;\n",
       "    }\n",
       "\n",
       "    .dataframe tbody tr th {\n",
       "        vertical-align: top;\n",
       "    }\n",
       "\n",
       "    .dataframe thead th {\n",
       "        text-align: right;\n",
       "    }\n",
       "</style>\n",
       "<table border=\"1\" class=\"dataframe\">\n",
       "  <thead>\n",
       "    <tr style=\"text-align: right;\">\n",
       "      <th></th>\n",
       "      <th>input_rate</th>\n",
       "      <th>output_rate</th>\n",
       "      <th>latency</th>\n",
       "      <th>bridge_cycles</th>\n",
       "      <th>bridge_L1-dcache-load-misses</th>\n",
       "    </tr>\n",
       "  </thead>\n",
       "  <tbody>\n",
       "    <tr>\n",
       "      <th>0</th>\n",
       "      <td>7795.167880</td>\n",
       "      <td>5915.233979</td>\n",
       "      <td>58.294</td>\n",
       "      <td>580165483.0</td>\n",
       "      <td>8853.0</td>\n",
       "    </tr>\n",
       "    <tr>\n",
       "      <th>1</th>\n",
       "      <td>1209.088695</td>\n",
       "      <td>1350.851859</td>\n",
       "      <td>8.950</td>\n",
       "      <td>599510440.0</td>\n",
       "      <td>4684.0</td>\n",
       "    </tr>\n",
       "    <tr>\n",
       "      <th>2</th>\n",
       "      <td>2241.721515</td>\n",
       "      <td>2895.546122</td>\n",
       "      <td>15.290</td>\n",
       "      <td>617035461.0</td>\n",
       "      <td>5198.0</td>\n",
       "    </tr>\n",
       "    <tr>\n",
       "      <th>3</th>\n",
       "      <td>8173.779417</td>\n",
       "      <td>8002.005638</td>\n",
       "      <td>9.626</td>\n",
       "      <td>619069881.0</td>\n",
       "      <td>9027.0</td>\n",
       "    </tr>\n",
       "    <tr>\n",
       "      <th>4</th>\n",
       "      <td>6270.170190</td>\n",
       "      <td>5750.337259</td>\n",
       "      <td>9.635</td>\n",
       "      <td>618831504.0</td>\n",
       "      <td>4911.0</td>\n",
       "    </tr>\n",
       "    <tr>\n",
       "      <th>...</th>\n",
       "      <td>...</td>\n",
       "      <td>...</td>\n",
       "      <td>...</td>\n",
       "      <td>...</td>\n",
       "      <td>...</td>\n",
       "    </tr>\n",
       "    <tr>\n",
       "      <th>995</th>\n",
       "      <td>2510.830532</td>\n",
       "      <td>2686.797103</td>\n",
       "      <td>8.013</td>\n",
       "      <td>618973214.0</td>\n",
       "      <td>3104775.0</td>\n",
       "    </tr>\n",
       "    <tr>\n",
       "      <th>996</th>\n",
       "      <td>4178.571154</td>\n",
       "      <td>4155.320534</td>\n",
       "      <td>41.033</td>\n",
       "      <td>558995805.0</td>\n",
       "      <td>3413623.0</td>\n",
       "    </tr>\n",
       "    <tr>\n",
       "      <th>997</th>\n",
       "      <td>4520.757829</td>\n",
       "      <td>5055.422286</td>\n",
       "      <td>5.696</td>\n",
       "      <td>618970641.0</td>\n",
       "      <td>3448345.0</td>\n",
       "    </tr>\n",
       "    <tr>\n",
       "      <th>998</th>\n",
       "      <td>9172.273873</td>\n",
       "      <td>8783.775462</td>\n",
       "      <td>15.869</td>\n",
       "      <td>618949834.0</td>\n",
       "      <td>3025666.0</td>\n",
       "    </tr>\n",
       "    <tr>\n",
       "      <th>999</th>\n",
       "      <td>5808.762572</td>\n",
       "      <td>6113.004855</td>\n",
       "      <td>8.112</td>\n",
       "      <td>618985862.0</td>\n",
       "      <td>2000070.0</td>\n",
       "    </tr>\n",
       "  </tbody>\n",
       "</table>\n",
       "<p>1000 rows × 5 columns</p>\n",
       "</div>"
      ],
      "text/plain": [
       "      input_rate  output_rate  latency  bridge_cycles  \\\n",
       "0    7795.167880  5915.233979   58.294    580165483.0   \n",
       "1    1209.088695  1350.851859    8.950    599510440.0   \n",
       "2    2241.721515  2895.546122   15.290    617035461.0   \n",
       "3    8173.779417  8002.005638    9.626    619069881.0   \n",
       "4    6270.170190  5750.337259    9.635    618831504.0   \n",
       "..           ...          ...      ...            ...   \n",
       "995  2510.830532  2686.797103    8.013    618973214.0   \n",
       "996  4178.571154  4155.320534   41.033    558995805.0   \n",
       "997  4520.757829  5055.422286    5.696    618970641.0   \n",
       "998  9172.273873  8783.775462   15.869    618949834.0   \n",
       "999  5808.762572  6113.004855    8.112    618985862.0   \n",
       "\n",
       "     bridge_L1-dcache-load-misses  \n",
       "0                          8853.0  \n",
       "1                          4684.0  \n",
       "2                          5198.0  \n",
       "3                          9027.0  \n",
       "4                          4911.0  \n",
       "..                            ...  \n",
       "995                     3104775.0  \n",
       "996                     3413623.0  \n",
       "997                     3448345.0  \n",
       "998                     3025666.0  \n",
       "999                     2000070.0  \n",
       "\n",
       "[1000 rows x 5 columns]"
      ]
     },
<<<<<<< HEAD
     "execution_count": 37,
=======
     "execution_count": 24,
>>>>>>> 64d6841c1ec2f8c60bd4e882fd7474bdf8eaf760
     "metadata": {},
     "output_type": "execute_result"
    }
   ],
   "source": [
    "data = df[[\"input_rate\", \"output_rate\", \"latency\", \"bridge_cycles\", \"bridge_L1-dcache-load-misses\"]]\n",
    "data"
   ]
  },
  {
   "cell_type": "code",
<<<<<<< HEAD
   "execution_count": 42,
=======
   "execution_count": 25,
>>>>>>> 64d6841c1ec2f8c60bd4e882fd7474bdf8eaf760
   "metadata": {},
   "outputs": [
    {
     "ename": "ValueError",
     "evalue": "",
     "output_type": "error",
     "traceback": [
      "\u001b[1;31m---------------------------------------------------------------------------\u001b[0m",
      "\u001b[1;31mValueError\u001b[0m                                Traceback (most recent call last)",
      "Input \u001b[1;32mIn [42]\u001b[0m, in \u001b[0;36m<cell line: 1>\u001b[1;34m()\u001b[0m\n\u001b[1;32m----> 1\u001b[0m model \u001b[38;5;241m=\u001b[39m \u001b[43mCausalModel\u001b[49m\u001b[43m(\u001b[49m\n\u001b[0;32m      2\u001b[0m \u001b[43m        \u001b[49m\u001b[43mdata\u001b[49m\u001b[43m \u001b[49m\u001b[38;5;241;43m=\u001b[39;49m\u001b[43m \u001b[49m\u001b[43mdata\u001b[49m\u001b[43m,\u001b[49m\n\u001b[0;32m      3\u001b[0m \u001b[43m        \u001b[49m\u001b[43mtreatment\u001b[49m\u001b[38;5;241;43m=\u001b[39;49m\u001b[43m[\u001b[49m\u001b[38;5;124;43m\"\u001b[39;49m\u001b[38;5;124;43minput_rate\u001b[39;49m\u001b[38;5;124;43m\"\u001b[39;49m\u001b[43m,\u001b[49m\u001b[43m \u001b[49m\u001b[38;5;124;43m\"\u001b[39;49m\u001b[38;5;124;43mbridge_cycles\u001b[39;49m\u001b[38;5;124;43m\"\u001b[39;49m\u001b[43m]\u001b[49m\u001b[43m,\u001b[49m\n\u001b[0;32m      4\u001b[0m \u001b[43m        \u001b[49m\u001b[43moutcome\u001b[49m\u001b[38;5;241;43m=\u001b[39;49m\u001b[38;5;124;43m\"\u001b[39;49m\u001b[38;5;124;43moutput_rate\u001b[39;49m\u001b[38;5;124;43m\"\u001b[39;49m\u001b[43m,\u001b[49m\n\u001b[0;32m      5\u001b[0m \u001b[43m        \u001b[49m\u001b[43mgraph\u001b[49m\u001b[38;5;241;43m=\u001b[39;49m\u001b[43mgml\u001b[49m\u001b[43m,\u001b[49m\n\u001b[0;32m      6\u001b[0m \u001b[43m        \u001b[49m\u001b[43m)\u001b[49m\n",
      "File \u001b[1;32m~\\Anaconda3\\lib\\site-packages\\dowhy\\causal_model.py:104\u001b[0m, in \u001b[0;36mCausalModel.__init__\u001b[1;34m(self, data, treatment, outcome, graph, common_causes, instruments, effect_modifiers, estimand_type, proceed_when_unidentifiable, missing_nodes_as_confounders, identify_vars, **kwargs)\u001b[0m\n\u001b[0;32m    101\u001b[0m         \u001b[38;5;28mself\u001b[39m\u001b[38;5;241m.\u001b[39m_graph \u001b[38;5;241m=\u001b[39m \u001b[38;5;28;01mNone\u001b[39;00m\n\u001b[0;32m    103\u001b[0m \u001b[38;5;28;01melse\u001b[39;00m:\n\u001b[1;32m--> 104\u001b[0m     \u001b[38;5;28;43mself\u001b[39;49m\u001b[38;5;241;43m.\u001b[39;49m\u001b[43minit_graph\u001b[49m\u001b[43m(\u001b[49m\u001b[43mgraph\u001b[49m\u001b[38;5;241;43m=\u001b[39;49m\u001b[43mgraph\u001b[49m\u001b[43m,\u001b[49m\u001b[43m \u001b[49m\u001b[43midentify_vars\u001b[49m\u001b[38;5;241;43m=\u001b[39;49m\u001b[43midentify_vars\u001b[49m\u001b[43m)\u001b[49m\n\u001b[0;32m    106\u001b[0m \u001b[38;5;28mself\u001b[39m\u001b[38;5;241m.\u001b[39m_other_variables \u001b[38;5;241m=\u001b[39m kwargs\n\u001b[0;32m    107\u001b[0m \u001b[38;5;28mself\u001b[39m\u001b[38;5;241m.\u001b[39msummary()\n",
      "File \u001b[1;32m~\\Anaconda3\\lib\\site-packages\\dowhy\\causal_model.py:115\u001b[0m, in \u001b[0;36mCausalModel.init_graph\u001b[1;34m(self, graph, identify_vars)\u001b[0m\n\u001b[0;32m    110\u001b[0m \u001b[38;5;124;03m'''\u001b[39;00m\n\u001b[0;32m    111\u001b[0m \u001b[38;5;124;03mInitialize self._graph using graph provided by the user.\u001b[39;00m\n\u001b[0;32m    112\u001b[0m \n\u001b[0;32m    113\u001b[0m \u001b[38;5;124;03m'''\u001b[39;00m\n\u001b[0;32m    114\u001b[0m \u001b[38;5;66;03m# Create causal graph object\u001b[39;00m\n\u001b[1;32m--> 115\u001b[0m \u001b[38;5;28mself\u001b[39m\u001b[38;5;241m.\u001b[39m_graph \u001b[38;5;241m=\u001b[39m \u001b[43mCausalGraph\u001b[49m\u001b[43m(\u001b[49m\n\u001b[0;32m    116\u001b[0m \u001b[43m    \u001b[49m\u001b[38;5;28;43mself\u001b[39;49m\u001b[38;5;241;43m.\u001b[39;49m\u001b[43m_treatment\u001b[49m\u001b[43m,\u001b[49m\n\u001b[0;32m    117\u001b[0m \u001b[43m    \u001b[49m\u001b[38;5;28;43mself\u001b[39;49m\u001b[38;5;241;43m.\u001b[39;49m\u001b[43m_outcome\u001b[49m\u001b[43m,\u001b[49m\n\u001b[0;32m    118\u001b[0m \u001b[43m    \u001b[49m\u001b[43mgraph\u001b[49m\u001b[43m,\u001b[49m\n\u001b[0;32m    119\u001b[0m \u001b[43m    \u001b[49m\u001b[43meffect_modifier_names\u001b[49m\u001b[38;5;241;43m=\u001b[39;49m\u001b[38;5;28;43mself\u001b[39;49m\u001b[38;5;241;43m.\u001b[39;49m\u001b[43m_effect_modifiers\u001b[49m\u001b[43m,\u001b[49m\n\u001b[0;32m    120\u001b[0m \u001b[43m    \u001b[49m\u001b[43mobserved_node_names\u001b[49m\u001b[38;5;241;43m=\u001b[39;49m\u001b[38;5;28;43mself\u001b[39;49m\u001b[38;5;241;43m.\u001b[39;49m\u001b[43m_data\u001b[49m\u001b[38;5;241;43m.\u001b[39;49m\u001b[43mcolumns\u001b[49m\u001b[38;5;241;43m.\u001b[39;49m\u001b[43mtolist\u001b[49m\u001b[43m(\u001b[49m\u001b[43m)\u001b[49m\u001b[43m,\u001b[49m\n\u001b[0;32m    121\u001b[0m \u001b[43m    \u001b[49m\u001b[43mmissing_nodes_as_confounders\u001b[49m\u001b[43m \u001b[49m\u001b[38;5;241;43m=\u001b[39;49m\u001b[43m \u001b[49m\u001b[38;5;28;43mself\u001b[39;49m\u001b[38;5;241;43m.\u001b[39;49m\u001b[43m_missing_nodes_as_confounders\u001b[49m\n\u001b[0;32m    122\u001b[0m \u001b[43m\u001b[49m\u001b[43m)\u001b[49m\n\u001b[0;32m    124\u001b[0m \u001b[38;5;28;01mif\u001b[39;00m identify_vars:\n\u001b[0;32m    125\u001b[0m     \u001b[38;5;28mself\u001b[39m\u001b[38;5;241m.\u001b[39m_common_causes \u001b[38;5;241m=\u001b[39m \u001b[38;5;28mself\u001b[39m\u001b[38;5;241m.\u001b[39m_graph\u001b[38;5;241m.\u001b[39mget_common_causes(\u001b[38;5;28mself\u001b[39m\u001b[38;5;241m.\u001b[39m_treatment, \u001b[38;5;28mself\u001b[39m\u001b[38;5;241m.\u001b[39m_outcome)\n",
      "File \u001b[1;32m~\\Anaconda3\\lib\\site-packages\\dowhy\\causal_graph.py:76\u001b[0m, in \u001b[0;36mCausalGraph.__init__\u001b[1;34m(self, treatment_name, outcome_name, graph, common_cause_names, instrument_names, effect_modifier_names, mediator_names, observed_node_names, missing_nodes_as_confounders)\u001b[0m\n\u001b[0;32m     74\u001b[0m     \u001b[38;5;28mself\u001b[39m\u001b[38;5;241m.\u001b[39mlogger\u001b[38;5;241m.\u001b[39merror(\u001b[38;5;124m\"\u001b[39m\u001b[38;5;124mError: Please provide graph (as string or text file) in dot or gml format.\u001b[39m\u001b[38;5;124m\"\u001b[39m)\n\u001b[0;32m     75\u001b[0m     \u001b[38;5;28mself\u001b[39m\u001b[38;5;241m.\u001b[39mlogger\u001b[38;5;241m.\u001b[39merror(\u001b[38;5;124m\"\u001b[39m\u001b[38;5;124mError: Incorrect graph format\u001b[39m\u001b[38;5;124m\"\u001b[39m)\n\u001b[1;32m---> 76\u001b[0m     \u001b[38;5;28;01mraise\u001b[39;00m \u001b[38;5;167;01mValueError\u001b[39;00m\n\u001b[0;32m     77\u001b[0m \u001b[38;5;28;01mif\u001b[39;00m missing_nodes_as_confounders:\n\u001b[0;32m     78\u001b[0m     \u001b[38;5;28mself\u001b[39m\u001b[38;5;241m.\u001b[39m_graph \u001b[38;5;241m=\u001b[39m \u001b[38;5;28mself\u001b[39m\u001b[38;5;241m.\u001b[39madd_missing_nodes_as_common_causes(observed_node_names)\n",
      "\u001b[1;31mValueError\u001b[0m: "
     ]
    }
   ],
   "source": [
    "model = CausalModel(\n",
    "        data = data,\n",
    "        treatment=[\"input_rate\"],\n",
    "        outcome=\"output_rate\",\n",
    "        graph=gml,\n",
    "        )"
   ]
  },
  {
   "cell_type": "code",
<<<<<<< HEAD
   "execution_count": 43,
=======
   "execution_count": 26,
>>>>>>> 64d6841c1ec2f8c60bd4e882fd7474bdf8eaf760
   "metadata": {},
   "outputs": [
    {
     "ename": "NameError",
     "evalue": "name 'model' is not defined",
     "output_type": "error",
     "traceback": [
      "\u001b[1;31m---------------------------------------------------------------------------\u001b[0m",
      "\u001b[1;31mNameError\u001b[0m                                 Traceback (most recent call last)",
      "Input \u001b[1;32mIn [43]\u001b[0m, in \u001b[0;36m<cell line: 1>\u001b[1;34m()\u001b[0m\n\u001b[1;32m----> 1\u001b[0m \u001b[43mmodel\u001b[49m\u001b[38;5;241m.\u001b[39mview_model()\n",
      "\u001b[1;31mNameError\u001b[0m: name 'model' is not defined"
     ]
    }
   ],
   "source": [
    "model.view_model()"
   ]
  },
  {
   "cell_type": "code",
<<<<<<< HEAD
   "execution_count": null,
=======
   "execution_count": 27,
>>>>>>> 64d6841c1ec2f8c60bd4e882fd7474bdf8eaf760
   "metadata": {
    "scrolled": true
   },
   "outputs": [],
   "source": [
    "from IPython.display import Image, display\n",
    "display(Image(filename=\"causal_model.png\"))"
   ]
  },
  {
   "cell_type": "markdown",
   "metadata": {},
   "source": [
    "The above causal graph shows the assumptions encoded in the causal model. We can now use this graph to first identify \n",
    "the causal effect (go from a causal estimand to a probability expression), and then estimate the causal effect."
   ]
  },
  {
   "cell_type": "markdown",
   "metadata": {},
   "source": [
    "### DoWhy philosophy: Keep identification and estimation separate\n",
    "\n",
    "Identification can be achieved without access to the data, acccesing only the graph. This results in an expression to be computed. This expression can then be evaluated using the available data in the estimation step.\n",
    "It is important to understand that these are orthogonal steps.\n",
    "\n",
    "#### Identification"
   ]
  },
  {
   "cell_type": "code",
<<<<<<< HEAD
   "execution_count": null,
   "metadata": {},
   "outputs": [],
=======
   "execution_count": 28,
   "metadata": {},
   "outputs": [
    {
     "name": "stdout",
     "output_type": "stream",
     "text": [
      "Estimand type: EstimandType.NONPARAMETRIC_ATE\n",
      "\n",
      "### Estimand : 1\n",
      "Estimand name: backdoor\n",
      "Estimand expression:\n",
      "     d                     \n",
      "────────────(E[outputᵣₐₜₑ])\n",
      "d[inputᵣₐₜₑ]               \n",
      "Estimand assumption 1, Unconfoundedness: If U→{input_rate} and U→output_rate then P(output_rate|input_rate,,U) = P(output_rate|input_rate,)\n",
      "\n",
      "### Estimand : 2\n",
      "Estimand name: iv\n",
      "No such variable(s) found!\n",
      "\n",
      "### Estimand : 3\n",
      "Estimand name: frontdoor\n",
      "No such variable(s) found!\n",
      "\n"
     ]
    }
   ],
>>>>>>> 64d6841c1ec2f8c60bd4e882fd7474bdf8eaf760
   "source": [
    "identified_estimand = model.identify_effect(proceed_when_unidentifiable=True)\n",
    "print(identified_estimand)"
   ]
  },
  {
   "cell_type": "markdown",
   "metadata": {},
   "source": [
    "Note the parameter flag *proceed\\_when\\_unidentifiable*. It needs to be set to *True* to convey the assumption that we are ignoring any unobserved confounding. The default behavior is to prompt the user to double-check that the unobserved confounders can be ignored. "
   ]
  },
  {
   "cell_type": "markdown",
   "metadata": {},
   "source": [
    "#### Estimation"
   ]
  },
  {
   "cell_type": "code",
<<<<<<< HEAD
   "execution_count": null,
   "metadata": {
    "scrolled": true
   },
   "outputs": [],
=======
   "execution_count": 29,
   "metadata": {
    "scrolled": true
   },
   "outputs": [
    {
     "name": "stdout",
     "output_type": "stream",
     "text": [
      "*** Causal Estimate ***\n",
      "\n",
      "## Identified estimand\n",
      "Estimand type: EstimandType.NONPARAMETRIC_ATE\n",
      "\n",
      "### Estimand : 1\n",
      "Estimand name: backdoor\n",
      "Estimand expression:\n",
      "     d                     \n",
      "────────────(E[outputᵣₐₜₑ])\n",
      "d[inputᵣₐₜₑ]               \n",
      "Estimand assumption 1, Unconfoundedness: If U→{input_rate} and U→output_rate then P(output_rate|input_rate,,U) = P(output_rate|input_rate,)\n",
      "\n",
      "## Realized estimand\n",
      "b: output_rate~input_rate\n",
      "Target units: ate\n",
      "\n",
      "## Estimate\n",
      "Mean value: 0.8932122344427853\n",
      "\n"
     ]
    }
   ],
>>>>>>> 64d6841c1ec2f8c60bd4e882fd7474bdf8eaf760
   "source": [
    "causal_estimate = model.estimate_effect(identified_estimand,\n",
    "        method_name=\"backdoor.linear_regression\")\n",
    "print(causal_estimate)"
   ]
  },
  {
   "cell_type": "markdown",
   "metadata": {},
   "source": [
    "You can input additional parameters to the estimate_effect method. For instance, to estimate the effect on any subset of the units, you can specify the \"target_units\" parameter which can be a string (\"ate\", \"att\", or \"atc\"), lambda function that filters rows of the data frame, or a new dataframe on which to compute the effect. You can also specify \"effect modifiers\" to estimate heterogeneous effects across these variables. See `help(CausalModel.estimate_effect)`. "
   ]
  },
  {
   "cell_type": "code",
   "execution_count": 30,
   "metadata": {},
   "outputs": [
    {
     "name": "stdout",
     "output_type": "stream",
     "text": [
      "*** Causal Estimate ***\n",
      "\n",
      "## Identified estimand\n",
      "Estimand type: EstimandType.NONPARAMETRIC_ATE\n",
      "\n",
      "### Estimand : 1\n",
      "Estimand name: backdoor\n",
      "Estimand expression:\n",
      "     d                     \n",
      "────────────(E[outputᵣₐₜₑ])\n",
      "d[inputᵣₐₜₑ]               \n",
      "Estimand assumption 1, Unconfoundedness: If U→{input_rate} and U→output_rate then P(output_rate|input_rate,,U) = P(output_rate|input_rate,)\n",
      "\n",
      "## Realized estimand\n",
      "b: output_rate~input_rate\n",
      "Target units: atc\n",
      "\n",
      "## Estimate\n",
      "Mean value: 0.8932122344427853\n",
      "\n",
      "Causal Estimate is 0.8932122344427853\n"
     ]
    }
   ],
   "source": [
    "# Causal effect on the control group (ATC)\n",
    "causal_estimate_att = model.estimate_effect(identified_estimand,\n",
    "        method_name=\"backdoor.linear_regression\",\n",
    "        target_units=\"atc\")\n",
    "\n",
    "print(causal_estimate_att)\n",
    "print(\"Causal Estimate is \" + str(causal_estimate_att.value))"
   ]
  },
  {
   "cell_type": "markdown",
   "metadata": {},
   "source": [
    "## Refuting the estimate\n",
    "\n",
    "Let us now look at ways of refuting the estimate obtained. Refutation methods provide tests that every correct estimator should pass. So if an estimator fails the refutation test (p-value is <0.05), then it means that there is some problem with the estimator. \n",
    "\n",
    "Note that we cannot verify that the estimate is correct, but we can reject it if it violates certain expected behavior (this is analogous to scientific theories that can be falsified but not proven true). The below refutation tests are based on either \n",
    " 1) **Invariant transformations**: changes in the data that should not change the estimate. Any estimator whose result varies significantly between the original data and the modified data fails the test; \n",
    " \n",
    " a) Random Common Cause\n",
    " \n",
    " b) Data Subset\n",
    " \n",
    " \n",
    " 2) **Nullifying transformations**: after the data change, the causal true estimate is zero. Any estimator whose result varies significantly from zero on the new data fails the test.\n",
    " \n",
    " a) Placebo Treatment"
   ]
  },
  {
   "cell_type": "markdown",
   "metadata": {},
   "source": [
    "### Adding a random common cause variable"
   ]
  },
  {
   "cell_type": "code",
   "execution_count": 31,
   "metadata": {},
   "outputs": [
    {
     "name": "stderr",
     "output_type": "stream",
     "text": [
      "Refuting Estimates: 100%|\u001b[32m███████████████████████████████████████████████████████████████████\u001b[0m| 100/100 [00:02<00:00, 43.94it/s]\u001b[0m"
     ]
    },
    {
     "name": "stdout",
     "output_type": "stream",
     "text": [
      "Refute: Add a random common cause\n",
      "Estimated effect:0.8932122344427853\n",
      "New effect:0.8932117812397462\n",
      "p value:0.9\n",
      "\n"
     ]
    },
    {
     "name": "stderr",
     "output_type": "stream",
     "text": [
      "\n"
     ]
    }
   ],
   "source": [
    "res_random=model.refute_estimate(identified_estimand, causal_estimate, method_name=\"random_common_cause\", show_progress_bar=True)\n",
    "print(res_random)"
   ]
  },
  {
   "cell_type": "markdown",
   "metadata": {},
   "source": [
    "### Replacing treatment with a random (placebo) variable"
   ]
  },
  {
   "cell_type": "code",
   "execution_count": 32,
   "metadata": {},
   "outputs": [
    {
     "name": "stderr",
     "output_type": "stream",
     "text": [
      "Refuting Estimates: 100%|\u001b[32m███████████████████████████████████████████████████████████████████\u001b[0m| 100/100 [00:01<00:00, 54.98it/s]\u001b[0m"
     ]
    },
    {
     "name": "stdout",
     "output_type": "stream",
     "text": [
      "Refute: Use a Placebo Treatment\n",
      "Estimated effect:0.8932122344427853\n",
      "New effect:-6.3684488486615e-05\n",
      "p value:0.98\n",
      "\n"
     ]
    },
    {
     "name": "stderr",
     "output_type": "stream",
     "text": [
      "\n"
     ]
    }
   ],
   "source": [
    "res_placebo=model.refute_estimate(identified_estimand, causal_estimate,\n",
    "        method_name=\"placebo_treatment_refuter\", show_progress_bar=True, placebo_type=\"permute\")\n",
    "print(res_placebo)"
   ]
  },
  {
   "cell_type": "markdown",
   "metadata": {},
   "source": [
    "### Removing a random subset of the data"
   ]
  },
  {
   "cell_type": "code",
   "execution_count": 33,
   "metadata": {},
   "outputs": [
    {
     "name": "stderr",
     "output_type": "stream",
     "text": [
      "Refuting Estimates: 100%|\u001b[32m███████████████████████████████████████████████████████████████████\u001b[0m| 100/100 [00:01<00:00, 54.23it/s]\u001b[0m"
     ]
    },
    {
     "name": "stdout",
     "output_type": "stream",
     "text": [
      "Refute: Use a subset of data\n",
      "Estimated effect:0.8932122344427853\n",
      "New effect:0.8932798102221033\n",
      "p value:0.98\n",
      "\n"
     ]
    },
    {
     "name": "stderr",
     "output_type": "stream",
     "text": [
      "\n"
     ]
    }
   ],
   "source": [
    "res_subset=model.refute_estimate(identified_estimand, causal_estimate,\n",
    "        method_name=\"data_subset_refuter\", show_progress_bar=True, subset_fraction=0.9)\n",
    "print(res_subset)"
   ]
  },
  {
   "cell_type": "markdown",
   "metadata": {},
   "source": [
    "As you can see, the propensity score stratification estimator is reasonably robust to refutations.\n",
    "\n",
    "**Reproducability**: For reproducibility, you can add a parameter \"random_seed\" to any refutation method, as shown below.\n",
    "\n",
    "**Parallelization**: You can also use built-in parallelization to speed up the refutation process. Simply set `n_jobs` to a value greater than 1 to spread the workload to multiple CPUs, or set `n_jobs=-1` to use all CPUs. Currently, this is available only for `random_common_cause`, `placebo_treatment_refuter`, and `data_subset_refuter`."
   ]
  },
  {
   "cell_type": "code",
   "execution_count": 34,
   "metadata": {},
   "outputs": [
    {
     "name": "stderr",
     "output_type": "stream",
     "text": [
      "Refuting Estimates:   0%|\u001b[32m                                                                             \u001b[0m| 0/100 [00:00<?, ?it/s]\u001b[0m[Parallel(n_jobs=-1)]: Using backend LokyBackend with 32 concurrent workers.\n",
      "Refuting Estimates:  64%|\u001b[32m███████████████████████████████████████████▌                        \u001b[0m| 64/100 [00:04<00:02, 14.19it/s]\u001b[0m[Parallel(n_jobs=-1)]: Done   8 tasks      | elapsed:    4.2s\n",
      "[Parallel(n_jobs=-1)]: Done  21 tasks      | elapsed:    4.2s\n",
      "Refuting Estimates: 100%|\u001b[32m███████████████████████████████████████████████████████████████████\u001b[0m| 100/100 [00:04<00:00, 23.02it/s]\u001b[0m\n",
      "[Parallel(n_jobs=-1)]: Done  34 tasks      | elapsed:    4.3s\n",
      "[Parallel(n_jobs=-1)]: Done  48 out of 100 | elapsed:    4.3s remaining:    4.7s\n",
      "[Parallel(n_jobs=-1)]: Done  59 out of 100 | elapsed:    4.4s remaining:    3.0s\n",
      "[Parallel(n_jobs=-1)]: Done  70 out of 100 | elapsed:    4.4s remaining:    1.9s\n",
      "[Parallel(n_jobs=-1)]: Done  81 out of 100 | elapsed:    4.5s remaining:    1.0s\n",
      "[Parallel(n_jobs=-1)]: Done  92 out of 100 | elapsed:    4.5s remaining:    0.4s\n"
     ]
    },
    {
     "name": "stdout",
     "output_type": "stream",
     "text": [
      "Refute: Use a subset of data\n",
      "Estimated effect:0.8932122344427853\n",
      "New effect:0.8932807716669732\n",
      "p value:0.96\n",
      "\n"
     ]
    },
    {
     "name": "stderr",
     "output_type": "stream",
     "text": [
      "[Parallel(n_jobs=-1)]: Done 100 out of 100 | elapsed:    4.7s finished\n"
     ]
    }
   ],
   "source": [
    "res_subset=model.refute_estimate(identified_estimand, causal_estimate,\n",
    "        method_name=\"data_subset_refuter\", show_progress_bar=True, subset_fraction=0.9, random_seed = 1, n_jobs=-1, verbose=10)\n",
    "print(res_subset)"
   ]
  },
  {
   "cell_type": "markdown",
   "metadata": {},
   "source": [
    "### Adding an unobserved common cause variable\n",
    "\n",
    "This  refutation does not return a p-value. Instead, it provides a _sensitivity_ test on how quickly the estimate changes if the identifying assumptions (used in `identify_effect`) are not valid. Specifically, it checks sensitivity to violation of the  backdoor assumption: that all common causes are observed. \n",
    "\n",
    "To do so, it creates a new dataset with an additional common cause between treatment and outcome. To capture the effect of the common cause, the method takes as input the strength of common cause's effect on treatment and outcome. Based on these inputs on the common cause's effects, it changes the treatment and outcome values and then reruns the estimator. The hope is that the new estimate does not change drastically with a small effect of the unobserved common cause, indicating a robustness to any unobserved confounding.\n",
    "\n",
    "Another equivalent way of interpreting this procedure is to assume that there was already unobserved confounding present in the input data. The change in treatment and outcome values _removes_ the effect of whatever unobserved common cause was present in the original data. Then rerunning the estimator on this modified data provides the correct identified estimate and we hope that the difference between the new estimate and the original estimate is not too high, for some bounded value of the unobserved common cause's effect.\n",
    "\n",
    "**Importance of domain knowledge**: This test requires _domain knowledge_ to set plausible input values of the effect of unobserved confounding. We first show the result for a single value of confounder's effect on treatment and outcome."
   ]
  },
  {
   "cell_type": "code",
   "execution_count": 35,
   "metadata": {},
   "outputs": [
    {
     "name": "stdout",
     "output_type": "stream",
     "text": [
      "Refute: Add an Unobserved Common Cause\n",
      "Estimated effect:0.8932122344427853\n",
      "New effect:0.7456599527743037\n",
      "\n"
     ]
    }
   ],
   "source": [
    "res_unobserved=model.refute_estimate(identified_estimand, causal_estimate, method_name=\"add_unobserved_common_cause\",\n",
    "                                     confounders_effect_on_treatment=\"binary_flip\", confounders_effect_on_outcome=\"linear\",\n",
    "                                    effect_strength_on_treatment=0.01, effect_strength_on_outcome=0.02)\n",
    "print(res_unobserved)"
   ]
  },
  {
   "cell_type": "markdown",
   "metadata": {},
   "source": [
    "It is often more useful to inspect the trend as the effect of unobserved confounding is increased. For that, we can provide an array of hypothesized confounders' effects. The output is the *(min, max)* range of the estimated effects under different unobserved confounding."
   ]
  },
  {
   "cell_type": "code",
   "execution_count": 36,
   "metadata": {},
   "outputs": [
    {
     "data": {
      "image/png": "iVBORw0KGgoAAAANSUhEUgAAAjIAAAHlCAYAAADvHxZTAAAAOXRFWHRTb2Z0d2FyZQBNYXRwbG90bGliIHZlcnNpb24zLjYuMiwgaHR0cHM6Ly9tYXRwbG90bGliLm9yZy8o6BhiAAAACXBIWXMAAA9hAAAPYQGoP6dpAACSjElEQVR4nOzdeViU1dsH8O8wwLBvsi8CirsoCoKouVJq5pJKaqW4p7mmlforNbWkMg1NUzMVtU3BtdxKXCpFCdxwFzcW2QQBAVnnvH/4MjkByuDAsHw/1zWXzpnznLnPDMzcPM9ZJEIIASIiIqJaSEvTARARERFVFhMZIiIiqrWYyBAREVGtxUSGiIiIai0mMkRERFRrMZEhIiKiWouJDBEREdVaTGSIiIio1mIiQ0RERLUWExmqsbKzszF+/HjY2tpCIpFg5syZAIDk5GQMHToUDRo0gEQiQVBQkEbjVEV5faqJ7t69C4lEgq+++krToVS70aNHw8XFRdNhEFEFMJGhahUcHAyJRFLu7fTp04q6S5cuRXBwMCZPnoxt27Zh5MiRAID33nsPhw8fxrx587Bt2zb06dNH7XEuXboUe/bsqZJ2y+pTWSQSCaZOnVrmY6GhoZBIJDh+/LjaYyTV7d69G3379oWlpSV0dXVhb2+PN954A0ePHtV0aLUCXz96EdqaDoDqp8WLF8PV1bVUuZubm+L/R48eRceOHbFw4UKlOkePHsXAgQPx/vvvV1l8S5cuxdChQzFo0CC1tlten6h2EkJg7NixCA4ORrt27TBr1izY2toiMTERu3fvRq9evXDy5El06tRJ06HWSHz9SB2YyJBG9O3bF15eXs+sk5KSgpYtW5ZZbmZmVkWRVa3y+kTPlpOTA0NDQ02HUcry5csRHByMmTNnYsWKFZBIJIrHPvroI2zbtg3a2vyYLQ9fP1IHXlqiGuf48eOQSCS4c+cO9u/fr7jsVHJZSgiBNWvWKMpLZGRkYObMmXBycoJMJoObmxu++OILyOVypfblcjlWrlwJd3d36OnpwcrKCn369EFkZCSAJ5d0cnJysGXLFsVzjB49+pkxp6SkYNy4cbCxsYGenh7atm2LLVu2PLdPd+/eVdvr1r17d7Ru3RpXrlxBjx49YGBgAAcHB3z55Zcqx/tfX3/9NZydnaGvr49u3brh0qVLSo8nJSVhzJgxcHR0hEwmg52dHQYOHFiqfwcPHsRLL70EQ0NDGBsbo1+/frh8+bJSndGjR8PIyAi3bt3Cq6++CmNjY7z11luYOnUqjIyMkJubWyq+ESNGwNbWFsXFxSo9FwDs2bMHrVu3hp6eHlq3bo3du3eX+zo87fHjxwgMDETz5s3x1VdfKf0slhg5ciS8vb0V92/fvg1/f39YWFjAwMAAHTt2xP79+5WOKflZ2bFjBxYtWgQHBwcYGxtj6NChyMzMRH5+PmbOnAlra2sYGRlhzJgxyM/PV2qj5LJkSEgIWrZsCX19ffj6+iI6OhoAsH79eri5uUFPTw/du3cv8+cwJCQEnp6e0NfXh6WlJd5++20kJCQo1Sl5rxISEjBo0CAYGRnBysoK77//vtJ7oY7XLz09He+//z7c3d1hZGQEExMT9O3bFxcuXFA6puRz4r99Knldn74ce/PmTQwZMgS2trbQ09ODo6Mjhg8fjszMTKVjf/jhB8VrYWFhgeHDhyMuLu6Z/aPqw1SXNCIzMxMPHjxQKpNIJGjQoAFatGiBbdu24b333oOjoyNmz54NAGjXrp1iXMnLL7+MUaNGKY7Nzc1Ft27dkJCQgHfeeQcNGzbEqVOnMG/ePCQmJioNCB43bhyCg4PRt29fjB8/HkVFRfjrr79w+vRpeHl5Ydu2bRg/fjy8vb0xceJEAEDjxo3L7cvjx4/RvXt3xMTEYOrUqXB1dUVISAhGjx6NjIwMzJgxo9w+WVlZqeslBQA8fPgQffr0weDBg/HGG28gNDQUc+bMgbu7O/r27VvheJ+2detWPHr0CFOmTEFeXh5WrlyJnj17Ijo6GjY2NgCAIUOG4PLly5g2bRpcXFyQkpKCP/74A7GxsYpBs9u2bUNAQAB69+6NL774Arm5uVi7di26dOmCc+fOKQ2uLSoqQu/evdGlSxd89dVXMDAwgIuLC9asWYP9+/fD399fUTc3Nxe//vorRo8eDalUqtJz/f777xgyZAhatmyJwMBApKWlKRKy5/n777+Rnp6OmTNnKp73WZKTk9GpUyfk5uZi+vTpaNCgAbZs2YIBAwYgNDQUr7/+ulL9wMBA6OvrY+7cuYiJicE333wDHR0daGlp4eHDh/jkk09w+vRpBAcHw9XVFQsWLFA6/q+//sK+ffswZcoURXuvvfYaPvzwQ3z77bd499138fDhQ3z55ZcYO3as0niU4OBgjBkzBh06dEBgYCCSk5OxcuVKnDx5EufOnVM6I1pcXIzevXvDx8cHX331FY4cOYLly5ejcePGmDx5stpev9u3b2PPnj3w9/eHq6srkpOTsX79enTr1g1XrlyBvb39c9t4WkFBAXr37o38/HxMmzYNtra2SEhIwG+//YaMjAyYmpoCAD777DPMnz8fb7zxBsaPH4/U1FR888036Nq1a6nXgjREEFWjzZs3CwBl3mQymVJdZ2dn0a9fv1JtABBTpkxRKluyZIkwNDQUN27cUCqfO3eukEqlIjY2VgghxNGjRwUAMX369FLtyuVyxf8NDQ1FQEBAhfoUFBQkAIgffvhBUVZQUCB8fX2FkZGRyMrKem6fylJWP0uEhIQIAOLYsWOKsm7dugkAYuvWrYqy/Px8YWtrK4YMGaJyvHfu3BEAhL6+voiPj1fUPXPmjAAg3nvvPSGEEA8fPhQAxLJly8rty6NHj4SZmZmYMGGCUnlSUpIwNTVVKg8ICBAAxNy5c5XqyuVy4eDgoNQXIYTYsWOHACD+/PNPlZ/Lw8ND2NnZiYyMDEXZ77//LgAIZ2fncvsjhBArV64UAMTu3bufWa/EzJkzBQDx119/KcoePXokXF1dhYuLiyguLhZCCHHs2DEBQLRu3VoUFBQo6o4YMUJIJBLRt29fpXZ9fX1LxVry+3Tnzh1F2fr16wUAYWtrq/QzOW/ePAFAUbegoEBYW1uL1q1bi8ePHyvq/fbbbwKAWLBggaKs5L1avHix0vO3a9dOeHp6PvP1UPX1y8vLU7xGJe7cuSNkMpnS85d8xjzddyH+fV1LfmfOnTsnAIiQkJByn/Pu3btCKpWKzz77TKk8OjpaaGtrlyonzeClJdKINWvW4I8//lC6HTx4sNLthYSE4KWXXoK5uTkePHiguPn5+aG4uBh//vknAGDnzp2QSCRlDrYt69R2RRw4cAC2trYYMWKEokxHRwfTp09HdnY2Tpw4UblOVYKRkRHefvttxX1dXV14e3vj9u3blY530KBBcHBwUNz39vaGj48PDhw4AADQ19eHrq4ujh8/jocPH5YZ1x9//IGMjAyMGDFC6f2RSqXw8fHBsWPHSh3z37/mJRIJ/P39ceDAAWRnZyvKt2/fDgcHB3Tp0kWl50pMTMT58+cREBCg+OsbAF5++eUKjWPKysoCABgbGz+3LvDkdff29lbECTx5vyZOnIi7d+/iypUrSvVHjRoFHR0dxX0fHx/F4Nin+fj4IC4uDkVFRUrlvXr1UjrL5ePjA+DJ2bOnYy4pL/kZiYyMREpKCt59913o6ekp6vXr1w/NmzcvdSkMACZNmqR0/6WXXlL6mSuLqq+fTCaDltaTr6zi4mKkpaXByMgIzZo1w9mzZyvUxtNK3vPDhw+XebkSAHbt2gW5XI433nhD6WfJ1tYWTZo0KfPnlqofLy2RRnh7ez93sK8qbt68iYsXL5Z7qSYlJQUAcOvWLdjb28PCwkJtz33v3j00adJE8SFbokWLForHq8p/ky9HR8dSZebm5rh48aLivqrxNmnSpNTzNm3aFDt27ADw5Avmiy++wOzZs2FjY4OOHTvitddew6hRo2BrawvgyfsDAD179iyzHyYmJkr3tbW1y7y8M2zYMAQFBWHfvn148803kZ2djQMHDuCdd95R9Luiz1XSz7L6V5Evx5J2Hj169Mx6Je7du6dIGp729OveunVrRXnDhg2V6pV88To5OZUql8vlyMzMRIMGDSp1PABFElryujRr1qxUrM2bN8fff/+tVFYyzuxp5ubm5Sa1JVR9/UrGtn377be4c+eO0hicp/tdUa6urpg1axZWrFiBH3/8ES+99BIGDBiAt99+W/Ga3Lx5E0KIMn9GACglmqQ5TGSoTpDL5Xj55Zfx4Ycflvl406ZNqzmiFyeTyfD48eMyHyv5C/Lpv5gBlDvWQAih3uD+Y+bMmejfvz/27NmDw4cPY/78+QgMDMTRo0fRrl07xYDrbdu2KZKbp/13ZsrTf30/rWPHjnBxccGOHTvw5ptv4tdff8Xjx48xbNgwRR1Vn6uymjdvDgCIjo5W+zR9oPz3sqLv8YseX1EVGd9SFlVfv6VLl2L+/PkYO3YslixZAgsLC2hpaWHmzJlKA/rLO7Na1uDj5cuXY/To0di7dy9+//13TJ8+HYGBgTh9+jQcHR0hl8shkUhw8ODBMvtpZGRUwd5SVWIiQ3VC48aNkZ2dDT8/v+fWO3z4MNLT0595VkaVy0zOzs64ePEi5HK50pfvtWvXFI9XhrOzM65fv17mYyXllWlb1XhLznA87caNG6VWvm3cuDFmz56N2bNn4+bNm/Dw8MDy5cvxww8/KAZLW1tbP/c9ep433ngDK1euRFZWFrZv3w4XFxd07NhRKY6KPFdJP8vqX3mv+9O6dOkCc3Nz/Pzzz/jf//733C/08t7PF/05UbeSOK5fv17qrNb169fVFqeqr19oaCh69OiBjRs3KpVnZGTA0tJScd/c3FxR/rTyzoy6u7vD3d0dH3/8MU6dOoXOnTtj3bp1+PTTT9G4cWMIIeDq6lor/xiqLzhGhuqEN954A+Hh4Th8+HCpxzIyMhTjB4YMGQIhBBYtWlSq3tN/kRoaGpb6ICzPq6++iqSkJGzfvl1RVlRUhG+++QZGRkbo1q2bir35t93Tp08jKipKqTwjIwM//vgjPDw8yjzjoO549+zZozTtNiIiAmfOnFHMgsrNzUVeXp7SMY0bN4axsbFiWnDv3r1hYmKCpUuXorCwsFRMqampFY5/2LBhyM/Px5YtW3Do0CG88cYbSo9X9Lns7Ozg4eGBLVu2KE23/eOPP0qNVymLgYEB5syZg6tXr2LOnDllntH44YcfEBERAeDJ6x4REYHw8HDF4zk5Ofjuu+/g4uJSY9YX8vLygrW1NdatW6c0rfvgwYO4evUq+vXrp5bnUfX1k0qlpeqEhISUmhJeksiWjIsDnpyN+e6775TqZWVllRpX5O7uDi0tLUW/Bw8eDKlUikWLFpV6biEE0tLSVOkyVRGekSGNOHjwoOIv0ad16tQJjRo1Urm9Dz74APv27cNrr72G0aNHw9PTEzk5OYiOjkZoaCju3r0LS0tL9OjRAyNHjsSqVatw8+ZN9OnTB3K5HH/99Rd69Oih2BLA09MTR44cwYoVK2Bvbw9XV9cyxzcAwMSJE7F+/XqMHj0aUVFRcHFxQWhoKE6ePImgoKAKD2b8r7lz5yIkJARdu3bFO++8g+bNm+P+/fsIDg5GYmIiNm/eXKl2VY3Xzc0NXbp0weTJk5Gfn4+goCA0aNBAcRnvxo0b6NWrF9544w20bNkS2tra2L17N5KTkzF8+HAAT8ZDrF27FiNHjkT79u0xfPhwWFlZITY2Fvv370fnzp2xevXqCsXfvn17uLm54aOPPkJ+fr7SZSVVnyswMBD9+vVDly5dMHbsWKSnp+Obb75Bq1atlAYUl+eDDz7A5cuXsXz5chw7dgxDhw6Fra0tkpKSsGfPHkRERODUqVMAnryfP//8M/r27Yvp06fDwsICW7ZswZ07d7Bz584yL6Vpgo6ODr744guMGTMG3bp1w4gRIxTTr11cXPDee++p7blUef1ee+01LF68GGPGjEGnTp0QHR2NH3/8sdTnRatWrdCxY0fMmzdPceb1l19+KZW0HD16FFOnToW/vz+aNm2KoqIibNu2DVKpFEOGDAHwJCn69NNPMW/ePNy9exeDBg2CsbEx7ty5g927d2PixIlVusI4VZBG5kpRvfWs6dcAxObNmxV1VZl+LcSTqazz5s0Tbm5uQldXV1haWopOnTqJr776Smkaa1FRkVi2bJlo3ry50NXVFVZWVqJv374iKipKUefatWuia9euQl9fXwB47lTs5ORkMWbMGGFpaSl0dXWFu7u7Ul+e16fyxMfHi/HjxwsHBwehra0tLCwsxGuvvSZOnz5dqm63bt1Eq1atSpUHBASUmp5bkXhLpl8vW7ZMLF++XDg5OQmZTCZeeuklceHCBUW9Bw8eiClTpojmzZsLQ0NDYWpqKnx8fMSOHTtKxXLs2DHRu3dvYWpqKvT09ETjxo3F6NGjRWRkpFK8hoaGz3xdPvroIwFAuLm5lVunIs8lhBA7d+4ULVq0EDKZTLRs2VLs2rWrzNfsWUJDQ8Urr7wiLCwshLa2trCzsxPDhg0Tx48fV6p369YtMXToUGFmZib09PSEt7e3+O2330rFjTKmBZf87vzzzz9K5QsXLhQARGpqqqKsrN+Rp9/Pijzf9u3bRbt27YRMJhMWFhbirbfeUpqGL0T571VJTBVVkdcvLy9PzJ49W9jZ2Ql9fX3RuXNnER4eLrp16ya6deum1N6tW7eEn5+fkMlkwsbGRvzvf/8Tf/zxh9L069u3b4uxY8eKxo0bCz09PWFhYSF69Oghjhw5Uiq+nTt3ii5dughDQ0NhaGgomjdvLqZMmSKuX79e4T5S1ZEIUcWjAImIiIiqSM04l0lERERUCUxkiIiIqNZiIkNERES1FhMZIiIiqrWYyBAREVGtxUSGiIiIai0uiFcGuVyO+/fvw9jYuNI7IhMREZFqhBB49OgR7O3tK7xIJBOZMty/f7/UDrFERERUPeLi4uDo6FihukxkylCyRHtcXJxiq3kiIiKqWllZWXByclJpaxcmMmUouZxkYmLCRIaIiKiaqTKsg4N9iYiIqNZiIkNERES1FhMZIiIiqrWYyBAREVGtxUSGiIiIai2NJzJr1qyBi4sL9PT04OPjg4iIiHLrFhYWYvHixWjcuDH09PTQtm1bHDp06IXaJCIiotpLo4nM9u3bMWvWLCxcuBBnz55F27Zt0bt3b6SkpJRZ/+OPP8b69evxzTff4MqVK5g0aRJef/11nDt3rtJtEhERUe0lEUIITT25j48POnTogNWrVwN4sjWAk5MTpk2bhrlz55aqb29vj48++ghTpkxRlA0ZMgT6+vr44YcfKtVmWbKysmBqaorMzEyuI0NERFRNKvP9q7EzMgUFBYiKioKfn9+/wWhpwc/PD+Hh4WUek5+fDz09PaUyfX19/P3335Vus6TdrKwspRsRERHVfBpLZB48eIDi4mLY2NgoldvY2CApKanMY3r37o0VK1bg5s2bkMvl+OOPP7Br1y4kJiZWuk0ACAwMhKmpqeLGfZaIiIhqB40P9lXFypUr0aRJEzRv3hy6urqYOnUqxowZU+EdMsszb948ZGZmKm5xcXFqipiIiIiqksYSGUtLS0ilUiQnJyuVJycnw9bWtsxjrKyssGfPHuTk5ODevXu4du0ajIyM0KhRo0q3CQAymUyxrxL3VyIiIqo9NJbI6OrqwtPTE2FhYYoyuVyOsLAw+Pr6PvNYPT09ODg4oKioCDt37sTAgQNfuE0iIiKqfTS6+/WsWbMQEBAALy8veHt7IygoCDk5ORgzZgwAYNSoUXBwcEBgYCAA4MyZM0hISICHhwcSEhLwySefQC6X48MPP6xwm6ooKChAQUFBqXItLS1oa2sr1SuPRCKBjo5OpeoWFhaivEllVVUXeJIQVqZuUVER5HK5Wurq6Ogodj+tqrrFxcUoLi5WS11tbW3FJc6aUFcul6OoqKjculKpFFKptMbUFUKgsLBQLXWf/v2sqrrAs3+X+RlRdl1+RvAz4nl1n/XzXx6NJjLDhg1DamoqFixYgKSkJHh4eODQoUOKwbqxsbFK41/y8vLw8ccf4/bt2zAyMsKrr76Kbdu2wczMrMJtqmL58uWlZkkBQJMmTfDmm28q7n/11VflfgA6Oztj9OjRivsrV65Ebm5umXXt7e0xYcIExf01a9YgMzOzzLpWVlZ49913Ffc3bNiA1NTUMuuamppi5syZivvBwcG4f/9+mXUNDAzwwQcfKO7/+OOPuHfvXpl1dXR08L///U9xf8eOHbh582aZdQFg4cKFiv/v3r0bV65cKbfuvHnzFB9qv/32Gy5cuFBu3ffffx+GhoYAgMOHDyMyMrLcujNmzFD8vISFhT1zNtvkyZNhbW0NAPjrr79w4sSJcuuOHz8eDg4OAIDTp0/jyJEj5dYNCAiAi4sLACAqKgoHDx4st+6IESPQtGlTAEB0dDT27t1bbt2hQ4eiVatWAICrV68iNDS03LoDBw6Eh4cHACAmJgY///xzuXX79u0Lb29vAE9+J7ds2VJuXT8/P3Tu3BkAkJiYiO+//77cut26dUP37t0BAKmpqVi7dm25dX19ffHKK68AADIzM7Fy5cpy63p5eaFfv34AgNzcXHz11Vfl1m3bti0GDRoE4MkXcskfTWVp2bIl/P39FfefVZefEU/wM+Jf/Ix44nmfEXl5eeUeWx6NJjIAMHXqVEydOrXMx44fP650v1u3bs/8wa5Im0RERFR3aHRBvJqqZEGe1NTUMgf+8rRx2XV52pinjXlpSfW6/IyoXF1+RrxY3Zrwe19W3aysLFhZWam0IB4TmTJwZV8iIqLqV6tW9iUiIiJ6UUxkiIiIqNZiIkNERES1FhMZIiIiqrWYyBAREVGtxUSGiIiIai0mMkRERFRrMZEhIiKiWouJDBEREdVaTGSIiIio1qpUIrNt2zZ07twZ9vb2il1Pg4KCnrnrJhEREZG6qZzIrF27FrNmzcKrr76KjIwMxQZVZmZmCAoKUnd8REREROVSOZH55ptvsGHDBnz00UeKHSwBwMvLC9HR0WoNjoiIiOhZVE5k7ty5g3bt2pUql8lkyMnJUUtQRERERBWhciLj6uqK8+fPlyo/dOgQWrRooY6YiIiIiCpEW9UDZs2ahSlTpiAvLw9CCERERODnn39GYGAgvv/++6qIkYiIiKhMKicy48ePh76+Pj7++GPk5ubizTffhL29PVauXInhw4dXRYxEREREZZIIIURlD87NzUV2djasra3VGZPGZWVlwdTUFJmZmTAxMdF0OERERPVCZb5/VR4j8/jxY+Tm5gIADAwM8PjxYwQFBeH3339XtSkiIiKiF6JyIjNw4EBs3boVAJCRkQFvb28sX74cAwcOxNq1a9UeIBEREVF5VE5kzp49i5deegkAEBoaCltbW9y7dw9bt27FqlWr1B4gERERUXlUTmRyc3NhbGwMAPj9998xePBgaGlpoWPHjortCoiIiIiqg8qJjJubG/bs2YO4uDgcPnwYr7zyCgAgJSWFA2OJiIioWqmcyCxYsADvv/8+XFxc4OPjA19fXwBPzs6UteIvERERUVWp1PTrpKQkJCYmom3bttDSepILRUREwMTEBM2bN1d7kNWN06+JiIiqX2W+f1VeEA8AbG1tYWtrq1Tm7e1dmaaIiIiIKk3lRKZHjx6QSCTlPn706NEXCoiIiIioolROZDw8PJTuFxYW4vz587h06RICAgLUFRcRERHRc6mcyHz99ddlln/yySfIzs5+4YDqMiHEM89mERERkWpUnrVUnrfffhubNm1SV3N1TmGxHB+EXsT2f2I1HQoREVGdUanBvmUJDw+Hnp6eupqrc/acS0BoVDx2n0uAtYkeejSrWxttEhERaYLKiczgwYOV7gshkJiYiMjISMyfP19tgdU1Qz0dEX47DbvOJmDKj2exfaIv3B1NNR0WERFRraZyImNqqvzlq6WlhWbNmmHx4sWKVX6pNIlEgs8Ht0FKVj7+jnmAMcH/YPe7neBkYaDp0IiIiGqtSi2Ip05r1qzBsmXLkJSUhLZt2+Kbb7555po0QUFBWLt2LWJjY2FpaYmhQ4ciMDBQcVnrk08+waJFi5SOadasGa5du1bhmKpyQbxHeYXwXxeOa0mP0MjKELsmd4KZga5an4OIiKg2qsz3r9oG+1bG9u3bMWvWLCxcuBBnz55F27Zt0bt3b6SkpJRZ/6effsLcuXOxcOFCXL16FRs3bsT27dvxv//9T6leq1atkJiYqLj9/fff1dGdCjHW00HwGG/Ym+rhdmoOxm+JRF5hsabDIiIiqpVUTmSKi4vx1VdfwdvbG7a2trCwsFC6qWLFihWYMGECxowZg5YtW2LdunUwMDAod/bTqVOn0LlzZ7z55ptwcXHBK6+8ghEjRiAiIkKpnra2tmL1YVtbW1haWqrazSpla6qH4LHeMNbTRuS9h3hv+3nI5Ro9MUZERFQrqZzILFq0CCtWrMCwYcOQmZmJWbNmYfDgwdDS0sInn3xS4XYKCgoQFRUFPz+/f4PR0oKfnx/Cw8PLPKZTp06IiopSJC63b9/GgQMH8OqrryrVu3nzJuzt7dGoUSO89dZbiI199pTn/Px8ZGVlKd2qWlMbY3w30gu6Ui0cvJSET/dfrfLnJCIiqmtUTmR+/PFHbNiwAbNnz4a2tjZGjBiB77//HgsWLMDp06cr3M6DBw9QXFwMGxsbpXIbGxskJSWVecybb76JxYsXo0uXLtDR0UHjxo3RvXt3pUtLPj4+CA4OxqFDh7B27VrcuXMHL730Eh49elRuLIGBgTA1NVXcnJycKtyPF+HbuAGW+bcBAGw6eQff/3W7Wp6XiIiorlA5kUlKSoK7uzsAwMjICJmZmQCA1157Dfv371dvdP9x/PhxLF26FN9++y3Onj2LXbt2Yf/+/ViyZImiTt++feHv7482bdqgd+/eOHDgADIyMrBjx45y2503bx4yMzMVt7i4uCrtx9MGejhgXt8nO4Z/duAq9l9MrLbnJiIiqu1Unn7t6OiIxMRENGzYEI0bN8bvv/+O9u3b459//oFMJqtwO5aWlpBKpUhOTlYqT05OLrWzdon58+dj5MiRGD9+PADA3d0dOTk5mDhxIj766CNoaZXOy8zMzNC0aVPExMSUG4tMJlMpdnWb2LUR7mc8xpbwe3hvx3lYGcvg7araeCMiIqL6SOUzMq+//jrCwsIAANOmTcP8+fPRpEkTjBo1CmPHjq1wO7q6uvD09FS0BQByuRxhYWHw9fUt85jc3NxSyYpUKgXwZGG+smRnZ+PWrVuws7OrcGzVTSKRYEH/VnilpQ0KiuSYsDUSMSnlXwojIiKiJ1Q+I/P5558r/j9s2DA4Ozvj1KlTaNKkCfr3769SW7NmzUJAQAC8vLzg7e2NoKAg5OTkYMyYMQCAUaNGwcHBAYGBgQCA/v37Y8WKFWjXrh18fHwQExOD+fPno3///oqE5v3330f//v3h7OyM+/fvY+HChZBKpRgxYoSqXa1WUi0JVo1ohxEbTuNcbAYCNj1ZMM/ahNs+EBERleeF91rq2LEjOnbsWKljhw0bhtTUVCxYsABJSUnw8PDAoUOHFAOAY2Njlc7AfPzxx5BIJPj444+RkJAAKysr9O/fH5999pmiTnx8PEaMGIG0tDRYWVmhS5cuOH36NKysrF6so9VAT0eKjQEdMGTtKdx5kIMxwf9g+zu+MJKpbUssIiKiOkXllX0DAwNhY2NT6jLSpk2bkJqaijlz5qg1QE2oypV9K+JeWg4Gf3sKaTkF6NrUChsDvKAj1ejahURERFWuWlb2Xb9+PZo3b16qvFWrVli3bp2qzVEZnBsYYtPoDtDXkeLPG6n4aHd0uWOAiIiI6rNKTb8ua+CslZUVEhM5dVhd2jqZYfWb7aAlAXZExmNl2E1Nh0RERFTjqJzIODk54eTJk6XKT548CXt7e7UERU/0amGDJYNaAwCCjtzEjn+qb30bIiKi2kDlUaQTJkzAzJkzUVhYiJ49ewIAwsLC8OGHH2L27NlqD7C+e8vHGfczHmPNsVuYtzsa1iYydG9mremwiIiIagSVE5kPPvgAaWlpePfdd1FQUAAA0NPTw5w5czBv3jy1B0jA+680Q2JGHnadS8C7P57Fjnd80drBVNNhERERaZzKs5ZKZGdn4+rVq9DX10eTJk00ujKuuml61lJZCorkGBMcgZMxabAylmHX5E5wsjDQdFhERERqUy2zlkoYGRmhQ4cOaN26dZ1KYmoqXW0trH3bE81tjZH6KB+jN0cgI7dA02ERERFpFBcnqUVM9HQQPMYbdqZ6uJWagwlbI5FXWKzpsIiIiDSGiUwtY2uqh+Ax3jDW08Y/dx9i1o7zkMu5xgwREdVPTGRqoWa2xlg/0hM6UgkORCfhswNXNR0SERGRRjCRqaU6NbbEV/5tAQAb/76DjX/f0XBERERE1a9SuxHevHkTx44dQ0pKCuRyudJjCxYsUEtg9HwDPRyQmJmHzw9ew6f7r8DOVA+vupdedZmIiKiuUjmR2bBhAyZPngxLS0vY2tpCIpEoHpNIJExkqtk7XRsh4eFjbDt9DzO3n4eVsQwdXCw0HRYREVG1UHkdGWdnZ7z77rt1Ypfr8tTEdWSepVguMOmHKPxxJRmm+jrYObkT3KyNNB0WERGRSqplHZmHDx/C399f5eCo6ki1JFg1vB08nMyQ+bgQAZsikPIoT9NhERERVTmVExl/f3/8/vvvVRELvQB9XSk2BnjBpYEBEjIeY2zwP8jJL9J0WERERFVK5TEybm5umD9/Pk6fPg13d3fo6OgoPT59+nS1BUeqaWAkw5ax3hj87SlcSsjCuz+exfcBXtCRcnIaERHVTSqPkXF1dS2/MYkEt2/ffuGgNK22jZH5r/NxGRj+XTjyCuUY5uWEz4e4Kw3KJiIiqokq8/2r8hmZO3e4XklN5+Fkhm9GtMc72yKxPTIO9mb6mOHXRNNhERERqd0LXXMQQqCSm2dTFXu5pQ0WD2wNAPj6yA3siIzTcERERETqV6lEZuvWrXB3d4e+vj709fXRpk0bbNu2Td2x0Qt6u6Mz3u3eGADwv13ROHEjVcMRERERqZfKicyKFSswefJkvPrqq9ixYwd27NiBPn36YNKkSfj666+rIkZ6AR/0bobX2zmgSC7w7g9RuJSQqemQiIiI1KZSg30XLVqEUaNGKZVv2bIFn3zySZ0YQ1PbB/v+V0GRHKM3R+DUrTRYGcuw+91OcDQ30HRYRERESqplQbzExER06tSpVHmnTp2QmJioanNUDXS1tbBupCea2xoj9VE+Rm/+Bxm5BZoOi4iI6IWpnMi4ublhx44dpcq3b9+OJk04M6amMtHTweYxHWBrooeYlGxM3BqFvMJiTYdFRET0QlSefr1o0SIMGzYMf/75Jzp37gwAOHnyJMLCwspMcKjmsDPVR/DYDvBfG46Iu+mYHXIB3wxvBy0trjFDRES1k8pnZIYMGYIzZ87A0tISe/bswZ49e2BpaYmIiAi8/vrrVREjqVFzWxOsH+kJHakE+y8mIvDgVU2HREREVGkqD/atD+raYN+y7D2fgBm/nAcALHitJcZ2KX/FZiIioupQLSv7lkhJSUFKSgrkcrlSeZs2bSrbJFWjgR4OSMh4jC8PXceS/VdgZ6qHvu52mg6LiIhIJSonMlFRUQgICMDVq1dLreorkUhQXMwBpLXF5G6NcT/jMX44HYsZ28/DylgGLxcLTYdFRERUYSonMmPHjkXTpk2xceNG2NjYcDPCWkwikWDRgNZIyszHkavJGL81Ejsnd0JjKyNNh0ZERFQhKo+RMTY2xrlz5+Dm5lZVMWlcfRgj87THBcUYseE0zsdlwNFcH7ve7QRrYz1Nh0VERPVMtSyI16tXL1y4cEHl4Kjm0teVYmOAF1waGCD+4WOMC45ETn6RpsMiIiJ6LpXPyDx48AABAQHw9vZG69atoaOjo/T4gAED1BqgJtS3MzIl7j7IweC1p5CeU4Duzazw/SgvaEtfaIN0IiKiCqvM96/Kicyvv/6KkSNHIisrq3RjdWSwb31NZADgXOxDjNhwGnmFcgzv4ITAwe4cB0VERNWiWi4tTZs2DW+//TYSExMhl8uVbnUhianv2jU0xzcj2kNLAvzyTxxWH43RdEhERETlUjmRSUtLw3vvvQcbGxu1BLBmzRq4uLhAT08PPj4+iIiIeGb9oKAgNGvWDPr6+nBycsJ7772HvLy8F2qTlL3c0gaLBrYGACz/4wZCIuM0HBEREVHZVE5kBg8ejGPHjqnlybdv345Zs2Zh4cKFOHv2LNq2bYvevXsjJSWlzPo//fQT5s6di4ULF+Lq1avYuHEjtm/fjv/973+VbpPKNrKjMyZ3bwwAmLcrGn/eSNVwRERERKWpPEbms88+Q1BQEPr16wd3d/dSg32nT59e4bZ8fHzQoUMHrF69GgAgl8vh5OSEadOmYe7cuaXqT506FVevXkVYWJiibPbs2Thz5gz+/vvvSrVZlvo8RuZpcrnAezvOY+/5+zDUlWLHJF+0sjfVdFhERFRHVcsWBd9//z2MjIxw4sQJnDhxQukxiURS4USmoKAAUVFRmDdvnqJMS0sLfn5+CA8PL/OYTp064YcffkBERAS8vb1x+/ZtHDhwACNHjqx0mwCQn5+P/Px8xf2yBjLXR1paEnw5tA1SsvIRfjsNYzb/g91TOsPBTF/ToREREQGoRCJz584dtTzxgwcPUFxcXGqsjY2NDa5du1bmMW+++SYePHiALl26QAiBoqIiTJo0SXFpqTJtAkBgYCAWLVr0gj2qm2TaUqwb6Yk31oXjevIjjN4UgdBJnWBqoPP8g4mIiKpYrVok5Pjx41i6dCm+/fZbnD17Frt27cL+/fuxZMmSF2p33rx5yMzMVNzi4ji49Wmm+jrYPKYDbE30cDMlGxO2RSK/iDPUiIhI81Q+IyOEQGhoKI4dO1bm7te7du2qUDuWlpaQSqVITk5WKk9OToatrW2Zx8yfPx8jR47E+PHjAQDu7u7IycnBxIkT8dFHH1WqTQCQyWSQyWQViru+sjfTR/DYDvBfG46IO+mYveMCVg1vBy0trjFDRESao/IZmZkzZ2LkyJG4c+cOjIyMYGpqqnSrKF1dXXh6eioN3JXL5QgLC4Ovr2+Zx+Tm5kJLSzlkqVQK4EmCVZk2qeKa25pg3UhP6Egl+O1iIj4/VP7lOiIiouqg8hmZbdu2YdeuXXj11Vdf+MlnzZqFgIAAeHl5wdvbG0FBQcjJycGYMWMAAKNGjYKDgwMCAwMBAP3798eKFSvQrl07+Pj4ICYmBvPnz0f//v0VCc3z2qQX09nNEl8MaYNZOy7guz9vw95UD6M7u2o6LCIiqqdUTmRMTU3RqFEjtTz5sGHDkJqaigULFiApKQkeHh44dOiQYrBubGys0hmYjz/+GBKJBB9//DESEhJgZWWF/v3747PPPqtwm/TiBrd3RGJmHpYdvo5Fv12Brak++rQu/9IdERFRVVF5HZktW7bg0KFD2LRpE/T16+Y0XK4j83xCCHy85xJ+PBMLmbYWfprgA09nC02HRUREtVi1bBr5+PFjvP766zh58iRcXFxKLYh39uxZVZqrkZjIVExRsRyTfojCkaspMDPQwc7JndDYykjTYRERUS1VLQviBQQEICoqCm+//TZsbGy4M3I9pi3VwqoR7TDiu9O4EJ+J0ZsjsGtyZ1gZcwYYERFVD5XPyBgaGuLw4cPo0qVLVcWkcTwjo5oH2fkY/O0pxKbnoo2jKX6Z2BEGuirnyEREVM9V5vtX5enXTk5O/HInJZZGMmwZ6w1zAx1cjM/E1J/OoahY/vwDiYiIXpDKiczy5cvx4Ycf4u7du1UQDtVWrpaG2Di6A2TaWjh6LQXz916Ciif7iIiIVKbypSVzc3Pk5uaiqKgIBgYGpQb7pqenqzVATeClpcr7/XISJv0QBbkA3n+lKab2bKLpkIiIqJaolsG+QUFBqh5C9cgrrWzxyYBWWLD3Mr76/QZsTfUx1NNR02EREVEdValZS0TPMsrXBQkZj7H+xG3M3XkRNiYyvNTEStNhERFRHVSpqSXFxcXYs2cPrl69CgBo1aoVBgwYoNgmgGhO7+ZIzMjDvgv3MfmHs9jxji9a2vMyHRERqZfKY2RiYmLw6quvIiEhAc2aNQMAXL9+HU5OTti/fz8aN25cJYFWJ46RUY/8omIEbIrA6dvpsDGRYde7neFgVjdXgyYiohdXLdOvp0+fjsaNGyMuLg5nz57F2bNnERsbC1dXV0yfPl3loKnukmlLsX6kF5raGCE5Kx+jN0UgM7dQ02EREVEdUqkF8U6fPg13d3el8gsXLqBz587Izs5Wa4CawDMy6nU/4zFe//YkkrPy4eNqga3jvCHT5mVIIiJSVi1nZGQyGR49elSqPDs7G7q6uqo2R/WAvZk+No/2hpFMG2fupOP9kIuQy7nGDBERvTiVE5nXXnsNEydOxJkzZyCEgBACp0+fxqRJkzBgwICqiJHqgJb2Jlj3tie0tST49cJ9fHHomqZDIiKiOkDlRGbVqlVo3LgxfH19oaenBz09PXTu3Blubm5YuXJlVcRIdUSXJpb4cmgbAMD6P29jy6m7mg2IiIhqPZWnX5uZmWHv3r2IiYlRTL9u0aIF3Nzc1B4c1T2D2zsiMTMPyw5fxye/XoaNiR76tLbVdFhERFRLqTzYtz7gYN+qJYTA/3Zfws8RsZBpa+GnCR3h6Wyu6bCIiEjDqmWw75AhQ/DFF1+UKv/yyy/h7++vanNUD0kkEiwZ2Ao9m1sjv0iO8Vv+we3U2j/bjYiIqp/Kicyff/6JV199tVR537598eeff6olKKr7tKVaWP1mO7RxNMXD3EKM3vwPHmTnazosIiKqZVROZMqbZq2jo4OsrCy1BEX1g4GuNjYGdEBDCwPEpudiXPA/yC0o0nRYRERUi6icyLi7u2P79u2lyn/55Re0bNlSLUFR/WFlLEPwmA4wN9DBhfhMTPvpHIqK5ZoOi4iIagmVZy3Nnz8fgwcPxq1bt9CzZ08AQFhYGH7++WeEhISoPUCq+xpZGeH7gA54c8NphF1Lwfy9l7H09daQSCSaDo2IiGo4lc/I9O/fH3v27EFMTAzeffddzJ49G/Hx8Thy5AgGDRpUBSFSfeDpbI6Vw9tBIgF+jojFt8dvaTokIiKqBTj9ugycfq05W07dxcJ9lwEAK95oi8HtHTUcERERVZdqmX5NVJUCOrngna6NAAAfhl7E3zcfaDgiIiKqyZjIUI0zp09z9G9rjyK5wKQfonDlPmfDERFR2ZjIUI2jpSXBV/5t4ONqgez8IowJjsD9jMeaDouIiGogJjJUI8m0pfhulBeaWBshOSsfozdHIPNxoabDIiKiGqbSiUxBQQGuX7+OoiIuYEZVw1RfB8FjvWFtLMON5Gy8sy0S+UXFmg6LiIhqEJUTmdzcXIwbNw4GBgZo1aoVYmNjAQDTpk3D559/rvYAqX5zMNPH5jEdYCTTxunb6fgg5CLkck60IyKiJ1ROZObNm4cLFy7g+PHj0NPTU5T7+fmVueIv0YtqZW+KtW+3h7aWBPsu3MeXh69rOiQiIqohVE5k9uzZg9WrV6NLly5KK6+2atUKt25xETOqGi81scIXQ9oAANaduIWt4Xc1GxAREdUIKicyqampsLa2LlWek5PDJeWpSg3xdMTsl5sCABbuu4zDl5M0HBEREWmayomMl5cX9u/fr7hfkrx8//338PX1VV9kRGWY2tMNI7ydIAQw/edzOBv7UNMhERGRBqm8aeTSpUvRt29fXLlyBUVFRVi5ciWuXLmCU6dO4cSJE1URI5GCRCLBkoGtkZSZh2PXUzF+SyR2Tu4EV0tDTYdGREQaoPIZmS5duuD8+fMoKiqCu7s7fv/9d1hbWyM8PByenp5VESOREm2pFla/2R5tHE2RnlOA0Zsj8CA7X9NhERGRBlRqHZnGjRtjw4YNiIiIwJUrV/DDDz/A3d290kGsWbMGLi4u0NPTg4+PDyIiIsqt2717d0gkklK3fv36KeqMHj261ON9+vSpdHxU8xjKtLExoAOcLPRxLy0X44L/QW4B1zQiIqpvVL60BAByuRwxMTFISUmBXC5Xeqxr164qtbV9+3bMmjUL69atg4+PD4KCgtC7d29cv369zEHFu3btQkFBgeJ+Wloa2rZtC39/f6V6ffr0webNmxX3ZTKZSnFRzWdlLEPwGG8MWXsKF+IzMe2nc1g/0hPaUi5YTURUX0iEECqtLnb69Gm8+eabuHfvHv57qEQiQXGxaiuv+vj4oEOHDli9ejWAJ0mSk5MTpk2bhrlz5z73+KCgICxYsACJiYkwNHwyTmL06NHIyMjAnj17VIqlRGW2ESfNibqXjjc3nEF+kRxv+TTEp4NacwYdEVEtVJnvX5X/dJ00aRK8vLxw6dIlpKen4+HDh4pbenq6Sm0VFBQgKioKfn5+/wakpQU/Pz+Eh4dXqI2NGzdi+PDhiiSmxPHjx2FtbY1mzZph8uTJSEtLK7eN/Px8ZGVlKd2o9vB0tsDK4R6QSIAfz8Ri7QmuZ0REVF+onMjcvHkTS5cuRYsWLWBmZgZTU1OlmyoePHiA4uJi2NjYKJXb2NggKen5a4RERETg0qVLGD9+vFJ5nz59sHXrVoSFheGLL77AiRMn0Ldv33LPFgUGBir1wcnJSaV+kOb1aW2Hha+1BAB8eeg6dp+L13BERERUHVROZHx8fBATE1MVsahs48aNcHd3h7e3t1L58OHDMWDAALi7u2PQoEH47bff8M8//+D48eNltjNv3jxkZmYqbnFxcdUQPanb6M6umNi1EQDgw9CLOBnzQMMRERFRVavQYN+LFy8q/j9t2jTMnj0bSUlJcHd3h46OjlLdNm3aVPjJLS0tIZVKkZycrFSenJwMW1vbZx6bk5ODX375BYsXL37u8zRq1AiWlpaIiYlBr169Sj0uk8k4GLiOmNunOe5nPMZvFxMxaVsUdkzyRQs7jnMiIqqrKpTIeHh4QCKRKA3uHTt2rOL/JY+pOthXV1cXnp6eCAsLw6BBgwA8GewbFhaGqVOnPvPYkJAQ5Ofn4+23337u88THxyMtLQ12dnYVjo1qJy0tCb7yb4uUR/mIuJOOccH/YO/ULrAyZqJKRFQXVSiRuXPnTpUFMGvWLAQEBMDLywve3t4ICgpCTk4OxowZAwAYNWoUHBwcEBgYqHTcxo0bMWjQIDRo0ECpPDs7G4sWLcKQIUNga2uLW7du4cMPP4Sbmxt69+5dZf2gmkNPR4oNI73w+rcncftBDib9EIWfJvhApi3VdGhERKRmFUpknJ2dFf//888/0alTJ2hrKx9aVFSEU6dOKdWtiGHDhiE1NRULFixAUlISPDw8cOjQIcUA4NjYWGhpKQ/luX79Ov7++2/8/vvvpdqTSqW4ePEitmzZgoyMDNjb2+OVV17BkiVLePmoHjE10MGGAC8MWnMSUfce4qPdl7BsaBtOyyYiqmNUXkdGKpUiMTGx1GJ1aWlpsLa2VnkdmZqI68jUHX/eSMXozRGQC+Djfi0w/qVGmg6JiIjKUS3ryJSMhfmvtLS0Umu5EGla16ZW+Ljfk2nZSw9cxbHrKRqOiIiI1KnCWxQMHjwYwJOBvaNHj1a6TFNcXIyLFy+iU6dO6o+Q6AWN6eyC60mPsD0yDtN/OofdUzrBzdpY02EREZEaVDiRKVnsTggBY2Nj6OvrKx7T1dVFx44dMWHCBPVHSPSCJBIJlgxqjTsPchBxNx3jt0Riz5TOMDPQ1XRoRET0glQeI7No0SK8//77dfoyEsfI1E1p2fkYsPokEjIeo7NbAwSP8YYON5gkIqoxqmWMzMKFC+t0EkN1VwMjGb4P8IKBrhQnY9Lw6W9XNB0SERG9IP45SvVKCzsTfD3MAwCwJfwefjxzT7MBERHRC2EiQ/VO71a2eP+VpgCAhXsvI/xW+TujExFRzcZEhuqlKT3c0L+tPYrkAu/+GIXYtFxNh0RERJXARIbqJYlEgmVD26CNoyke5hZi/NZ/8CivUNNhERGRilSetbRq1aqyG5JIoKenBzc3N3Tt2hVSae3d14azluqPpMw8DFj9N1Ie5cOvhTXWj/SCVIvbGBARaUJlvn9VTmRcXV2RmpqK3NxcmJubAwAePnwIAwMDGBkZISUlBY0aNcKxY8fg5OSkei9qACYy9cv5uAy8sT4cBUVyTO7eGHP6NNd0SERE9VK1TL9eunQpOnTogJs3byItLQ1paWm4ceMGfHx8sHLlSsTGxsLW1hbvvfeeyh0g0gQPJzMsG9oGALD2+C3sPhev4YiIiKiiVD4j07hxY+zcuRMeHh5K5efOncOQIUNw+/ZtnDp1CkOGDEFiYqI6Y602PCNTP3156Bq+PX4Lutpa2D6xI9o1NNd0SERE9Uq1nJFJTExEUVFRqfKioiIkJSUBAOzt7fHo0SNVmybSqPdfaQa/FjYoKJJj4rYoJGY+1nRIRET0HConMj169MA777yDc+fOKcrOnTuHyZMno2fPngCA6OhouLq6qi9KomqgpSVB0HAPNLMxRuqjfEzcGoXHBcWaDouIiJ5B5URm48aNsLCwgKenJ2QyGWQyGby8vGBhYYGNGzcCAIyMjLB8+XK1B0tU1Yxk2vg+wAsWhrqITsjEB6EXoOLVVyIiqkYqj5Epce3aNdy4cQMA0KxZMzRr1kytgWkSx8jQ6dtpePv7MyiSC8x+uSmm9Wqi6ZCIiOq8apl+XR8wkSEA+DkiFvN2RQMA1r3tiT6tbTUcERFR3VaZ719tVZ+kuLgYwcHBCAsLQ0pKCuRyudLjR48eVbVJohpphHdDXE96hOBTdzFrx3k0tOiElvZMbImIahKVE5kZM2YgODgY/fr1Q+vWrSGRcBVUqrs+7tcCMSnZ+DvmASZsjcTeqZ1haSTTdFhERPT/VL60ZGlpia1bt+LVV1+tqpg0jpeW6GmZuYUY9O1J3HmQgw4u5vhhvA9k2rV3Cw4iopqqWtaR0dXVhZubm8rBEdVWpgY62DDKC8Z62vjn7kPM33OJM5mIiGoIlROZ2bNnY+XKlfwgp3rFzdoI34xoBy0JsCMyHptO3tV0SEREhEqMkfn7779x7NgxHDx4EK1atYKOjo7S47t27VJbcEQ1Sfdm1vjfqy3w6f6r+Gz/FbhZG6FbUytNh0VEVK+pnMiYmZnh9ddfr4pYiGq8cV1ccSP5EXZExmPqT2exZ0pnNLYy0nRYRET1FteRKQMH+9Kz5BcV460NZxB57yFcLQ2x593OMDXQef6BRET0TNUy2JeovpNpS7FupCcczPRx50EOpvx0FkXF8ucfSEREalehMzLt27dHWFgYzM3N0a5du2euHXP27Fm1BqgJPCNDFXHlfhaGrD2Fx4XFGN3JBZ8MaKXpkIiIarUqW9l34MCBkMmeLAI2aNCgSgdIVJe0tDfB18M8MOmHKASfuotmtsYY4d1Q02EREdUrHCNTBp6RIVV8E3YTy/+4AW0tCX4c7wOfRg00HRIRUa3EMTJEGjC1pxtea2OHIrnA5B/PIi49V9MhERHVGxW6tGRubl7hPZXS09NfKCCi2kYikWDZ0La4l5aL6IRMjN8SiZ3vdoKRTOXVDYiISEUV+qQNCgpS/D8tLQ2ffvopevfuDV9fXwBAeHg4Dh8+jPnz51dJkEQ1nb6uFN+N8sSA1SdxPfkR3tt+Huvf9oSWFjdVJSKqSiqPkRkyZAh69OiBqVOnKpWvXr0aR44cwZ49e9QZn0ZwjAxV1rnYhxj23WkUFMkxpUdjfNC7uaZDIiKqNapljMzhw4fRp0+fUuV9+vTBkSNHVG2OqE5p19AcXwxxBwCsOXYLe88naDgiIqK6TeVEpkGDBti7d2+p8r1796JBA87WIHq9nSMmdWsMAPgg9CLOx2VoNiAiojpM5URm0aJFmDNnDvr3749PP/0Un376Kfr374+5c+di0aJFlQpizZo1cHFxgZ6eHnx8fBAREVFu3e7du0MikZS69evXT1FHCIEFCxbAzs4O+vr68PPzw82bNysVG1FlfNC7GXo1t0ZBkRwTt0YiKTNP0yEREdVJKicyo0ePxsmTJ2FiYoJdu3Zh165dMDExwd9//43Ro0erHMD27dsxa9YsLFy4EGfPnkXbtm3Ru3dvpKSklFl/165dSExMVNwuXboEqVQKf39/RZ0vv/wSq1atwrp163DmzBkYGhqid+/eyMvjlwlVD6mWBEHDPdDUxggpj/IxcVsk8gqLNR0WEVGdo/EF8Xx8fNChQwesXr0aACCXy+Hk5IRp06Zh7ty5zz0+KCgICxYsQGJiIgwNDSGEgL29PWbPno33338fAJCZmQkbGxsEBwdj+PDhz22Tg31JXWLTcjFwzd94mFuIAW3tsXK4R4WXMiAiqm+qbLBvVlZWhW+qKCgoQFRUFPz8/P4NSEsLfn5+CA8Pr1AbGzduxPDhw2FoaAgAuHPnDpKSkpTaNDU1hY+PT7lt5ufnv1A/iMrTsIEBvn3LE9paEuy7cB/fHr+l6ZCIiOqUCiUyZmZmMDc3r9BNFQ8ePEBxcTFsbGyUym1sbJCUlPTc4yMiInDp0iWMHz9eUVZynCptBgYGwtTUVHFzcnJSqR9Ez+LbuAEWDXyyoeSyw9fx++Xn/2wTEVHFVGhBvGPHjin+f/fuXcydOxejR49WWhBvy5YtCAwMrJooy7Fx40a4u7vD29v7hdqZN28eZs2apbiflZXFZIbU6i0fZ1xPeoSt4fcwc/t57JzcCS3seNmSiOhFVSiR6datm+L/ixcvxooVKzBixAhF2YABA+Du7o7vvvsOAQEBFX5yS0tLSKVSJCcnK5UnJyfD1tb2mcfm5OTgl19+weLFi5XKS45LTk6GnZ2dUpseHh5ltiWTyRS7exNVlfmvtcSt1GycjEnD+C2R2De1MxoY8eeOiOhFqDxrKTw8HF5eXqXKvby8njltuiy6urrw9PREWFiYokwulyMsLExxtqc8ISEhyM/Px9tvv61U7urqCltbW6U2s7KycObMmee2SVSVdKRaWPNme7g0MEBCxmNM/uEsCorkmg6LiKhWUzmRcXJywoYNG0qVf//995W6HDNr1ixs2LABW7ZswdWrVzF58mTk5ORgzJgxAIBRo0Zh3rx5pY7buHEjBg0aVGoRPolEgpkzZ+LTTz/Fvn37EB0djVGjRsHe3h6DBg1SOT4idTIz0MX3AV4wlmkj4m46Fuy9BA1PHCQiqtVU3p7366+/xpAhQ3Dw4EH4+PgAeDLo9ubNm9i5c6fKAQwbNgypqalYsGABkpKS4OHhgUOHDikG68bGxkJLSznfun79Ov7++2/8/vvvZbb54YcfIicnBxMnTkRGRga6dOmCQ4cOQU9PT+X4iNTNzdoYq95sh3HB/+CXf+LQzNYYYzq7ajosIqJaqVLryMTHx2Pt2rW4evUqAKBFixaYNGlSnRkgy3VkqDps+PM2PjtwFVoSIHiMN7o2tdJ0SEREGlWZ71+NL4hXEzGRoeoghMAHoRcRGhUPEz1t7JnSGY2sjDQdFhGRxlTm+1flS0slcnNzERsbi4KCAqXyNm3aVLZJonpFIpHgs9db486DHETde4jxWyKx+93OMDXQ0XRoRES1hspnZFJTUzFmzBgcPHiwzMeLi2v/fjI8I0PVKfVRPgau/hv3M/PwUhNLbB7dAdpSlcfhExHVelW2RcHTZs6ciYyMDJw5cwb6+vo4dOgQtmzZgiZNmmDfvn0qB01U31kZy/DdKC/o60jx180HWHrgmqZDIiKqNVROZI4ePYoVK1bAy8sLWlpacHZ2xttvv40vv/yy2lf2JaorWjuYYsUbbQEAm07ewfZ/YjUcERFR7aByIpOTkwNra2sAgLm5OVJTUwEA7u7uOHv2rHqjI6pH+rrb4T2/pgCAj/dcwj930zUcERFRzadyItOsWTNcv34dANC2bVusX78eCQkJWLdundKWAESkuum93NDP3Q6FxQKTtkUhLj1X0yEREdVoKicyM2bMQGJiIgBg4cKFOHjwIBo2bIhVq1Zh6dKlag+QqD6RSCT4yr8tWtmbIC2nABO2RiInv0jTYRER1VgvvI5Mbm4url27hoYNG8LS0lJdcWkUZy2Rpt3PeIwBq0/iQXY+Xmlpg3Vve0JLS6LpsIiIqlS1zFr6LwMDA7Rv377OJDFENYG9mT6+G+UJXakWfr+SjK+P3NB0SERENRIXqyCqodo3NEfgYHcAwDdHY7Dvwn0NR0REVPMwkSGqwYZ4OuKdro0AAB+EXMDF+AzNBkREVMMwkSGq4T7s0xw9m1sjv0iOCVsjkZyVp+mQiIhqDJUSmaKiIixevBjx8fFVFQ8R/YdUS4KVwz3QxNoIyVn5mLgtCnmFtX8rECIidVApkdHW1sayZctQVMTpoETVyVhPB98HeMHMQAcX4jIwd+dFcON6IqJKXFrq2bMnTpw4URWxENEzODcwxLdvtYe2lgR7zt/H2hO3NB0SEZHGaat6QN++fTF37lxER0fD09MThoaGSo8PGDBAbcERkbJOjS2xcEArzN9zCcsOX0cTa2O83NJG02EREWmMygviaWmVfxJHIpGguLj2X7vngnhU0328Jxo/nI6Foa4UO9/thOa2/DklotqvWhbEk8vl5d7qQhJDVBss7N8Kvo0aIKegGOO3RCI9p0DTIRERacQLTb/Oy+M0UCJN0JFq4du32sO5gQHiHz7G5B+iUFAk13RYRETVTuVEpri4GEuWLIGDgwOMjIxw+/ZtAMD8+fOxceNGtQdIRGUzN9TF96O8YCTTxpk76Vi47zJnMhFRvaNyIvPZZ58hODgYX375JXR1dRXlrVu3xvfff6/W4Ijo2ZrYGOObEe0gkQA/R8Ria/g9TYdERFStVE5ktm7diu+++w5vvfUWpFKporxt27a4du2aWoMjoufr0dwac/s0BwAs/u0K/r75QMMRERFVH5UTmYSEBLi5uZUql8vlKCwsVEtQRKSaiV0bYXB7BxTLBd79MQp3HuRoOiQiomqhciLTsmVL/PXXX6XKQ0ND0a5dO7UERUSqkUgkWPq6O9o1NENWXhHGbfkHmY/5hwUR1X0qL4i3YMECBAQEICEhAXK5HLt27cL169exdetW/Pbbb1URIxFVgJ6OFOtHemLg6pO4nZqD6T+fw6bRHSDVkmg6NCKiKqPyGZmBAwfi119/xZEjR2BoaIgFCxbg6tWr+PXXX/Hyyy9XRYxEVEHWxnrYMMoLejpaOHEjFYEHrmo6JCKiKqXyyr71AVf2pdpu/8VETPnpLADgyyFt8EYHJw1HRET0fNWysm+jRo2QlpZWqjwjIwONGjVStTkiqgL92thhRq8mAICP9kQj8m66hiMiIqoaKicyd+/eLXMrgvz8fCQkJKglKCJ6cTN6NUHf1rYoLBaY9EMU4h/majokIiK1q/Bg33379in+f/jwYZiamiruFxcXIywsDC4uLmoNjogqT0tLguVvtMW9tFxcSczChK1RCJ3kC0OZymP8iYhqrAqPkXnWrtc6OjpwcXHB8uXL8dprr6ktOE3hGBmqSxIyHmPg6r/xILsAfVrZ4tu32kOLM5mIqAaqsjEyFy9eRGFhIeRyOZydnZGSkqK063V+fj6uX79eJ5IYorrGwUwf60d6QleqhUOXkxAUdlPTIRERqU2FEpl27dohPf3JYEGJRAKJhH/NEdUmns4W+Oz11gCAVWE38dvF+xqOiIhIPSqUyJiZmSl2ub537x7kcnmVBkVE6ufv5YQJL7kCAN4PuYDo+EwNR0RE9OIqNOpvyJAh6NatG+zs7AAAXl5eShtGPq0k4SGimmdu3xa4mZKN49dTMWFrJPZN7QxrEz1Nh0VEVGkVOiPz3XffYc+ePZg9ezaEEJgwYQJmzJhR5k1Va9asgYuLC/T09ODj44OIiIhn1s/IyMCUKVNgZ2cHmUyGpk2b4sCBA4rHP/nkE8Xlr5Jb8+bNVY6LqC6SakmwakQ7uFkbISkrDxO3RSGvsPRyCkREtUWF52H26dMHABAVFYUZM2bA2Nj4hZ98+/btmDVrFtatWwcfHx8EBQWhd+/euH79OqytrUvVLygowMsvvwxra2uEhobCwcEB9+7dg5mZmVK9Vq1a4ciRI4r72tqcbkpUwkRPB9+P8sLANSdxPi4D/9sVjeVvtOXYNyKqlVT+ht+8ebPannzFihWYMGECxowZAwBYt24d9u/fj02bNmHu3Lml6m/atAnp6ek4deoUdHR0AKDMtWu0tbVha2tb4Tjy8/ORn5+vuJ+VlaViT4hqFxdLQ3z7VnuM2hSBXecS0NTWGJO6NdZ0WEREKlN5ZV8AiIyMxIcffojhw4dj8ODBSreKKigoQFRUFPz8/P4NRksLfn5+CA8PL/OYffv2wdfXF1OmTIGNjQ1at26NpUuXllpp+ObNm7C3t0ejRo3w1ltvITY29pmxBAYGwtTUVHFzcuK+NFT3dXazxML+LQEAXxy6hrCryRqOiIhIdSonMr/88gs6deqEq1evYvfu3SgsLMTly5dx9OhRpdV+n+fBgwcoLi6GjY2NUrmNjQ2SkpLKPOb27dsIDQ1FcXExDhw4gPnz52P58uX49NNPFXV8fHwQHByMQ4cOYe3atbhz5w5eeuklPHr0qNxY5s2bh8zMTMUtLi6uwv0gqs1GdnTGWz4NIQQw/edzuJFc/u8JEVFNpPKlpaVLl+Lrr7/GlClTYGxsjJUrV8LV1RXvvPOOYlZTVZHL5bC2tsZ3330HqVQKT09PJCQkYNmyZVi4cCEAoG/fvor6bdq0gY+PD5ydnbFjxw6MGzeuzHZlMhlkMlmVxk5UE0kkEnwyoBVupWbj9O10jN8Sib1TOsPcUFfToRERVYjKZ2Ru3bqFfv36AQB0dXWRk5MDiUSC9957D999912F27G0tIRUKkVysvLp7OTk5HLHt9jZ2aFp06ZKU79btGiBpKQkFBQUlHmMmZkZmjZtipiYmArHRlSf6Ei18O1bnnCy0Edsei4m/xiFwmKuFUVEtYPKiYy5ubniMo2DgwMuXboE4Mm06Nzciu+uq6urC09PT4SFhSnK5HI5wsLC4OvrW+YxnTt3RkxMjNKCfDdu3ICdnR10dcv+CzI7Oxu3bt2q8rNFRLWZhaEuNgZ0gKGuFKdvp+OTfZc1HRIRUYWonMh07doVf/zxBwDA398fM2bMwIQJEzBixAj06tVLpbZmzZqFDRs2YMuWLbh69SomT56MnJwcxSymUaNGYd68eYr6kydPRnp6OmbMmIEbN25g//79WLp0KaZMmaKo8/777+PEiRO4e/cuTp06hddffx1SqRQjRoxQtatE9UpTG2OsGtEOEgnw45lYbAu/q+mQiIieS+UxMqtXr0ZeXh4A4KOPPoKOjg5OnTqFIUOG4OOPP1aprWHDhiE1NRULFixAUlISPDw8cOjQIcUA4NjYWKVdt52cnHD48GG89957aNOmDRwcHDBjxgzMmTNHUSc+Ph4jRoxAWloarKys0KVLF5w+fRpWVlaqdpWo3unVwgZz+jTH5wev4ZNfr6CRlRE6u1lqOiwionJJhBBC00HUNJXZRpyorhBCYPaOC9h1LgGm+jrYO6UzXCwNNR0WEdUDlfn+rdQ6MkRUd0kkEiwd7A4PJzNkPi7E+K2RyMor1HRYRERlYiJDRKXo6Ujx3UhP2JroISYlG9N/PodiOU/eElHNw0SGiMpkbaKHDaO8oKejhePXU/HFoWuaDomIqBQmMkRULndHU3zl3xYA8N2ftxEaFa/hiIiIlKmcyIwdO7bM5f5zcnIwduxYtQRFRDXHa23sMb2nGwDgf7uiEXUvXcMRERH9S+VEZsuWLXj8+HGp8sePH2Pr1q1qCYqIapaZfk3Ru5UNCorleGdbFBIySn8GEBFpQoUTmaysLGRmZkIIgUePHiErK0txe/jwIQ4cOABra+uqjJWINERLS4IVb3ighZ0JHmQXYMKWSOQWFGk6LCKiii+IZ2ZmBolEAolEgqZNm5Z6XCKRYNGiRWoNjohqDkOZNjaM8sTA1SdxJTELs3dcwJo320NLS6Lp0IioHqtwInPs2DEIIdCzZ0/s3LkTFhYWisd0dXXh7OwMe3v7KgmSiGoGR3MDrB/piREbTuPgpSSsDLuJ914u/YcNEVF1UXll33v37qFhw4aQSOruX2Fc2Zfo2XZExuHD0IsAgDVvtke/NtyUlYheXLWs7Hv06FGEhoaWKg8JCcGWLVtUbY6IaqE3vJwwrosrAGB2yHlcSsjUcEREVF+pnMgEBgbC0rL0JnLW1tZYunSpWoIioppvXt/m6NbUCnmFckzYGomUR3maDomI6iGVE5nY2Fi4urqWKnd2dkZsbKxagiKimk9bqoVVI9qhkZUhEjPz8M62KOQVFms6LCKqZ1ROZKytrXHx4sVS5RcuXECDBg3UEhQR1Q6m+jrYGNABpvo6OBebgf/tjoaKw+6IiF6IyonMiBEjMH36dBw7dgzFxcUoLi7G0aNHMWPGDAwfPrwqYiSiGszV0hBr3mwPqZYEu84mYMNftzUdEhHVIyonMkuWLIGPjw969eoFfX196Ovr45VXXkHPnj05RoaonurSxBLz+7UAAAQevIZj11I0HBER1RcqT78ucePGDVy4cAH6+vpwd3eHs7OzumPTGE6/JlKdEAL/230JP0fEwkimjd3vdkITG2NNh0VEtUhlvn8rvCDef7m4uEAIgcaNG0Nbu9LNEFEdIZFIsGhAK9xKzUbEnXSM3xqJPe92hrmhrqZDI6I6TOVLS7m5uRg3bhwMDAzQqlUrxUyladOm4fPPP1d7gERUe+hqa2Hd255wNNfHvbRcvPvjWRQWyzUdFhHVYSonMvPmzcOFCxdw/Phx6OnpKcr9/Pywfft2tQZHRLWPhaEuNgZ0gKGuFOG307D41yuaDomI6jCVE5k9e/Zg9erV6NKli9I2Ba1atcKtW7fUGhwR1U7NbI0RNLwdJBJg2+l72Hb6nqZDIqI6SuVEJjU1FdbW1qXKc3Jy6vT+S0Skmpdb2uCD3s0AAJ/su4xTtx5oOCIiqotUTmS8vLywf/9+xf2S5OX777+Hr6+v+iIjolpvcrfGGORhj2K5wLs/nsW9tBxNh0REdYzK042WLl2Kvn374sqVKygqKsLKlStx5coVnDp1CidOnKiKGImolpJIJPh8SBvcScvFhbgMjNsSid3vdoKxno6mQyOiOkLlMzJdunTB+fPnUVRUBHd3d/z++++wtrZGeHg4PD09qyJGIqrF9HSk2DDSEzYmMsSkZGPGL+dRLOc2BkSkHhVaEG/WrFlYsmQJDA0N8eeff6JTp051eu0YLohHpH4X4zPgvy4c+UVyvNOtEeb1baHpkIiohqnM92+Fzsh88803yM7OBgD06NED6enplY+SiOqlNo5mWObfFgCw/sRt7IyK13BERFQXVOi0iouLC1atWoVXXnkFQgiEh4fD3Ny8zLpdu3ZVa4BEVHcMaGuPG0mPsPpYDObtioarlSHaNyz7s4SIqCIqdGlpz549mDRpElJSUiCRSFDeIRKJBMXFxWoPsrrx0hJR1ZHLBSb9EIXfryTD0kiGfVM7w95MX9NhEVENUJnvX5U2jczOzoaJiQmuX79e5loyAGBqalrR5mosJjJEVSsnvwhD1p7CtaRHaO1ggpB3OkFfV6rpsIhIw6psjMysWbOQk5MDIyMjHDt2DK6urjA1NS3zRkT0PIYybWwY5QULQ11cSsjC+yEXyj3TS0T0LCoP9u3ZsycH+xLRC3OyMMC6tz2hI5Vgf3QiVoXFaDokIqqFONiXiDTG29UCnw5qjTk7o/H1kRtoamOEvu52mg6LiGoRDvYtA8fIEFWvRb9exuaTd6GvI0XoZF+0sudlaqL6iIN91YSJDFH1KiqWY0zwP/jr5gPYm+ph79QusDKWaTosIqpmVTbYt0RVDPZds2YNXFxcoKenBx8fH0RERDyzfkZGBqZMmQI7OzvIZDI0bdoUBw4ceKE2iUiztKVaWP1mezSyNMT9zDxM+iEK+UW1/+wuEVW9CicyO3bsQEFBAbp16wZtbW3Ex8dDLpcrHs/NzcWXX36p0pNv374ds2bNwsKFC3H27Fm0bdsWvXv3RkpKSpn1CwoK8PLLL+Pu3bsIDQ3F9evXsWHDBjg4OFS6TSKqGUz1dfB9gBdM9LQRde8hPtp9iTOZiOi5KnxpSSqVIjExUXFJycTEBOfPn0ejRo0AAMnJybC3t1dpjIyPjw86dOiA1atXAwDkcjmcnJwwbdo0zJ07t1T9devWYdmyZbh27Rp0dMrePVfVNsvCS0tEmvPnjVSM3hwBuQA+7tcC419qpOmQiKiaVOmlpf/mOy/6l1JBQQGioqLg5+f3bzBaWvDz80N4eHiZx+zbtw++vr6YMmUKbGxs0Lp1ayxdulSRPFWmTQDIz89HVlaW0o2INKNrUyt83K8lAGDpgas4dp1nU4mofCqNkVGnBw8eoLi4GDY2NkrlNjY2SEpKKvOY27dvIzQ0FMXFxThw4ADmz5+P5cuX49NPP610mwAQGBioNM7HycnpBXtHRC9iTGcXDO/gBLkApv90DjEpjzQdEhHVUBpLZCpDLpfD2toa3333HTw9PTFs2DB89NFHWLdu3Qu1O2/ePGRmZipucXFxaoqYiCpDIpFg8cDW8HaxwKP8IozfEomkzDxNh0VENVCFFsQrcfjwYcXMJLlcjrCwMFy6dAnAk9lEqrC0tIRUKkVycrJSeXJyMmxtbcs8xs7ODjo6OpBK/92TpUWLFkhKSkJBQUGl2gQAmUwGmYxTPYlqEl1tLax9uz0GrD6Ju2m56PzFUXRvagV/L0f0bG4DXe1a9XcYEVURlRKZgIAApfvvvPOO0n2JRFLhtnR1deHp6YmwsDAMGjQIwL/J0dSpU8s8pnPnzvjpp58gl8uhpfXkQ+zGjRuws7ODrq4uAKjcJhHVXA2MZNgytgPm7IxG1L2HCLuWgrBrKTA30MFADwf4ezly8Tyiek6lBfHUbfv27QgICMD69evh7e2NoKAg7NixA9euXYONjQ1GjRoFBwcHBAYGAgDi4uLQqlUrBAQEYNq0abh58ybGjh2L6dOn46OPPqpQmxXBWUtENc+t1GyERsVj19l4JGflK8pb2pnA38sRAz0cYGGoq8EIiehFVfnKvlVh9erVWLZsGZKSkuDh4YFVq1bBx8cHANC9e3e4uLggODhYUT88PBzvvfcezp8/DwcHB4wbNw5z5sxRutz0rDYrgokMUc1VVCzHXzEPEBoZjz+uJKOg+Ml6VjpSCXo1t4G/lyO6NbWCtpSXnohqm1qZyNRETGSIaoeM3ALsu3AfIZHxiE7IVJRbGcswuN2TS09u1sYajJCIVMFERk2YyBDVPteSshASGY895xKQllOgKG/rZAZ/T0f0b2sPU/2yF9IkopqBiYyaMJEhqr0Ki+U4di0FIVHxOHYtBUXyJx9xMm0t9G5lC38vR3RqbAmpVsUnJxBR9WAioyZMZIjqhgfZ+dhzLgEhkfG4nvzvonr2pnoY4umIIe0d4WJpqMEIiehpTGTUhIkMUd0ihMClhCyERMVh7/n7yHxcqHjM28UCQ70c0c/dDoYylVakICI1q7JExtzcvMJrxKSnp1eoXk3GRIao7sorLMaRq8kIiYzHXzdT8f9XnmCgK8Wr7nYY6ukIH1cLldbFIiL1qMz3b4X+/AgKClL8Py0tDZ9++il69+4NX19fAE+mRB8+fBjz589XPWoiomqkpyPFa23s8VobeyRl5mHn2XjsjIrH7Qc5CI2KR2hUPBpaGGCopyOGeDrCwUxf0yET0TOofGlpyJAh6NGjR6mVclevXo0jR45gz5496oxPI3hGhqh+EULgbOxDhETG47eLicjOLwIASCRA58aWGOrpiD6tbaGnI31OS0T0IqpljIyRkRHOnz8PNzc3pfKYmBh4eHggOztbleZqJCYyRPVXbkERDl1KQmhUPE7dSlOUG8u08Vpbe/h7OaKdkxkvPRFVgcp8/6q89GWDBg2wd+/eUuV79+5FgwYNVG2OiKhGMdDVxuD2jvhpQkf89WEPzPRrAkdzfTzKL8LPEbEY/O0p+K04gXUnbiEliztyE2maymdkgoODMX78ePTt21ex7P+ZM2dw6NAhbNiwAaNHj66KOKsVz8gQ0dPkcoHTd9IQGhmPA5cSkVf4ZFsELQnQrakV/L2c0KuFNWTavPRE9CKqbfr1mTNnsGrVKly9ehUA0KJFC0yfPl2l/YxqMiYyRFSeR3mFOBCdiJDIeETee6goNzPQwSAPBwz1dERrB+7ITVQZXEdGTZjIEFFF3FbsyJ2ApKcuM7WwM8FQT0cM8rBHAyOZBiMkql2qLZG5desWNm/ejNu3byMoKAjW1tY4ePAgGjZsiFatWqkceE3DRIaIVFEsF/g75gFCIuPw+5VkFBT9uyN3z+bW8Pd0QrdmVtDhjtxEz1QticyJEyfQt29fdO7cGX/++SeuXr2KRo0a4fPPP0dkZCRCQ0MrFXxNwkSGiCorM7cQ+y4kICQqHhfj/92R29JIhtfb2cPfywlNbbgjN1FZqiWR8fX1hb+/P2bNmgVjY2NcuHABjRo1QkREBAYPHoz4+PhKBV+TMJEhInW4nvQIoVFx2H0uAQ+yn9qR29EUQ72cMKCNPUwNuCM3UYlqW0cmOjoarq6uSonM3bt30bx5c+Tl1f7piExkiEidCovlOH49FSGRcTj61I7cutpaeKWlDfy9nNDFjTtyE1XZFgVPMzMzQ2JiIlxdXZXKz507BwcHB1WbIyKq83SkWni5pQ1ebmmj2JE7NCoe15Ie4beLifjtYiLsTPUwuL0Dhno6wZU7chNVmMpnZN5//32cOXMGISEhaNq0Kc6ePYvk5GSMGjUKo0aNwsKFC6sq1mrDMzJEVNWEELh8PwshkXHYe+E+MnL/3ZG7g4s5/D2d8GobOxhxR26qR6rl0lJBQQGmTJmC4OBgFBcXQ1tbG8XFxXjzzTcRHBwMqbT2LwjFRIaIqlN+UTGOXElBaFQcTtz4d0dufR0p+rrbwt/TCT6uFtDipSeq46p1HZm4uDhER0cjOzsb7dq1Q5MmTSrTTI3ERIaINCU5Kw+7ziYgJCoOt1NzFOVOFvoY2t4Jg9s7wMnCQIMRElWdaklkFi9ejPfffx8GBsq/SI8fP8ayZcuwYMECVZqrkZjIEJGmPdmROwOhUfH47cJ9PPr/HbkBoFPjBvD3ckSfVnbQ1639Z8GJSlRLIiOVSpGYmAhra2ul8rS0NFhbW6O4uFiV5mokJjJEVJM8LijG4ctJCImKw6lbaSj51H6yI7cdhno6on1Dc+7ITbVetcxaEkKU+cty4cIFWFhYqNocERE9h76uFIPaOWBQOwfEP8zFzqgEhJ6NQ1z6Y/wcEYefI+LQyMoQQz0dMaS9I2xM9DQdMlG1qfAZGXPzJ9l+SZb0dDJTXFyM7OxsTJo0CWvWrKmyYKsLz8gQUU0nlwtE3E1HSGQ8DkQn4nHhk7PhWhKga1Mr+Hs6wa8ld+Sm2qVKLy1t2bIFQgiMHTsWQUFBMDX9d3dXXV1duLi4wNfXt3KR1zBMZIioNsnOL8KBi4kIiYrDP3f/3ZHbVF8HAz3s4e/phNYOJrz0RDVete211KlTJ+jo1N1ltZnIEFFtdfdBDkKj4rHzbDwSM/9dab25rfGTHbnbOcCSO3JTDVWt068BIC8vDwUFBUpldeGLn4kMEdV2xXKBkzEPEBIVj8OXkxQ7cmtrSdCjuTX8PR3Ro7k1d+SmGqVaEpnc3Fx8+OGH2LFjB9LS0ko9zllLREQ1S+bjQvx64T5CouJxIS5DUW5ppItBHg7w93JCM1vuyE2aVy2JzJQpU3Ds2DEsWbIEI0eOxJo1a5CQkID169fj888/x1tvvVWp4GsSJjJEVFfdSH6E0Kh47DqbgAfZ+YpydwdT+Hs5YkBbe5gZ6GowQqrPqiWRadiwIbZu3Yru3bvDxMQEZ8+ehZubG7Zt24aff/4ZBw4cqFTwNQkTGSKq6wqL5ThxPRWhUfEIu5aMwuL/35FbqoWXW9nA39MRLzWx4o7cVK2qZR2Z9PR0NGrUCMCT8TDp6ekAgC5dumDy5MmqNkdERBqgI9WCX0sb+LW0QVp2Pvaef3Lp6WpiFvZfTMT+i4mwMZFhcHtH+Hs6opGVkaZDJiqTyqO8GjVqhDt37gAAmjdvjh07dgAAfv31V5iZmak1OCIiqnoNjGQY28UVB2e8hN+mdcHoTi4wN9BBclY+1h6/hZ7LT2DI2lP4JSIWj/IKn98gUTVS+dLS119/DalUiunTp+PIkSPo378/hBAoLCzEihUrMGPGjKqKtdrw0hIR1Xf5RcU4ejUFIVHxOH49RbEjt56OFl5t/WRbhI6NGnBHblKrap9+DQD37t1DVFQU3Nzc0KZNmxdpqsZgIkNE9K+UrDzsOpeAkMg43HpqR25Hc30Mae+IoZ6O3JGb1EIjiUxdxESGiKg0IQTOx2UgJCoev55X3pHbt1EDDPV0RF93Wxjoqjz8kghANSYy//zzD44dO4aUlBTI5XKlx1asWKFqczUOExkiomfLK/z/Hbkj43Hy1gPFjtxGMm30c7eDv5cjPJ25IzeppjLfvyoP9l26dCl8fHywefNmREZG4ty5c4rb+fPnVW0OALBmzRq4uLhAT08PPj4+iIiIKLducHAwJBKJ0k1PT3mn19GjR5eq06dPn0rFRkREpenpSDHQwwE/jPfB33N6YvbLTeHcwADZ+UXYHhmHoevC0XP5Caw5FoPEzMeaDpfqMJXP/61cuRKbNm3C6NGj1RLA9u3bMWvWLKxbtw4+Pj4ICgpC7969cf36dVhbW5d5jImJCa5fv664X1bG36dPH2zevFlxXybj3iJERFXBwUwf03o1wdSeboi4k46QqCc7ct95kINlh69j+e/X0aWJFfw9HfFySxvo6XBHblIflRMZLS0tdO7cWW0BrFixAhMmTMCYMWMAAOvWrcP+/fuxadMmzJ07t8xjJBIJbG1tn9muTCZ7bh0iIlIfiUQCn0YN4NOoARYNaIUD0YkIiYpHxJ10/HkjFX/eSIWpvg4GtLWHv5cj3B1MeemJXpjKl5bee+89rFmzRi1PXlBQgKioKPj5+f0bkJYW/Pz8EB4eXu5x2dnZcHZ2hpOTEwYOHIjLly+XqnP8+HFYW1ujWbNmmDx5cpn7QpXIz89HVlaW0o2IiCrPUKYNfy8n7HjHFyc+6I5pPd1gb6qHzMeF2Hb6HgasPok+QX9hw5+3kfoo//kNEpVD5cG+crkc/fr1w40bN9CyZUvo6OgoPb5r164Kt3X//n04ODjg1KlT8PX1VZR/+OGHOHHiBM6cOVPqmPDwcNy8eRNt2rRBZmYmvvrqK/z555+4fPkyHB0dAQC//PILDAwM4Orqilu3buF///sfjIyMEB4eDqm09CnNTz75BIsWLSpVzsG+RETqUywXCL+VhpCoOBy6lIT8p3bk7t7MGv5ejujRzBq62tyRu76qlllLU6dOxffff48ePXrAxsam1GnBp8elPE9lEpn/KiwsRIsWLTBixAgsWbKkzDq3b99G48aNceTIEfTq1avU4/n5+cjP//cvgqysLDg5OTGRISKqIpmPC/HbxfsIiYzH+ad25G5gqIuBHg7w93JECzt+/tY31bLX0pYtW7Bz507069dP5QD/y9LSElKpFMnJyUrlycnJFR7foqOjg3bt2iEmJqbcOo0aNYKlpSViYmLKTGRkMhkHAxMRVSNTfR285eOMt3yccbNkR+5zCUh9lI9NJ+9g08k7aO1gAn9PJwz04I7cVD6Vz99ZWFigcePGanlyXV1deHp6IiwsTFEml8sRFhamdIbmWYqLixEdHQ07O7ty68THxyMtLe2ZdYiISDOa2Bhj3qstED63JzaN9kLf1rbQkUpwKSELC/ddhvdnYXj3xygcu5aComL58xukekXlS0ubN2/GoUOHsHnzZhgYvPiS1Nu3b0dAQADWr18Pb29vBAUFYceOHbh27RpsbGwwatQoODg4IDAwEACwePFidOzYEW5ubsjIyMCyZcuwZ88eREVFoWXLlsjOzsaiRYswZMgQ2Nra4tatW/jwww/x6NEjREdHV+jMCxfEIyLSrPScAuw9n4DQqHhcvv/vBAxr4yc7cg/1dISbNXfkrmuq5dLSqlWrcOvWLdjY2MDFxaXUYN+zZ8+q1N6wYcOQmpqKBQsWICkpCR4eHjh06BBsbGwAALGxsdDS+vfE0cOHDzFhwgQkJSXB3Nwcnp6eOHXqFFq2bAkAkEqluHjxIrZs2YKMjAzY29vjlVdewZIlS3j5iIiolrAw1MWYzq4Y09kVV+5nISQqDnvP30fKo3ysO3EL607cQruGZvD3dMJrbe1goqfz/EapTlL5jExZs3uetnDhwhcKqCbgGRkiopqnoEiOo9eSERoVj2PXU1H8/1ty6+looU8rW/h7OcGXO3LXatw0Uk2YyBAR1Wwpj/Kw51wCQiLjcTMlW1HuYKaPIZ6OGNreEQ0bcEfu2oaJjJowkSEiqh2EELgQn4mQyDjsu3Afj/L+3ZHbx9UC/l5OeJU7ctcaVZbIWFhY4MaNG7C0tIS5+bN3M01PT694xDUUExkiotonr7AYv19JRkhkHP6O+XdHbkNdKfq1scNQTyd0cOGO3DVZlQ32/frrr2FsbKz4P38IiIioptHTkWJAW3sMaGuP+xmPsetsPEKj4nE3LRc7IuOxIzIeLg0MMNTTEYPbO8LeTF/TIZMa8NJSGXhGhoiobhBCIPLeQ4RExmH/xUTkFBQDACQSoIubJYZ6OqJ3K1vuyF1DVMsYGalUisTERFhbWyuVp6WlwdraGsXFxao0VyMxkSEiqnty8otw8FISQiLjcObOv8MgjPW0/39Hbie0deSO3JpULYmMlpYWkpKSSiUy9+/fR+PGjfH48WNVmquRmMgQEdVtsWm5CD0bj51R8UjI+Pd7q4m1Efy9HDGonQOsjfU0GGH9VKWJzKpVqwAA7733HpYsWQIjo39XVCwuLsaff/6Ju3fv4ty5c5UIvWZhIkNEVD/I5QLht9MQEhmHg0/tyC3VkqB7Uyv4ezmiZ3Mb7shdTao0kXF1dQUA3Lt3D46OjpBK/72eqKurCxcXFyxevBg+Pj6VCL1mYSJDRFT/ZOUV4rcLiQiNisPZ2AxFuYWhLgZ62MPf0wkt7fmdUJWq5dJSjx49sGvXLpibm1cqyNqAiQwRUf0Wk5L9ZEfus/FIeZSvKG9pZwJ/L0cM9HCAhSF35FY3jSyIV7L7tLOzc51JbpjIEBERABQVy/HXzQcIjYrHH1eSUfD/u2/rSCXwa2EDfy9HdG1iBW0pLz2pQ7UkMjNnzoS7uzvGjRuH4uJidO3aFeHh4TAwMMBvv/2G7t27Vyb2GoWJDBER/dfDnALsu3AfIVFxuJTw747cVsYyDG7nAH8vR7hZG2swwtqvWhIZBwcH7N27F15eXtizZw+mTJmCY8eOYdu2bTh69ChOnjxZqeBrEiYyRET0LFcTsxAaFY895xKQllOgKPdwMoO/lyP6t7XnjtyVUC2JjJ6eHmJiYuDo6IiJEyfCwMAAQUFBuHPnDtq2bYusrKznN1LDMZEhIqKKKCiS49j1FIRExuPY9RTFjtwybS30aW2LoZ6O6NzYkjtyV1CVbVHwNBsbG1y5cgV2dnY4dOgQ1q5dCwDIzc1VmslERERU1+lqa6F3K1v0bmWL1Ef5T3bkjorDjeRs7D1/H3vP34e9qd6THbk9HeHcwFDTIdc5KicyY8aMwRtvvAE7OztIJBL4+fkBAM6cOYPmzZurPUAiIqLawMpYhgldG2H8S66ITshESGQ89p5PwP3MPHxzNAbfHI2Bt6sFhno6op+7HQxl3JFbHSo1ayk0NBRxcXHw9/eHo6MjAGDLli0wMzPDwIED1R5kdeOlJSIiUoe8wmL8cSUZIVHx+OtmqmJHbgNdKV51t4O/pyO8XS24LcL/08j067qIiQwREalbYuZj7DqbgNCoeNx5kKMob2jxZEfuIZ6OcKjnO3JX5vu3whPfX331VWRmZiruf/7558jIyFDcT0tLQ8uWLSseLRERUT1iZ6qPKT3ccHR2N4RO8sUwLycY6koRm56LFX/cQJcvjuLt789g7/kE5BXW/g2Yq0uFz8j8d9drExMTnD9/Ho0aNQIAJCcnw97enrtfExERVVBuQREORichNCoe4bfTFOXGetro39YeQz0d0c7JrN5ceqrSWUv/zXd4RYqIiOjFGOhqY8j/X1aKS89FaFQ8Qv9/R+6fzsTipzOxcLM2wlBPRwxu5wBrE+7I/V8VPiOjpaWFpKQkxRkZY2NjXLhwgWdkiIiI1EguFzh9Ow0hUfE4eCkReYX/7sjdrakV/D0d0bOFNWTadW/Jkyo9IyORSEqd2qovp7qIiIiqi5aWBJ3cLNHJzRKLB7bC/ouJCImKR9S9hzh6LQVHr6XA3EAHAz0cMNTTEa0dTDUdskapdEamb9++kMlkAIBff/0VPXv2hKHhk8V98vPzcejQIZ6RISIiqgK3Uv/dkTs5698duVvYmcDf0xEDPezRwEimwQhfXJVOvx4zZkyFGty8eXOF6tVkTGSIiKimKpYL/HUzFSFR8fjjsvKO3D2bW8Pf0wndm9XOHbm5joyaMJEhIqLaICP3yY7coVHxuBj/7xIplkYyDG7vAH9PRzSxqT07cjORURMmMkREVNtcS8pCaGQ8dv9nR+62jqYY6uWEAW3sYWpQs3fkZiKjJkxkiIiotiosluPYtRSERMXj2LUUFP3/jtwlG1z6ezqis5slpDVwR24mMmrCRIaIiOqCB9lPduQOjYrHtaRHinI7Uz0Maf9k/RpXy5qzIzcTGTVhIkNERHWJEAKXErIQEhWHvefvI/NxoeKxDi7m8Pd0wqtt7GCk4R25mcioCRMZIiKqq/IKixF2NQUhUXH480Yq/v/KE/R1nuzIPdTTET6uFtDSwKUnJjJqwkSGiIjqg6TMPOw6F4/QyHjcfmpHbicLfQxt74Qhng5wNDeotniYyKgJExkiIqpPhBA4G/sQoVHx+PVCIrLziwAAEgnQqXEDDPV0RJ9WdtDXrdptEZjIqAkTGSIiqq8eFxTj0OVEhETG49Stp3bklmnjtbZ2GOrphPYNq2ZHbiYyasJEhoiICIhLz8XOs0925I5/+FhR3sjKEEM9HTG0vaNad+RmIqMmTGSIiIj+JZcLnLmTjpCoOByMTsLjwif7Kq5+sx1ea2OvtuepzPdvjdiIYc2aNXBxcYGenh58fHwQERFRbt3g4GDFTtwlNz095WxQCIEFCxbAzs4O+vr68PPzw82bN6u6G0RERHWSlpYEvo0bYMUbHvjnYz98McQd3Zpawa+FjaZD03wis337dsyaNQsLFy7E2bNn0bZtW/Tu3RspKSnlHmNiYoLExETF7d69e0qPf/nll1i1ahXWrVuHM2fOwNDQEL1790ZeXl5Vd4eIiKhOM5JpY1iHhtgy1ht6OlU7+LciNJ7IrFixAhMmTMCYMWPQsmVLrFu3DgYGBti0aVO5x0gkEtja2ipuNjb/ZoRCCAQFBeHjjz/GwIED0aZNG2zduhX379/Hnj17qqFHREREVF00msgUFBQgKioKfn5+ijItLS34+fkhPDy83OOys7Ph7OwMJycnDBw4EJcvX1Y8dufOHSQlJSm1aWpqCh8fn3LbzM/PR1ZWltKNiIiIaj6NJjIPHjxAcXGx0hkVALCxsUFSUlKZxzRr1gybNm3C3r178cMPP0Aul6NTp06Ij48HAMVxqrQZGBgIU1NTxc3JyelFu0ZERETVQOOXllTl6+uLUaNGwcPDA926dcOuXbtgZWWF9evXV7rNefPmITMzU3GLi4tTY8RERERUVTSayFhaWkIqlSI5OVmpPDk5Gba2thVqQ0dHB+3atUNMTAwAKI5TpU2ZTAYTExOlGxEREdV8Gk1kdHV14enpibCwMEWZXC5HWFgYfH19K9RGcXExoqOjYWdnBwBwdXWFra2tUptZWVk4c+ZMhdskIiKi2kGz+3UDmDVrFgICAuDl5QVvb28EBQUhJycHY8aMAQCMGjUKDg4OCAwMBAAsXrwYHTt2hJubGzIyMrBs2TLcu3cP48ePB/BkRtPMmTPx6aefokmTJnB1dcX8+fNhb2+PQYMGaaqbREREVAU0nsgMGzYMqampWLBgAZKSkuDh4YFDhw4pBuvGxsZCS+vfE0cPHz7EhAkTkJSUBHNzc3h6euLUqVNo2bKlos6HH36InJwcTJw4ERkZGejSpQsOHTpUauE8IiIiqt24RUEZuEUBERFR9au1WxQQERERVQYTGSIiIqq1mMgQERFRrcVEhoiIiGotJjJERERUazGRISIiolpL4+vI1EQlM9K5CzYREVH1KfneVWVlGCYyZXj06BEAcBdsIiIiDXj06BFMTU0rVJcL4pVBLpfj/v37MDY2hkQi0XQ4apeVlQUnJyfExcXV6QX/6kM/60MfgfrRT/ax7qgP/ayqPgoh8OjRI9jb2yut6v8sPCNTBi0tLTg6Omo6jCpXX3b6rg/9rA99BOpHP9nHuqM+9LMq+ljRMzElONiXiIiIai0mMkRERFRrMZGph2QyGRYuXAiZTKbpUKpUfehnfegjUD/6yT7WHfWhnzWpjxzsS0RERLUWz8gQERFRrcVEhoiIiGotJjJERERUazGRISIiolqLiUwtsGbNGri4uEBPTw8+Pj6IiIh4Zv2QkBA0b94cenp6cHd3x4EDB5QeF0JgwYIFsLOzg76+Pvz8/HDz5k3F43fv3sW4cePg6uoKfX19NG7cGAsXLkRBQYFSHYlEUup2+vTpWtNPAHBxcSnVh88//1ypzsWLF/HSSy9BT08PTk5O+PLLL2tNH48fP17m+ySRSPDPP/8AUP97qe4+7tq1C6+88goaNGgAiUSC8+fPl2ojLy8PU6ZMQYMGDWBkZIQhQ4YgOTlZqU5sbCz69esHAwMDWFtb44MPPkBRUVGl+qiJfqanp2PatGlo1qwZ9PX10bBhQ0yfPh2ZmZlK9cp6L3/55Zda0UcA6N69e6n4J02apFSntr+X5f3OSSQShISEKOrV1PeysLAQc+bMgbu7OwwNDWFvb49Ro0bh/v37Sm2kp6fjrbfegomJCczMzDBu3DhkZ2cr1VHL56ugGu2XX34Rurq6YtOmTeLy5ctiwoQJwszMTCQnJ5dZ/+TJk0IqlYovv/xSXLlyRXz88cdCR0dHREdHK+p8/vnnwtTUVOzZs0dcuHBBDBgwQLi6uorHjx8LIYQ4ePCgGD16tDh8+LC4deuW2Lt3r7C2thazZ89WtHHnzh0BQBw5ckQkJiYqbgUFBbWmn0II4ezsLBYvXqzUh+zsbMXjmZmZwsbGRrz11lvi0qVL4ueffxb6+vpi/fr1taKP+fn5Sn1LTEwU48ePF66urkIulwsh1PteVkUft27dKhYtWiQ2bNggAIhz586VamfSpEnCyclJhIWFicjISNGxY0fRqVMnxeNFRUWidevWws/PT5w7d04cOHBAWFpainnz5qncR031Mzo6WgwePFjs27dPxMTEiLCwMNGkSRMxZMgQpXoAxObNm5Xey6d/5mtyH4UQolu3bmLChAlK8WdmZioerwvvZVFRUanfy0WLFgkjIyPx6NEjRb2a+l5mZGQIPz8/sX37dnHt2jURHh4uvL29haenp1I7ffr0EW3bthWnT58Wf/31l3BzcxMjRoxQPK6uz1cmMjWct7e3mDJliuJ+cXGxsLe3F4GBgWXWf+ONN0S/fv2Uynx8fMQ777wjhBBCLpcLW1tbsWzZMsXjGRkZQiaTiZ9//rncOL788kvh6uqquF/y5VfWB1FlaKqfzs7O4uuvvy43rm+//VaYm5uL/Px8RdmcOXNEs2bNVOqfEDXjvSwoKBBWVlZi8eLFijJ1vpfq7uPTyoszIyND6OjoiJCQEEXZ1atXBQARHh4uhBDiwIEDQktLSyQlJSnqrF27VpiYmCi9tzW5n2XZsWOH0NXVFYWFhYoyAGL37t0V68gzaKqP3bp1EzNmzCg3rrr6Xnp4eIixY8cqldWG97JERESEACDu3bsnhBDiypUrAoD4559/FHUOHjwoJBKJSEhIEEKo7/OVl5ZqsIKCAkRFRcHPz09RpqWlBT8/P4SHh5d5THh4uFJ9AOjdu7ei/p07d5CUlKRUx9TUFD4+PuW2CQCZmZmwsLAoVT5gwABYW1ujS5cu2Ldvn0r9K6Hpfn7++edo0KAB2rVrh2XLlimdog4PD0fXrl2hq6ur9DzXr1/Hw4cPa00fS+zbtw9paWkYM2ZMqcde9L2sij5WRFRUFAoLC5Xaad68ORo2bKhoJzw8HO7u7rCxsVF6nqysLFy+fLnCzwVorp9lyczMhImJCbS1lbfNmzJlCiwtLeHt7Y1NmzZBqLhcmKb7+OOPP8LS0hKtW7fGvHnzkJubq/Q8de29jIqKwvnz5zFu3LhSj9WW9zIzMxMSiQRmZmaKNszMzODl5aWo4+fnBy0tLZw5c0ZRRx2fr9w0sgZ78OABiouLlX5hAcDGxgbXrl0r85ikpKQy6yclJSkeLykrr85/xcTE4JtvvsFXX32lKDMyMsLy5cvRuXNnaGlpYefOnRg0aBD27NmDAQMG1Jp+Tp8+He3bt4eFhQVOnTqFefPmITExEStWrFC04+rqWqqNksfMzc1rfB+ftnHjRvTu3VtpU1R1vZdV0ceKSEpKgq6uruIDtKx2ynueksdUoal+lhXHkiVLMHHiRKXyxYsXo2fPnjAwMMDvv/+Od999F9nZ2Zg+fbpKbWuqj2+++SacnZ1hb2+PixcvYs6cObh+/Tp27dr1zOcpeUwVNeW93LhxI1q0aIFOnTopldeW9zIvLw9z5szBiBEjFBtIJiUlwdraWqmetrY2LCwslH4v1fH5ykSGnikhIQF9+vSBv78/JkyYoCi3tLTErFmzFPc7dOiA+/fvY9myZSonMpr0dB/atGkDXV1dvPPOOwgMDKwRS2+rU3x8PA4fPowdO3YoldeV97I+ycrKQr9+/dCyZUt88sknSo/Nnz9f8f927dohJycHy5YtU+nLT5OeTszc3d1hZ2eHXr164datW2jcuLEGI6sajx8/xk8//aT0vpWoDe9lYWEh3njjDQghsHbtWo3EwEtLNZilpSWkUmmp2RfJycmwtbUt8xhbW9tn1i/5tyJt3r9/Hz169ECnTp3w3XffPTdeHx8fxMTEPLfef2m6n//tQ1FREe7evfvM53n6OSqiJvRx8+bNaNCgQYWSk8q8l1XRx4qwtbVFQUEBMjIyym1HXe8joLl+lnj06BH69OkDY2Nj7N69Gzo6Os+s7+Pjg/j4eOTn51f4OTTdx6f5+PgAgOLnsS69lwAQGhqK3NxcjBo16rl1a9p7WZLE3Lt3D3/88YfibExJGykpKUr1i4qKkJ6ervbfSyYyNZiuri48PT0RFhamKJPL5QgLC4Ovr2+Zx/j6+irVB4A//vhDUd/V1RW2trZKdbKysnDmzBmlNhMSEtC9e3d4enpi8+bN0NJ6/o/K+fPnYWdnp1IfAc32s6w+aGlpKU6J+vr64s8//0RhYaHS8zRr1qzCpz1rQh+FENi8eTNGjRr13C8+oHLvZVX0sSI8PT2ho6Oj1M7169cRGxuraMfX1xfR0dFKH6wlH7wtW7as8HMBmusn8OT9feWVV6Crq4t9+/ZBT0/vucecP38e5ubmKp1h1GQf/6tk6nLJz2NdeS9LbNy4EQMGDICVldVz69ak97Ikibl58yaOHDmCBg0alGojIyMDUVFRirKjR49CLpcrklN1fb5y1lIN98svvwiZTCaCg4PFlStXxMSJE4WZmZlixP7IkSPF3LlzFfVPnjwptLW1xVdffSWuXr0qFi5cWOaUXTMzM7F3715x8eJFMXDgQKUpu/Hx8cLNzU306tVLxMfHK039KxEcHCx++ukncfXqVXH16lXx2WefCS0tLbFp06Za089Tp06Jr7/+Wpw/f17cunVL/PDDD8LKykqMGjVK0UZGRoawsbERI0eOFJcuXRK//PKLMDAwqPT06+ruY4kjR44IAOLq1aul4lLne1kVfUxLSxPnzp0T+/fvFwDEL7/8Is6dO6f08zhp0iTRsGFDcfToUREZGSl8fX2Fr6+v4vGSKbuvvPKKOH/+vDh06JCwsrJ6oSm71d3PzMxM4ePjI9zd3UVMTIzS72VRUZEQQoh9+/aJDRs2iOjoaHHz5k3x7bffCgMDA7FgwYJa0ceYmBixePFiERkZKe7cuSP27t0rGjVqJLp27apooy68lyVu3rwpJBKJOHjwYKm4avJ7WVBQIAYMGCAcHR3F+fPnlX4Wn56B1KdPH9GuXTtx5swZ8ffff4smTZooTb9W1+crE5la4JtvvhENGzYUurq6wtvbW5w+fVrxWLdu3URAQIBS/R07doimTZsKXV1d0apVK7F//36lx+VyuZg/f76wsbERMplM9OrVS1y/fl3x+ObNmwWAMm8lgoODRYsWLYSBgYEwMTER3t7eStNfa0M/o6KihI+PjzA1NRV6enqiRYsWYunSpSIvL0+pnQsXLoguXboImUwmHBwcxOeff15r+lhixIgRSuuqPE3d76W6+1jez+PChQsVdR4/fizeffddYW5uLgwMDMTrr79e6kvj7t27om/fvkJfX19YWlqK2bNnK01brun9PHbsWLm/l3fu3BFCPJne6uHhIYyMjIShoaFo27atWLdunSguLq4VfYyNjRVdu3YVFhYWQiaTCTc3N/HBBx8orSMjRO1/L0vMmzdPODk5lfn+1OT3smRaeVm3Y8eOKeqlpaWJESNGCCMjI2FiYiLGjBmjtE6OEOr5fJUIoeJcLiIiIqIagmNkiIiIqNZiIkNERES1FhMZIiIiqrWYyBAREVGtxUSGiIiIai0mMkRERFRrMZEhIiKiWouJDBEREdVaTGSIAHTv3h0zZ87UdBgQQmDixImwsLCARCJR7DOjitGjR2PQoEFqj42IqCZiIkO1Wv/+/dGnT58yH/vrr78gkUhw8eLFao6q8g4dOoTg4GD89ttvSExMROvWrUvVOX78OCQSSandnkusXLkSwcHBVRvoC0pKSsK0adPQqFEjyGQyODk5oX///qU2qqtKVZnwaSox/uSTTyCRSJ55qwp3796tdOJdVVxcXBAUFKTpMKgaMJGhWm3cuHH4448/EB8fX+qxzZs3w8vLC23atNFAZJVz69Yt2NnZoVOnTrC1tYW2trbKbZiamsLMzEz9wamooKCgzPK7d+/C09MTR48exbJlyxAdHY1Dhw6hR48emDJlSjVHWbe8//77SExMVNwcHR2xePFipbKnlfceEdUqKu/ORFSDFBYWChsbG7FkyRKl8kePHgkjIyOxdu1a8eDBAzF8+HBhb28v9PX1RevWrcVPP/2kVL9bt25ixowZivsAxO7du5XqmJqais2bNyvux8bGCn9/f2FqairMzc3FgAEDFJv3lef48eOiQ4cOQldXV9ja2oo5c+YoNrsLCAhQ2nzN2dm5zDZKNg98+PBhmY8HBASIgQMHKvVt2rRp4oMPPhDm5ubCxsam1OZ1Dx8+FOPGjROWlpbC2NhY9OjRQ5w/f17xeExMjBgwYICwtrYWhoaGwsvLS/zxxx9KbTg7O4vFixeLkSNHCmNj41Kb0JXo27evcHBwENnZ2aUee7pP9+7dEwMGDBCGhobC2NhY+Pv7K3brFUKIhQsXirZt24qtW7cKZ2dnYWJiIoYNGyaysrIUdUJCQkTr1q2Fnp6esLCwEL169RLZ2dli4cKF5W529+GHH4omTZoIfX194erqKj7++GNRUFBQ4ef97/uIpzZ1/K/09HQxcuRIYWZmJvT19UWfPn3EjRs3FI9v3rxZmJqaikOHDonmzZsLQ0ND0bt3b3H//v0y2/svZ2dn8fXXXyvud+vWTUyZMkXMmDFDNGjQQHTv3l0IIUR0dLTo06ePMDQ0FNbW1uLtt98Wqamp/9fe3QdFVf0PHH/zkDPA8hw+oAZJiKvumIvmIAGl5hpqq05qKJnGkKZpits0BeWI1VSApsaYMSXkVFADZmP4QD6Bi7O4SmS5IpAIY6QS0szm0OByvn8w3q8LCwL6+33DOa8Z/rj3nnse7t0z99zPOcsq5+3fv19ERkYKb29v4efnJ2bOnCmqq6uV4x3bGxMTo1wLvV4v3n33XTFw4EDh7e0tNm7cKFpbW4XBYBC+vr5i6NChnX5p/U5961a+aWlpYvDgwcLPz0+sXLlSuU8xMTFd/uCtdP+RERmpX3N1dWXJkiVkZ2cjbvv902+//RabzUZcXBwtLS2Eh4fzww8/8Msvv/DSSy/x/PPPU1ZW1udyW1tb0el0eHp6UlJSgtFoRKVSMWPGjC7fci9fvkxsbCwTJ06koqKCHTt28Nlnn/HOO+8A7VNCqampDBs2jIaGBk6dOtXn+nWUk5ODh4cHJpOJDz/8kNTUVIqKipTj8+fP5+rVq+zfv5/Tp0+j1WqZOnUqTU1NAFitVmJjYzl8+DDl5eXMmDGD2bNnU1dXZ1dOeno648aNo7y8nLfeeqtTPZqamjhw4ACrVq3Cw8Oj0/FbkaS2tjb0ej1NTU0cP36coqIifvvtNxYuXGiXvqamhu+++459+/axb98+jh8/zvvvvw9AQ0MDcXFxvPjii1gsFo4dO8a8efMQQmAwGFiwYAEzZsxQIhWTJ08GwNPTk+zsbM6dO8fWrVvJyspiy5YtPS5369atREREkJiYqOQ9fPhwh/dl6dKlmM1mvv/+e06ePIkQgtjYWFpbW5U0N27cID09nd27d1NcXExdXR0Gg8Fhfj2Rk5PDgAEDMBqNfPLJJzQ3NzNlyhTGjx+P2WzmwIEDXLlyhQULFijn/P333yQlJWE2mzl8+DDOzs7MnTuXtrY2AKUv/fjjjzQ0NFBQUKCce+TIEX7//XeKi4vZvHkzGzZsYNasWfj6+mIymVixYgXLly9Xoqo97VtHjx6lpqaGo0ePkpOTQ3Z2tjKlWlBQ0CkaJd3H/scDKUm6axaLpdPPx0dFRYn4+Pguz5k5c6ZYv369st3biMzu3btFWFiYaGtrU47/888/ws3NTRw8eNBhmW+++WanczIzM4VKpRI2m00IIcSWLVu6jMTc0peIzOOPP26XZuLEieL1118XQghRUlIivLy8REtLi12akJAQsXPnzi7rMWbMGLF9+3ZlOygoSMyZM6fbuptMJgGIgoKCbtMdOnRIuLi4iLq6OmXfr7/+KgBRVlYmhGiPjLi7u9tFYF577TUxadIkIYQQp0+fFoCora11WEbH69SVtLQ0ER4ermzfqVwhOn+eHLlw4YIAhNFoVPY1NjYKNzc38c033wgh2iMygF30IzMzUwwaNOiO9RbCcURm/Pjxdmk2bdokpk+fbrevvr5eAKKystJhvteuXROAOHv2rBBCiIsXLwpAlJeX26V74YUXRFBQkPL5FkKIsLAwERUVpWzfvHlTeHh4iK+//loI0bO+dSvfmzdvKmnmz58vFi5c2GXbpfuXjMhI/d6oUaOYPHkyn3/+OQDV1dWUlJSQkJAAgM1mY9OmTWg0Gvz8/FCpVBw8eLBTNKE3KioqqK6uxtPTE5VKhUqlws/Pj5aWFmpqahyeY7FYiIiIsFtwGRkZidVqdbjG517quE5oyJAhXL16FWhvi9Vqxd/fX2mLSqXi4sWLSlusVisGgwG1Wo2Pjw8qlQqLxdLpGk6YMKHbeojbombdsVgsDB8+3C6SMXr0aHx8fLBYLMq+4OBgPD09HbZr3LhxTJ06FY1Gw/z588nKyuL69et3LDsvL4/IyEgGDx6MSqUiJSWlUzu7K7enLBYLrq6uTJo0Sdnn7+9PWFiYXRvd3d0JCQm5q7JuFx4ebrddUVHB0aNH7e79qFGjAJT7X1VVRVxcHCNGjMDLy4vg4GCAHvWhMWPG4Oz830fNoEGD0Gg0yraLiwv+/v52n8ee9K0xY8bg4uKibN/tdZH6r96vJJSkf6GEhARWr15NZmYmu3btIiQkhJiYGADS0tLYunUrH330ERqNBg8PD9auXdvtQkcnJ6dOD93bw/1Wq5Xw8HC+/PLLTucGBATco1bdOw888IDdtpOTkzItYLVaGTJkCMeOHet03q2pHoPBQFFREenp6TzyyCO4ubnx7LPPdrqGjqaLbhcaGoqTkxPnz5/ve2Nu0127XFxcKCoqorS0lEOHDrF9+3aSk5MxmUw8/PDDDvM7efIkixcvZuPGjeh0Ory9vcnNzSUjI6PH5d5rjsrq6YDQkY73yGq1Mnv2bD744INOaYcMGQK0fzswKCiIrKwsAgMDaWtrY+zYsT1aLOyo/nf6PPakb/1/3gPp300OZKT7woIFC3j11Vf56quv+OKLL3j55ZeVyIfRaESv1xMfHw+0r7+4cOECo0eP7jK/gIAAu3n1qqoqbty4oWxrtVry8vIYOHAgXl5ePaqjWq0mPz8fIYRd3Tw9PRk2bFiv23yvaLVa/vjjD1xdXZU37Y6MRiNLly5l7ty5QPvDpra2ttdl+fn5odPpyMzMZM2aNZ0eqs3Nzfj4+KBWq6mvr6e+vl6Jypw7d47m5uZu71tHTk5OREZGEhkZydtvv01QUBB79uwhKSmJAQMGYLPZ7NKXlpYSFBREcnKysu/SpUu9bqejvDtSq9XcvHkTk8mkrM/5888/qays7FUb75ZWqyU/P5/g4GCH35K7VaesrCyioqIAOHHihF2aAQMGANyxzT2tT2/7liM9uQfS/UFOLUn3BZVKxcKFC3njjTdoaGhg6dKlyrHQ0FDlzdxisbB8+XKuXLnSbX5Tpkzh448/pry8HLPZzIoVK+zeABcvXsyDDz6IXq+npKSEixcvcuzYMdasWdPlNNHKlSupr69n9erVnD9/nr1797JhwwaSkpLsQu89dfbsWX766Sflr6Kiotd5AEybNo2IiAjmzJnDoUOHqK2tpbS0lOTkZMxmM9B+DQsKCpRyFi1a1Oe338zMTGw2G4899hj5+flUVVVhsVjYtm0bERERSp00Gg2LFy/mzJkzlJWVsWTJEmJiYu44fXWLyWTivffew2w2U1dXR0FBAdeuXUOtVgPt00M///wzlZWVNDY20traSmhoKHV1deTm5lJTU8O2bdvYs2dPr9sYHByMyWSitraWxsZGh9cqNDQUvV5PYmIiJ06coKKigvj4eIYOHYper+91mX21atUqmpqaiIuL49SpU9TU1HDw4EGWLVuGzWbD19cXf39/Pv30U6qrqzly5AhJSUl2eQwcOBA3NzdlofBff/3V5/r0pW85EhwcTHFxMZcvX6axsbHP9ZH+/eRARrpvJCQkcP36dXQ6HYGBgcr+lJQUtFotOp2OJ554gsGDB9/xH6FlZGQwfPhwoqKiWLRoEQaDAXd3d+W4u7s7xcXFPPTQQ8ybNw+1Wk1CQgItLS1dvkUOHTqUwsJCysrKGDduHCtWrCAhIYGUlJQ+tTc6Oprx48crfx3XPvSUk5MThYWFREdHs2zZMkaOHMlzzz3HpUuXGDRoEACbN2/G19eXyZMnM3v2bHQ6HVqttk/ljRgxgjNnzvDkk0+yfv16xo4dy1NPPcXhw4fZsWOHUqe9e/fi6+tLdHQ006ZNY8SIEeTl5fW4HC8vL4qLi4mNjWXkyJGkpKSQkZHB008/DUBiYiJhYWFMmDCBgIAAjEYjzzzzDOvWreOVV17h0UcfpbS01OG3r+7EYDDg4uLC6NGjCQgI6HItya5duwgPD2fWrFlEREQghKCwsLDTtMn/pcDAQIxGIzabjenTp6PRaFi7di0+Pj44Ozvj7OxMbm4up0+fZuzYsaxbt460tDS7PFxdXdm2bRs7d+4kMDDwrgZifelbjqSmplJbW0tISMi/crpXunecxN1MtkqSJEmSJP0PyYiMJEmSJEn9lhzISJIkSZLUb8mBjCRJkiRJ/ZYcyEiSJEmS1G/JgYwkSZIkSf2WHMhIkiRJktRvyYGMJEmSJEn9lhzISJIkSZLUb8mBjCRJkiRJ/ZYcyEiSJEmS1G/JgYwkSZIkSf3WfwDwrirQcB0vmgAAAABJRU5ErkJggg==\n",
      "text/plain": [
       "<Figure size 600x500 with 1 Axes>"
      ]
     },
     "metadata": {},
     "output_type": "display_data"
    },
    {
     "name": "stdout",
     "output_type": "stream",
     "text": [
      "Refute: Add an Unobserved Common Cause\n",
      "Estimated effect:0.8932122344427853\n",
      "New effect:(0.5045925174663353, 0.8573466852739102)\n",
      "\n"
     ]
    }
   ],
   "source": [
    "res_unobserved_range=model.refute_estimate(identified_estimand, causal_estimate, method_name=\"add_unobserved_common_cause\",\n",
    "                                     confounders_effect_on_treatment=\"binary_flip\", confounders_effect_on_outcome=\"linear\",\n",
    "                                    effect_strength_on_treatment=np.array([0.001, 0.005, 0.01, 0.02]), effect_strength_on_outcome=0.01)\n",
    "print(res_unobserved_range)"
   ]
  },
  {
   "cell_type": "markdown",
   "metadata": {},
   "source": [
    "The above plot shows how the estimate decreases as the hypothesized confounding on treatment increases. By domain knowledge, we may know the maximum plausible confounding effect on treatment. Since we see that the effect does not go beyond zero, we can safely conclude that the causal effect of treatment `v0` is positive.\n",
    "\n",
    "We can also vary the confounding effect on both treatment and outcome. We obtain a heatmap."
   ]
  },
  {
   "cell_type": "code",
   "execution_count": 37,
   "metadata": {},
   "outputs": [
    {
     "data": {
      "image/png": "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\n",
      "text/plain": [
       "<Figure size 600x500 with 2 Axes>"
      ]
     },
     "metadata": {},
     "output_type": "display_data"
    },
    {
     "name": "stdout",
     "output_type": "stream",
     "text": [
      "Refute: Add an Unobserved Common Cause\n",
      "Estimated effect:0.8932122344427853\n",
      "New effect:(0.21186978828336578, 0.8671690120464746)\n",
      "\n"
     ]
    }
   ],
   "source": [
    "res_unobserved_range=model.refute_estimate(identified_estimand, causal_estimate, method_name=\"add_unobserved_common_cause\",\n",
    "                                           confounders_effect_on_treatment=\"binary_flip\", confounders_effect_on_outcome=\"linear\",\n",
    "                                           effect_strength_on_treatment=[0.001, 0.005, 0.01, 0.02], \n",
    "                                           effect_strength_on_outcome=[0.001, 0.005, 0.01,0.02])\n",
    "print(res_unobserved_range)"
   ]
  },
  {
   "cell_type": "markdown",
   "metadata": {},
   "source": [
    "**Automatically inferring effect strength parameters.** Finally, DoWhy supports automatic selection of the effect strength parameters. This is based on an assumption that the effect of the unobserved confounder on treatment or outcome cannot be stronger than that of any observed confounder. That is, we have collected data at least for the most relevant confounder. If that is the case, then we can bound the range of `effect_strength_on_treatment` and `effect_strength_on_outcome` by the effect strength of observed confounders. There is an additional optional parameter signifying whether the effect strength of unobserved confounder should be as high as the highest observed, or a fraction of it. You can set it using the optional `effect_fraction_on_treatment` and `effect_fraction_on_outcome` parameters. By default, these two parameters are 1."
   ]
  },
  {
   "cell_type": "code",
   "execution_count": 38,
   "metadata": {},
   "outputs": [
    {
     "ename": "ValueError",
     "evalue": "There needs to be at least one common cause toautomatically compute the default value of kappa_t. Provide a value for kappa_t",
     "output_type": "error",
     "traceback": [
      "\u001b[0;31m---------------------------------------------------------------------------\u001b[0m",
      "\u001b[0;31mValueError\u001b[0m                                Traceback (most recent call last)",
      "Cell \u001b[0;32mIn[38], line 1\u001b[0m\n\u001b[0;32m----> 1\u001b[0m res_unobserved_auto \u001b[38;5;241m=\u001b[39m \u001b[43mmodel\u001b[49m\u001b[38;5;241;43m.\u001b[39;49m\u001b[43mrefute_estimate\u001b[49m\u001b[43m(\u001b[49m\u001b[43midentified_estimand\u001b[49m\u001b[43m,\u001b[49m\u001b[43m \u001b[49m\u001b[43mcausal_estimate\u001b[49m\u001b[43m,\u001b[49m\u001b[43m \u001b[49m\u001b[43mmethod_name\u001b[49m\u001b[38;5;241;43m=\u001b[39;49m\u001b[38;5;124;43m\"\u001b[39;49m\u001b[38;5;124;43madd_unobserved_common_cause\u001b[39;49m\u001b[38;5;124;43m\"\u001b[39;49m\u001b[43m,\u001b[49m\n\u001b[1;32m      2\u001b[0m \u001b[43m                                           \u001b[49m\u001b[43mconfounders_effect_on_treatment\u001b[49m\u001b[38;5;241;43m=\u001b[39;49m\u001b[38;5;124;43m\"\u001b[39;49m\u001b[38;5;124;43mbinary_flip\u001b[39;49m\u001b[38;5;124;43m\"\u001b[39;49m\u001b[43m,\u001b[49m\u001b[43m \u001b[49m\u001b[43mconfounders_effect_on_outcome\u001b[49m\u001b[38;5;241;43m=\u001b[39;49m\u001b[38;5;124;43m\"\u001b[39;49m\u001b[38;5;124;43mlinear\u001b[39;49m\u001b[38;5;124;43m\"\u001b[39;49m\u001b[43m)\u001b[49m\n\u001b[1;32m      3\u001b[0m \u001b[38;5;28mprint\u001b[39m(res_unobserved_auto)\n",
      "File \u001b[0;32m~/miniconda3/envs/dowhy/lib/python3.8/site-packages/dowhy/causal_model.py:417\u001b[0m, in \u001b[0;36mCausalModel.refute_estimate\u001b[0;34m(self, estimand, estimate, method_name, show_progress_bar, **kwargs)\u001b[0m\n\u001b[1;32m    414\u001b[0m     refuter_class \u001b[38;5;241m=\u001b[39m causal_refuters\u001b[38;5;241m.\u001b[39mget_class_object(method_name)\n\u001b[1;32m    416\u001b[0m refuter \u001b[38;5;241m=\u001b[39m refuter_class(\u001b[38;5;28mself\u001b[39m\u001b[38;5;241m.\u001b[39m_data, identified_estimand\u001b[38;5;241m=\u001b[39mestimand, estimate\u001b[38;5;241m=\u001b[39mestimate, \u001b[38;5;241m*\u001b[39m\u001b[38;5;241m*\u001b[39mkwargs)\n\u001b[0;32m--> 417\u001b[0m res \u001b[38;5;241m=\u001b[39m \u001b[43mrefuter\u001b[49m\u001b[38;5;241;43m.\u001b[39;49m\u001b[43mrefute_estimate\u001b[49m\u001b[43m(\u001b[49m\u001b[43mshow_progress_bar\u001b[49m\u001b[43m)\u001b[49m\n\u001b[1;32m    418\u001b[0m \u001b[38;5;28;01mreturn\u001b[39;00m res\n",
      "File \u001b[0;32m~/miniconda3/envs/dowhy/lib/python3.8/site-packages/dowhy/causal_refuters/add_unobserved_common_cause.py:173\u001b[0m, in \u001b[0;36mAddUnobservedCommonCause.refute_estimate\u001b[0;34m(self, show_progress_bar)\u001b[0m\n\u001b[1;32m    164\u001b[0m     \u001b[38;5;28;01mreturn\u001b[39;00m sensitivity_e_value(\n\u001b[1;32m    165\u001b[0m         \u001b[38;5;28mself\u001b[39m\u001b[38;5;241m.\u001b[39m_data,\n\u001b[1;32m    166\u001b[0m         \u001b[38;5;28mself\u001b[39m\u001b[38;5;241m.\u001b[39m_target_estimand,\n\u001b[0;32m   (...)\u001b[0m\n\u001b[1;32m    170\u001b[0m         \u001b[38;5;28mself\u001b[39m\u001b[38;5;241m.\u001b[39mplot_estimate,\n\u001b[1;32m    171\u001b[0m     )\n\u001b[1;32m    172\u001b[0m \u001b[38;5;28;01melif\u001b[39;00m \u001b[38;5;28mself\u001b[39m\u001b[38;5;241m.\u001b[39msimulation_method \u001b[38;5;241m==\u001b[39m \u001b[38;5;124m\"\u001b[39m\u001b[38;5;124mdirect-simulation\u001b[39m\u001b[38;5;124m\"\u001b[39m:\n\u001b[0;32m--> 173\u001b[0m     refute \u001b[38;5;241m=\u001b[39m \u001b[43msensitivity_simulation\u001b[49m\u001b[43m(\u001b[49m\n\u001b[1;32m    174\u001b[0m \u001b[43m        \u001b[49m\u001b[38;5;28;43mself\u001b[39;49m\u001b[38;5;241;43m.\u001b[39;49m\u001b[43m_data\u001b[49m\u001b[43m,\u001b[49m\n\u001b[1;32m    175\u001b[0m \u001b[43m        \u001b[49m\u001b[38;5;28;43mself\u001b[39;49m\u001b[38;5;241;43m.\u001b[39;49m\u001b[43m_target_estimand\u001b[49m\u001b[43m,\u001b[49m\n\u001b[1;32m    176\u001b[0m \u001b[43m        \u001b[49m\u001b[38;5;28;43mself\u001b[39;49m\u001b[38;5;241;43m.\u001b[39;49m\u001b[43m_estimate\u001b[49m\u001b[43m,\u001b[49m\n\u001b[1;32m    177\u001b[0m \u001b[43m        \u001b[49m\u001b[38;5;28;43mself\u001b[39;49m\u001b[38;5;241;43m.\u001b[39;49m\u001b[43m_treatment_name\u001b[49m\u001b[43m,\u001b[49m\n\u001b[1;32m    178\u001b[0m \u001b[43m        \u001b[49m\u001b[38;5;28;43mself\u001b[39;49m\u001b[38;5;241;43m.\u001b[39;49m\u001b[43m_outcome_name\u001b[49m\u001b[43m,\u001b[49m\n\u001b[1;32m    179\u001b[0m \u001b[43m        \u001b[49m\u001b[38;5;28;43mself\u001b[39;49m\u001b[38;5;241;43m.\u001b[39;49m\u001b[43mkappa_t\u001b[49m\u001b[43m,\u001b[49m\n\u001b[1;32m    180\u001b[0m \u001b[43m        \u001b[49m\u001b[38;5;28;43mself\u001b[39;49m\u001b[38;5;241;43m.\u001b[39;49m\u001b[43mkappa_y\u001b[49m\u001b[43m,\u001b[49m\n\u001b[1;32m    181\u001b[0m \u001b[43m        \u001b[49m\u001b[38;5;28;43mself\u001b[39;49m\u001b[38;5;241;43m.\u001b[39;49m\u001b[43meffect_on_t\u001b[49m\u001b[43m,\u001b[49m\n\u001b[1;32m    182\u001b[0m \u001b[43m        \u001b[49m\u001b[38;5;28;43mself\u001b[39;49m\u001b[38;5;241;43m.\u001b[39;49m\u001b[43meffect_on_y\u001b[49m\u001b[43m,\u001b[49m\n\u001b[1;32m    183\u001b[0m \u001b[43m        \u001b[49m\u001b[38;5;28;43mself\u001b[39;49m\u001b[38;5;241;43m.\u001b[39;49m\u001b[43mfrac_strength_treatment\u001b[49m\u001b[43m,\u001b[49m\n\u001b[1;32m    184\u001b[0m \u001b[43m        \u001b[49m\u001b[38;5;28;43mself\u001b[39;49m\u001b[38;5;241;43m.\u001b[39;49m\u001b[43mfrac_strength_outcome\u001b[49m\u001b[43m,\u001b[49m\n\u001b[1;32m    185\u001b[0m \u001b[43m        \u001b[49m\u001b[38;5;28;43mself\u001b[39;49m\u001b[38;5;241;43m.\u001b[39;49m\u001b[43mplotmethod\u001b[49m\u001b[43m,\u001b[49m\n\u001b[1;32m    186\u001b[0m \u001b[43m        \u001b[49m\u001b[43mshow_progress_bar\u001b[49m\u001b[43m,\u001b[49m\n\u001b[1;32m    187\u001b[0m \u001b[43m    \u001b[49m\u001b[43m)\u001b[49m\n\u001b[1;32m    188\u001b[0m     refute\u001b[38;5;241m.\u001b[39madd_refuter(\u001b[38;5;28mself\u001b[39m)\n\u001b[1;32m    189\u001b[0m     \u001b[38;5;28;01mreturn\u001b[39;00m refute\n",
      "File \u001b[0;32m~/miniconda3/envs/dowhy/lib/python3.8/site-packages/dowhy/causal_refuters/add_unobserved_common_cause.py:802\u001b[0m, in \u001b[0;36msensitivity_simulation\u001b[0;34m(data, target_estimand, estimate, treatment_name, outcome_name, kappa_t, kappa_y, confounders_effect_on_treatment, confounders_effect_on_outcome, frac_strength_treatment, frac_strength_outcome, plotmethod, show_progress_bar, **_)\u001b[0m\n\u001b[1;32m    781\u001b[0m \u001b[38;5;124;03m\"\"\"\u001b[39;00m\n\u001b[1;32m    782\u001b[0m \u001b[38;5;124;03mThis function attempts to add an unobserved common cause to the outcome and the treatment. At present, we have implemented the behavior for one dimensional behaviors for continuous\u001b[39;00m\n\u001b[1;32m    783\u001b[0m \u001b[38;5;124;03mand binary variables. This function can either take single valued inputs or a range of inputs. The function then looks at the data type of the input and then decides on the course of\u001b[39;00m\n\u001b[0;32m   (...)\u001b[0m\n\u001b[1;32m    799\u001b[0m \u001b[38;5;124;03m:return: CausalRefuter: An object that contains the estimated effect and a new effect and the name of the refutation used.\u001b[39;00m\n\u001b[1;32m    800\u001b[0m \u001b[38;5;124;03m\"\"\"\u001b[39;00m\n\u001b[1;32m    801\u001b[0m \u001b[38;5;28;01mif\u001b[39;00m kappa_t \u001b[38;5;129;01mis\u001b[39;00m \u001b[38;5;28;01mNone\u001b[39;00m:\n\u001b[0;32m--> 802\u001b[0m     kappa_t \u001b[38;5;241m=\u001b[39m \u001b[43m_infer_default_kappa_t\u001b[49m\u001b[43m(\u001b[49m\n\u001b[1;32m    803\u001b[0m \u001b[43m        \u001b[49m\u001b[43mdata\u001b[49m\u001b[43m,\u001b[49m\u001b[43m \u001b[49m\u001b[43mtarget_estimand\u001b[49m\u001b[43m,\u001b[49m\u001b[43m \u001b[49m\u001b[43mtreatment_name\u001b[49m\u001b[43m,\u001b[49m\u001b[43m \u001b[49m\u001b[43mconfounders_effect_on_treatment\u001b[49m\u001b[43m,\u001b[49m\u001b[43m \u001b[49m\u001b[43mfrac_strength_treatment\u001b[49m\n\u001b[1;32m    804\u001b[0m \u001b[43m    \u001b[49m\u001b[43m)\u001b[49m\n\u001b[1;32m    805\u001b[0m \u001b[38;5;28;01mif\u001b[39;00m kappa_y \u001b[38;5;129;01mis\u001b[39;00m \u001b[38;5;28;01mNone\u001b[39;00m:\n\u001b[1;32m    806\u001b[0m     kappa_y \u001b[38;5;241m=\u001b[39m _infer_default_kappa_y(\n\u001b[1;32m    807\u001b[0m         data, target_estimand, outcome_name, confounders_effect_on_outcome, frac_strength_outcome\n\u001b[1;32m    808\u001b[0m     )\n",
      "File \u001b[0;32m~/miniconda3/envs/dowhy/lib/python3.8/site-packages/dowhy/causal_refuters/add_unobserved_common_cause.py:220\u001b[0m, in \u001b[0;36m_infer_default_kappa_t\u001b[0;34m(data, target_estimand, treatment_name, effect_on_t, frac_strength_treatment, len_kappa_t)\u001b[0m\n\u001b[1;32m    218\u001b[0m     observed_common_causes \u001b[38;5;241m=\u001b[39m pd\u001b[38;5;241m.\u001b[39mget_dummies(observed_common_causes, drop_first\u001b[38;5;241m=\u001b[39m\u001b[38;5;28;01mTrue\u001b[39;00m)\n\u001b[1;32m    219\u001b[0m \u001b[38;5;28;01melse\u001b[39;00m:\n\u001b[0;32m--> 220\u001b[0m     \u001b[38;5;28;01mraise\u001b[39;00m \u001b[38;5;167;01mValueError\u001b[39;00m(\n\u001b[1;32m    221\u001b[0m         \u001b[38;5;124m\"\u001b[39m\u001b[38;5;124mThere needs to be at least one common cause to\u001b[39m\u001b[38;5;124m\"\u001b[39m\n\u001b[1;32m    222\u001b[0m         \u001b[38;5;241m+\u001b[39m \u001b[38;5;124m\"\u001b[39m\u001b[38;5;124mautomatically compute the default value of kappa_t.\u001b[39m\u001b[38;5;124m\"\u001b[39m\n\u001b[1;32m    223\u001b[0m         \u001b[38;5;241m+\u001b[39m \u001b[38;5;124m\"\u001b[39m\u001b[38;5;124m Provide a value for kappa_t\u001b[39m\u001b[38;5;124m\"\u001b[39m\n\u001b[1;32m    224\u001b[0m     )\n\u001b[1;32m    225\u001b[0m t \u001b[38;5;241m=\u001b[39m data[treatment_name]\n\u001b[1;32m    226\u001b[0m \u001b[38;5;66;03m# Standardizing the data\u001b[39;00m\n",
      "\u001b[0;31mValueError\u001b[0m: There needs to be at least one common cause toautomatically compute the default value of kappa_t. Provide a value for kappa_t"
     ]
    }
   ],
   "source": [
    "res_unobserved_auto = model.refute_estimate(identified_estimand, causal_estimate, method_name=\"add_unobserved_common_cause\",\n",
    "                                           confounders_effect_on_treatment=\"binary_flip\", confounders_effect_on_outcome=\"linear\")\n",
    "print(res_unobserved_auto)"
   ]
  },
  {
   "cell_type": "markdown",
   "metadata": {},
   "source": [
    "**Conclusion**: Assuming that the unobserved confounder does not affect the treatment or outcome more strongly than any observed confounder, the causal effect can be concluded to be positive."
   ]
  }
 ],
 "metadata": {
  "kernelspec": {
   "display_name": "Python 3 (ipykernel)",
   "language": "python",
   "name": "python3"
  },
  "language_info": {
   "codemirror_mode": {
    "name": "ipython",
    "version": 3
   },
   "file_extension": ".py",
   "mimetype": "text/x-python",
   "name": "python",
   "nbconvert_exporter": "python",
   "pygments_lexer": "ipython3",
   "version": "3.9.12"
  },
  "toc": {
   "base_numbering": 1,
   "nav_menu": {},
   "number_sections": false,
   "sideBar": true,
   "skip_h1_title": true,
   "title_cell": "Table of Contents",
   "title_sidebar": "Contents",
   "toc_cell": false,
   "toc_position": {},
   "toc_section_display": true,
   "toc_window_display": false
  }
 },
 "nbformat": 4,
 "nbformat_minor": 4
}
