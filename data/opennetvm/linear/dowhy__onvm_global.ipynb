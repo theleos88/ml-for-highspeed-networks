{
 "cells": [
  {
   "cell_type": "markdown",
   "metadata": {},
   "source": [
    "# Basic Example for Calculating the Causal Effect\n",
    "This is a quick introduction to the DoWhy causal inference library.\n",
    "We will load in a sample dataset and estimate the causal effect of a (pre-specified) treatment variable on a (pre-specified) outcome variable.\n",
    "\n",
    "First, let us load all required packages."
   ]
  },
  {
   "cell_type": "code",
   "execution_count": 242,
   "metadata": {},
   "outputs": [],
   "source": [
    "import numpy as np\n",
    "\n",
    "from dowhy import CausalModel\n",
    "import dowhy.datasets "
   ]
  },
  {
   "cell_type": "markdown",
   "metadata": {},
   "source": [
    "Now, let us load a dataset. For simplicity, we simulate a dataset with linear relationships between common causes and treatment, and common causes and outcome. \n",
    "\n",
    "Beta is the true causal effect. "
   ]
  },
  {
   "cell_type": "markdown",
   "metadata": {},
   "source": [
    "data = dowhy.datasets.linear_dataset(beta=10,\n",
    "        num_common_causes=5,\n",
    "        num_instruments = 2,\n",
    "        num_effect_modifiers=1,\n",
    "        num_samples=5000, \n",
    "        treatment_is_binary=True,\n",
    "        stddev_treatment_noise=10,\n",
    "        num_discrete_common_causes=1)\n",
    "df = data[\"df\"]"
   ]
  },
  {
   "cell_type": "code",
   "execution_count": 243,
   "metadata": {},
   "outputs": [],
   "source": [
    "import pandas as pd"
   ]
  },
  {
   "cell_type": "code",
   "execution_count": 244,
   "metadata": {},
   "outputs": [],
   "source": [
    "df = pd.read_csv(\"onvm_global_two_stresses_bk.csv\").fillna(0.0)"
   ]
  },
  {
   "cell_type": "code",
   "execution_count": 245,
   "metadata": {},
   "outputs": [
    {
     "data": {
      "text/html": [
       "<div>\n",
       "<style scoped>\n",
       "    .dataframe tbody tr th:only-of-type {\n",
       "        vertical-align: middle;\n",
       "    }\n",
       "\n",
       "    .dataframe tbody tr th {\n",
       "        vertical-align: top;\n",
       "    }\n",
       "\n",
       "    .dataframe thead th {\n",
       "        text-align: right;\n",
       "    }\n",
       "</style>\n",
       "<table border=\"1\" class=\"dataframe\">\n",
       "  <thead>\n",
       "    <tr style=\"text-align: right;\">\n",
       "      <th></th>\n",
       "      <th>Unnamed: 0</th>\n",
       "      <th>input_rate</th>\n",
       "      <th>output_rate</th>\n",
       "      <th>latency</th>\n",
       "      <th>firewall</th>\n",
       "      <th>router</th>\n",
       "      <th>ndpi_stat</th>\n",
       "      <th>payload_scan</th>\n",
       "      <th>bridge</th>\n",
       "      <th>firewall_drop</th>\n",
       "      <th>router_drop</th>\n",
       "      <th>ndpi_stat_drop</th>\n",
       "      <th>payload_scan_drop</th>\n",
       "      <th>bridge_drop</th>\n",
       "      <th>firewall_cycles</th>\n",
       "      <th>bridge_cycles</th>\n",
       "      <th>ndpi_stat_cycles</th>\n",
       "      <th>nf_router_cycles</th>\n",
       "      <th>payload_scan_cycles</th>\n",
       "    </tr>\n",
       "  </thead>\n",
       "  <tbody>\n",
       "    <tr>\n",
       "      <th>0</th>\n",
       "      <td>0</td>\n",
       "      <td>0.000364</td>\n",
       "      <td>0.099282</td>\n",
       "      <td>0.169867</td>\n",
       "      <td>0.021556</td>\n",
       "      <td>0.000000</td>\n",
       "      <td>0.000000</td>\n",
       "      <td>0.000000</td>\n",
       "      <td>0.000000</td>\n",
       "      <td>0.0</td>\n",
       "      <td>0.0</td>\n",
       "      <td>0.0</td>\n",
       "      <td>0.0</td>\n",
       "      <td>0.0</td>\n",
       "      <td>0.000000</td>\n",
       "      <td>0.163335</td>\n",
       "      <td>0.215950</td>\n",
       "      <td>0.000000</td>\n",
       "      <td>0.000000</td>\n",
       "    </tr>\n",
       "    <tr>\n",
       "      <th>1</th>\n",
       "      <td>1</td>\n",
       "      <td>0.000098</td>\n",
       "      <td>0.098937</td>\n",
       "      <td>0.002302</td>\n",
       "      <td>0.021079</td>\n",
       "      <td>0.023820</td>\n",
       "      <td>0.023819</td>\n",
       "      <td>0.023815</td>\n",
       "      <td>0.023809</td>\n",
       "      <td>1.0</td>\n",
       "      <td>0.0</td>\n",
       "      <td>0.0</td>\n",
       "      <td>0.0</td>\n",
       "      <td>0.0</td>\n",
       "      <td>0.756862</td>\n",
       "      <td>0.971274</td>\n",
       "      <td>0.948465</td>\n",
       "      <td>0.937346</td>\n",
       "      <td>0.903236</td>\n",
       "    </tr>\n",
       "    <tr>\n",
       "      <th>2</th>\n",
       "      <td>2</td>\n",
       "      <td>0.000021</td>\n",
       "      <td>0.099038</td>\n",
       "      <td>0.526335</td>\n",
       "      <td>0.021231</td>\n",
       "      <td>0.023338</td>\n",
       "      <td>0.023347</td>\n",
       "      <td>0.023334</td>\n",
       "      <td>0.023327</td>\n",
       "      <td>1.0</td>\n",
       "      <td>0.0</td>\n",
       "      <td>0.0</td>\n",
       "      <td>0.0</td>\n",
       "      <td>0.0</td>\n",
       "      <td>0.984728</td>\n",
       "      <td>0.999291</td>\n",
       "      <td>0.999403</td>\n",
       "      <td>0.998003</td>\n",
       "      <td>0.998319</td>\n",
       "    </tr>\n",
       "    <tr>\n",
       "      <th>3</th>\n",
       "      <td>3</td>\n",
       "      <td>0.000292</td>\n",
       "      <td>0.099239</td>\n",
       "      <td>1.000000</td>\n",
       "      <td>0.021460</td>\n",
       "      <td>0.023493</td>\n",
       "      <td>0.023492</td>\n",
       "      <td>0.023487</td>\n",
       "      <td>0.023481</td>\n",
       "      <td>1.0</td>\n",
       "      <td>0.0</td>\n",
       "      <td>0.0</td>\n",
       "      <td>0.0</td>\n",
       "      <td>0.0</td>\n",
       "      <td>0.997237</td>\n",
       "      <td>0.999688</td>\n",
       "      <td>0.999260</td>\n",
       "      <td>0.998944</td>\n",
       "      <td>0.999750</td>\n",
       "    </tr>\n",
       "    <tr>\n",
       "      <th>4</th>\n",
       "      <td>4</td>\n",
       "      <td>0.000000</td>\n",
       "      <td>0.098770</td>\n",
       "      <td>0.063378</td>\n",
       "      <td>0.020911</td>\n",
       "      <td>0.023718</td>\n",
       "      <td>0.023723</td>\n",
       "      <td>0.023721</td>\n",
       "      <td>0.023717</td>\n",
       "      <td>1.0</td>\n",
       "      <td>0.0</td>\n",
       "      <td>0.0</td>\n",
       "      <td>0.0</td>\n",
       "      <td>0.0</td>\n",
       "      <td>0.997708</td>\n",
       "      <td>0.999769</td>\n",
       "      <td>0.999734</td>\n",
       "      <td>0.998794</td>\n",
       "      <td>0.998358</td>\n",
       "    </tr>\n",
       "  </tbody>\n",
       "</table>\n",
       "</div>"
      ],
      "text/plain": [
       "   Unnamed: 0  input_rate  output_rate   latency  firewall    router  \\\n",
       "0           0    0.000364     0.099282  0.169867  0.021556  0.000000   \n",
       "1           1    0.000098     0.098937  0.002302  0.021079  0.023820   \n",
       "2           2    0.000021     0.099038  0.526335  0.021231  0.023338   \n",
       "3           3    0.000292     0.099239  1.000000  0.021460  0.023493   \n",
       "4           4    0.000000     0.098770  0.063378  0.020911  0.023718   \n",
       "\n",
       "   ndpi_stat  payload_scan    bridge  firewall_drop  router_drop  \\\n",
       "0   0.000000      0.000000  0.000000            0.0          0.0   \n",
       "1   0.023819      0.023815  0.023809            1.0          0.0   \n",
       "2   0.023347      0.023334  0.023327            1.0          0.0   \n",
       "3   0.023492      0.023487  0.023481            1.0          0.0   \n",
       "4   0.023723      0.023721  0.023717            1.0          0.0   \n",
       "\n",
       "   ndpi_stat_drop  payload_scan_drop  bridge_drop  firewall_cycles  \\\n",
       "0             0.0                0.0          0.0         0.000000   \n",
       "1             0.0                0.0          0.0         0.756862   \n",
       "2             0.0                0.0          0.0         0.984728   \n",
       "3             0.0                0.0          0.0         0.997237   \n",
       "4             0.0                0.0          0.0         0.997708   \n",
       "\n",
       "   bridge_cycles  ndpi_stat_cycles  nf_router_cycles  payload_scan_cycles  \n",
       "0       0.163335          0.215950          0.000000             0.000000  \n",
       "1       0.971274          0.948465          0.937346             0.903236  \n",
       "2       0.999291          0.999403          0.998003             0.998319  \n",
       "3       0.999688          0.999260          0.998944             0.999750  \n",
       "4       0.999769          0.999734          0.998794             0.998358  "
      ]
     },
     "execution_count": 245,
     "metadata": {},
     "output_type": "execute_result"
    }
   ],
   "source": [
    "df.head()"
   ]
  },
  {
   "cell_type": "markdown",
   "metadata": {},
   "source": [
    "Note that we are using a pandas dataframe to load the data. At present, DoWhy only supports pandas dataframe as input."
   ]
  },
  {
   "cell_type": "markdown",
   "metadata": {},
   "source": [
    "## Interface 1 (recommended): Input causal graph"
   ]
  },
  {
   "cell_type": "markdown",
   "metadata": {},
   "source": [
    "We now input a causal graph in the GML graph format (recommended). You can also use the DOT format.\n",
    "\n",
    "To create the causal graph for your dataset, you can use a tool like [DAGitty](http://dagitty.net/dags.html#) that provides a GUI to construct the graph. You can export the graph string that it generates. The graph string is very close to the DOT format: just rename `dag` to `digraph`, remove newlines and add a semicolon after every line, to convert it to the DOT format and input to DoWhy. "
   ]
  },
  {
   "cell_type": "markdown",
   "metadata": {},
   "source": [
    "# With graph\n",
    "model=CausalModel(\n",
    "        data = df,\n",
    "        treatment=data[\"treatment_name\"],\n",
    "        outcome=data[\"outcome_name\"],\n",
    "        graph=data[\"gml_graph\"]\n",
    "        )"
   ]
  },
  {
   "cell_type": "code",
   "execution_count": 246,
   "metadata": {},
   "outputs": [],
   "source": [
    "gml_0 = \"\"\"graph[\n",
    "    directed 1\n",
    "    node[ id \"input_rate\" label \"input_rate\"]\n",
    "    node[ id \"output_rate\" label \"output_rate\"]\n",
    "    node[ id \"latency\" label \"latency\"]\n",
    "    node[ id \"bridge\" label \"bridge\"]\n",
    "    node[ id \"bridge_cycles\" label \"bridge_cycles\"]\n",
    "    node[ id \"firewall\" label \"firewall\"]\n",
    "    node[ id \"firewall_cycles\" label \"firewall_cycles\"]\n",
    "    node[ id \"ndpi_stat\" label \"ndpi_stat\"]\n",
    "    node[ id \"ndpi_stat_cycles\" label \"ndpi_stat_cycles\"]\n",
    "    node[ id \"router\" label \"router\"]\n",
    "    node[ id \"router_cycles\" label \"router_cycles\"]\n",
    "    node[ id \"payload_scan\" label \"payload_scan\"]\n",
    "    node[ id \"payload_scan_cycles\" label \"payload_scan_cycles\"]\n",
    "    edge[source \"input_rate\" target \"firewall\"]\n",
    "    edge[source \"firewall\" target \"ndpi_stat\"]\n",
    "    edge[source \"ndpi_stat\" target \"router\"]\n",
    "    edge[source \"router\" target \"payload_scan\"]\n",
    "    edge[source \"payload_scan\" target \"bridge\"]\n",
    "    edge[source \"bridge\" target \"output_rate\"]\n",
    "    edge[source \"bridge\" target \"latency\"]\n",
    "    edge[source \"firewall_cycles\" target \"firewall\"]\n",
    "    edge[source \"bridge_cycles\" target \"bridge\"]\n",
    "    edge[source \"router_cycles\" target \"router\"]\n",
    "    edge[source \"ndpi_stat_cycles\" target \"ndpi_stat\"]\n",
    "    edge[source \"payload_scan_cycles\" target \"payload_scan\"]\n",
    "]\"\"\""
   ]
  },
  {
   "cell_type": "code",
   "execution_count": 247,
   "metadata": {},
   "outputs": [],
   "source": [
    "gml = \"\"\"graph[\n",
    "    directed 1\n",
    "    node[ id \"input_rate\" label \"input_rate\"]\n",
    "    node[ id \"output_rate\" label \"output_rate\"]\n",
    "    node[ id \"latency\" label \"latency\"]\n",
    "    node[ id \"bridge\" label \"bridge\"]\n",
    "    node[id \"bridge_cycles\" label \"bridge_cycles\"]\n",
    "    node[ id \"firewall\" label \"firewall\"]\n",
    "    node[ id \"firewall_cycles\" label \"firewall_cycles\"]\n",
    "    node[ id \"ndpi_stat\" label \"ndpi_stat\"]\n",
    "    node[ id \"ndpi_stat_cycles\" label \"ndpi_stat_cycles\"]\n",
    "    node[ id \"router\" label \"router\"]\n",
    "    node[ id \"nf_router_cycles\" label \"nf_router_cycles\"]\n",
    "    node[ id \"payload_scan\" label \"payload_scan\"]\n",
    "    node[ id \"payload_scan_cycles\" label \"payload_scan_cycles\"]\n",
    "    node[ id \"firewall_drop\" label \"firewall_drop\"]\n",
    "    node[ id \"bridge_drop\" label \"bridge_drop\"]\n",
    "    node[ id \"payload_scan_drop\" label \"payload_scan_drop\"]\n",
    "    node[ id \"router_drop\" label \"router_drop\"]\n",
    "    node[ id \"ndpi_stat_drop\" label \"ndpi_stat_drop\"]\n",
    "    node[ id \"Unobserved\" label \"Unobserved\"]\n",
    "    edge[source \"input_rate\" target \"firewall\"]\n",
    "    edge[source \"firewall\" target \"ndpi_stat\"]\n",
    "    edge[source \"ndpi_stat\" target \"router\"]\n",
    "    edge[source \"router\" target \"payload_scan\"]\n",
    "    edge[source \"payload_scan\" target \"bridge\"]\n",
    "    edge[source \"bridge\" target \"output_rate\"]\n",
    "    edge[source \"bridge\" target \"latency\"]\n",
    "    edge[source \"firewall_cycles\" target \"firewall\"]\n",
    "    edge[source \"bridge_cycles\" target \"bridge\"]\n",
    "    edge[source \"nf_router_cycles\" target \"router\"]\n",
    "    edge[source \"ndpi_stat_cycles\" target \"ndpi_stat\"]\n",
    "    edge[source \"payload_scan_cycles\" target \"payload_scan\"]\n",
    "    edge[source \"Unobserved\" target \"bridge_cycles\"]\n",
    "    edge[source \"Unobserved\" target \"firewall_cycles\"]\n",
    "    edge[source \"Unobserved\" target \"ndpi_stat_cycles\"]\n",
    "    edge[source \"Unobserved\" target \"nf_router_cycles\"]\n",
    "    edge[source \"Unobserved\" target \"payload_scan_cycles\"]\n",
    "    edge[source \"input_rate\" target \"firewall_drop\"]\n",
    "    edge[source \"firewall_cycles\" target \"firewall_drop\"]\n",
    "    edge[source \"bridge_cycles\" target \"bridge_drop\"]\n",
    "    edge[source \"payload_scan_cycles\" target \"payload_scan_drop\"]\n",
    "    edge[source \"nf_router_cycles\" target \"router_drop\"]\n",
    "    edge[source \"ndpi_stat_cycles\" target \"ndpi_stat_drop\"]\n",
    "    edge[source \"firewall\" target \"ndpi_stat_drop\"]\n",
    "    edge[source \"ndpi_stat\" target \"router_drop\"]\n",
    "    edge[source \"router\" target \"payload_scan_drop\"]\n",
    "    edge[source \"payload_scan\" target \"bridge_drop\"]\n",
    "    edge[source \"firewall_drop\" target \"latency\"]\n",
    "    edge[source \"ndpi_stat_drop\" target \"latency\"]\n",
    "    edge[source \"router_drop\" target \"latency\"]\n",
    "    edge[source \"payload_scan_drop\" target \"latency\"]\n",
    "    edge[source \"bridge_drop\" target \"latency\"]\n",
    "]\"\"\""
   ]
  },
  {
   "cell_type": "code",
   "execution_count": 248,
   "metadata": {},
   "outputs": [
    {
     "data": {
      "text/html": [
       "<div>\n",
       "<style scoped>\n",
       "    .dataframe tbody tr th:only-of-type {\n",
       "        vertical-align: middle;\n",
       "    }\n",
       "\n",
       "    .dataframe tbody tr th {\n",
       "        vertical-align: top;\n",
       "    }\n",
       "\n",
       "    .dataframe thead th {\n",
       "        text-align: right;\n",
       "    }\n",
       "</style>\n",
       "<table border=\"1\" class=\"dataframe\">\n",
       "  <thead>\n",
       "    <tr style=\"text-align: right;\">\n",
       "      <th></th>\n",
       "      <th>input_rate</th>\n",
       "      <th>output_rate</th>\n",
       "      <th>latency</th>\n",
       "      <th>firewall_cycles</th>\n",
       "      <th>firewall</th>\n",
       "      <th>payload_scan</th>\n",
       "      <th>payload_scan_cycles</th>\n",
       "      <th>bridge</th>\n",
       "      <th>bridge_cycles</th>\n",
       "      <th>router</th>\n",
       "      <th>nf_router_cycles</th>\n",
       "    </tr>\n",
       "  </thead>\n",
       "  <tbody>\n",
       "    <tr>\n",
       "      <th>0</th>\n",
       "      <td>0.000364</td>\n",
       "      <td>0.099282</td>\n",
       "      <td>0.169867</td>\n",
       "      <td>0.000000</td>\n",
       "      <td>0.021556</td>\n",
       "      <td>0.000000</td>\n",
       "      <td>0.000000</td>\n",
       "      <td>0.000000</td>\n",
       "      <td>0.163335</td>\n",
       "      <td>0.000000</td>\n",
       "      <td>0.000000</td>\n",
       "    </tr>\n",
       "    <tr>\n",
       "      <th>1</th>\n",
       "      <td>0.000098</td>\n",
       "      <td>0.098937</td>\n",
       "      <td>0.002302</td>\n",
       "      <td>0.756862</td>\n",
       "      <td>0.021079</td>\n",
       "      <td>0.023815</td>\n",
       "      <td>0.903236</td>\n",
       "      <td>0.023809</td>\n",
       "      <td>0.971274</td>\n",
       "      <td>0.023820</td>\n",
       "      <td>0.937346</td>\n",
       "    </tr>\n",
       "    <tr>\n",
       "      <th>2</th>\n",
       "      <td>0.000021</td>\n",
       "      <td>0.099038</td>\n",
       "      <td>0.526335</td>\n",
       "      <td>0.984728</td>\n",
       "      <td>0.021231</td>\n",
       "      <td>0.023334</td>\n",
       "      <td>0.998319</td>\n",
       "      <td>0.023327</td>\n",
       "      <td>0.999291</td>\n",
       "      <td>0.023338</td>\n",
       "      <td>0.998003</td>\n",
       "    </tr>\n",
       "    <tr>\n",
       "      <th>3</th>\n",
       "      <td>0.000292</td>\n",
       "      <td>0.099239</td>\n",
       "      <td>1.000000</td>\n",
       "      <td>0.997237</td>\n",
       "      <td>0.021460</td>\n",
       "      <td>0.023487</td>\n",
       "      <td>0.999750</td>\n",
       "      <td>0.023481</td>\n",
       "      <td>0.999688</td>\n",
       "      <td>0.023493</td>\n",
       "      <td>0.998944</td>\n",
       "    </tr>\n",
       "    <tr>\n",
       "      <th>4</th>\n",
       "      <td>0.000000</td>\n",
       "      <td>0.098770</td>\n",
       "      <td>0.063378</td>\n",
       "      <td>0.997708</td>\n",
       "      <td>0.020911</td>\n",
       "      <td>0.023721</td>\n",
       "      <td>0.998358</td>\n",
       "      <td>0.023717</td>\n",
       "      <td>0.999769</td>\n",
       "      <td>0.023718</td>\n",
       "      <td>0.998794</td>\n",
       "    </tr>\n",
       "    <tr>\n",
       "      <th>...</th>\n",
       "      <td>...</td>\n",
       "      <td>...</td>\n",
       "      <td>...</td>\n",
       "      <td>...</td>\n",
       "      <td>...</td>\n",
       "      <td>...</td>\n",
       "      <td>...</td>\n",
       "      <td>...</td>\n",
       "      <td>...</td>\n",
       "      <td>...</td>\n",
       "      <td>...</td>\n",
       "    </tr>\n",
       "    <tr>\n",
       "      <th>77</th>\n",
       "      <td>0.936558</td>\n",
       "      <td>0.928117</td>\n",
       "      <td>0.005252</td>\n",
       "      <td>0.997875</td>\n",
       "      <td>0.931858</td>\n",
       "      <td>0.925988</td>\n",
       "      <td>0.999189</td>\n",
       "      <td>0.925981</td>\n",
       "      <td>0.999799</td>\n",
       "      <td>0.925990</td>\n",
       "      <td>0.997912</td>\n",
       "    </tr>\n",
       "    <tr>\n",
       "      <th>78</th>\n",
       "      <td>0.938648</td>\n",
       "      <td>0.328567</td>\n",
       "      <td>0.002261</td>\n",
       "      <td>0.996601</td>\n",
       "      <td>0.373157</td>\n",
       "      <td>0.932008</td>\n",
       "      <td>0.999086</td>\n",
       "      <td>0.932002</td>\n",
       "      <td>0.999800</td>\n",
       "      <td>0.932014</td>\n",
       "      <td>0.998907</td>\n",
       "    </tr>\n",
       "    <tr>\n",
       "      <th>79</th>\n",
       "      <td>0.939394</td>\n",
       "      <td>0.000951</td>\n",
       "      <td>0.002675</td>\n",
       "      <td>0.997898</td>\n",
       "      <td>0.139871</td>\n",
       "      <td>0.300335</td>\n",
       "      <td>0.997289</td>\n",
       "      <td>0.294885</td>\n",
       "      <td>0.999335</td>\n",
       "      <td>0.369709</td>\n",
       "      <td>0.994028</td>\n",
       "    </tr>\n",
       "    <tr>\n",
       "      <th>80</th>\n",
       "      <td>0.940002</td>\n",
       "      <td>0.001284</td>\n",
       "      <td>0.003561</td>\n",
       "      <td>0.997966</td>\n",
       "      <td>0.139584</td>\n",
       "      <td>0.041901</td>\n",
       "      <td>0.998777</td>\n",
       "      <td>0.041895</td>\n",
       "      <td>0.563964</td>\n",
       "      <td>0.143040</td>\n",
       "      <td>0.998381</td>\n",
       "    </tr>\n",
       "    <tr>\n",
       "      <th>81</th>\n",
       "      <td>0.942041</td>\n",
       "      <td>0.001000</td>\n",
       "      <td>0.002753</td>\n",
       "      <td>0.997926</td>\n",
       "      <td>0.139744</td>\n",
       "      <td>0.041901</td>\n",
       "      <td>0.999943</td>\n",
       "      <td>0.041895</td>\n",
       "      <td>0.012970</td>\n",
       "      <td>0.145310</td>\n",
       "      <td>0.999604</td>\n",
       "    </tr>\n",
       "  </tbody>\n",
       "</table>\n",
       "<p>82 rows × 11 columns</p>\n",
       "</div>"
      ],
      "text/plain": [
       "    input_rate  output_rate   latency  firewall_cycles  firewall  \\\n",
       "0     0.000364     0.099282  0.169867         0.000000  0.021556   \n",
       "1     0.000098     0.098937  0.002302         0.756862  0.021079   \n",
       "2     0.000021     0.099038  0.526335         0.984728  0.021231   \n",
       "3     0.000292     0.099239  1.000000         0.997237  0.021460   \n",
       "4     0.000000     0.098770  0.063378         0.997708  0.020911   \n",
       "..         ...          ...       ...              ...       ...   \n",
       "77    0.936558     0.928117  0.005252         0.997875  0.931858   \n",
       "78    0.938648     0.328567  0.002261         0.996601  0.373157   \n",
       "79    0.939394     0.000951  0.002675         0.997898  0.139871   \n",
       "80    0.940002     0.001284  0.003561         0.997966  0.139584   \n",
       "81    0.942041     0.001000  0.002753         0.997926  0.139744   \n",
       "\n",
       "    payload_scan  payload_scan_cycles    bridge  bridge_cycles    router  \\\n",
       "0       0.000000             0.000000  0.000000       0.163335  0.000000   \n",
       "1       0.023815             0.903236  0.023809       0.971274  0.023820   \n",
       "2       0.023334             0.998319  0.023327       0.999291  0.023338   \n",
       "3       0.023487             0.999750  0.023481       0.999688  0.023493   \n",
       "4       0.023721             0.998358  0.023717       0.999769  0.023718   \n",
       "..           ...                  ...       ...            ...       ...   \n",
       "77      0.925988             0.999189  0.925981       0.999799  0.925990   \n",
       "78      0.932008             0.999086  0.932002       0.999800  0.932014   \n",
       "79      0.300335             0.997289  0.294885       0.999335  0.369709   \n",
       "80      0.041901             0.998777  0.041895       0.563964  0.143040   \n",
       "81      0.041901             0.999943  0.041895       0.012970  0.145310   \n",
       "\n",
       "    nf_router_cycles  \n",
       "0           0.000000  \n",
       "1           0.937346  \n",
       "2           0.998003  \n",
       "3           0.998944  \n",
       "4           0.998794  \n",
       "..               ...  \n",
       "77          0.997912  \n",
       "78          0.998907  \n",
       "79          0.994028  \n",
       "80          0.998381  \n",
       "81          0.999604  \n",
       "\n",
       "[82 rows x 11 columns]"
      ]
     },
     "execution_count": 248,
     "metadata": {},
     "output_type": "execute_result"
    }
   ],
   "source": [
    "data = df[[\"input_rate\", \"output_rate\", \"latency\", \n",
    "           \"firewall_cycles\", \"firewall\",\n",
    "           \"payload_scan\", \"payload_scan_cycles\",\n",
    "           \"bridge\", \"bridge_cycles\",\n",
    "           \"router\", \"nf_router_cycles\",\n",
    "          ]]\n",
    "data"
   ]
  },
  {
   "cell_type": "code",
   "execution_count": 249,
   "metadata": {},
   "outputs": [],
   "source": [
    "model=CausalModel(\n",
    "        data = data,\n",
    "        treatment=[\"router\"],\n",
    "        outcome=\"output_rate\",\n",
    "        graph=gml\n",
    "        )"
   ]
  },
  {
   "cell_type": "code",
   "execution_count": 250,
   "metadata": {},
   "outputs": [],
   "source": [
    "model.view_model()"
   ]
  },
  {
   "cell_type": "code",
   "execution_count": 251,
   "metadata": {
    "scrolled": true
   },
   "outputs": [
    {
     "data": {
      "image/png": "[encoded data removed]",
      "text/plain": [
       "<IPython.core.display.Image object>"
      ]
     },
     "metadata": {
      "image/png": {
       "width": 400
      }
     },
     "output_type": "display_data"
    }
   ],
   "source": [
    "from IPython.display import Image, display\n",
    "display(Image(filename=\"causal_model.png\", width=400))"
   ]
  },
  {
   "cell_type": "markdown",
   "metadata": {},
   "source": [
    "The above causal graph shows the assumptions encoded in the causal model. We can now use this graph to first identify \n",
    "the causal effect (go from a causal estimand to a probability expression), and then estimate the causal effect."
   ]
  },
  {
   "cell_type": "markdown",
   "metadata": {},
   "source": [
    "### DoWhy philosophy: Keep identification and estimation separate\n",
    "\n",
    "Identification can be achieved without access to the data, acccesing only the graph. This results in an expression to be computed. This expression can then be evaluated using the available data in the estimation step.\n",
    "It is important to understand that these are orthogonal steps.\n",
    "\n",
    "#### Identification"
   ]
  },
  {
   "cell_type": "code",
   "execution_count": 252,
   "metadata": {},
   "outputs": [
    {
     "name": "stdout",
     "output_type": "stream",
     "text": [
      "Estimand type: EstimandType.NONPARAMETRIC_ATE\n",
      "\n",
      "### Estimand : 1\n",
      "Estimand name: backdoor\n",
      "Estimand expression:\n",
      "    d                                                      \n",
      "─────────(E[output_rate|bridge_cycles,payload_scan_cycles])\n",
      "d[router]                                                  \n",
      "Estimand assumption 1, Unconfoundedness: If U→{router} and U→output_rate then P(output_rate|router,bridge_cycles,payload_scan_cycles,U) = P(output_rate|router,bridge_cycles,payload_scan_cycles)\n",
      "\n",
      "### Estimand : 2\n",
      "Estimand name: iv\n",
      "No such variable(s) found!\n",
      "\n",
      "### Estimand : 3\n",
      "Estimand name: frontdoor\n",
      "Estimand expression:\n",
      " ⎡    d                     d              ⎤\n",
      "E⎢─────────(outputᵣₐₜₑ)⋅─────────([bridge])⎥\n",
      " ⎣d[bridge]             d[router]          ⎦\n",
      "Estimand assumption 1, Full-mediation: bridge intercepts (blocks) all directed paths from router to o,u,t,p,u,t,_,r,a,t,e.\n",
      "Estimand assumption 2, First-stage-unconfoundedness: If U→{router} and U→{bridge} then P(bridge|router,U) = P(bridge|router)\n",
      "Estimand assumption 3, Second-stage-unconfoundedness: If U→{bridge} and U→output_rate then P(output_rate|bridge, router, U) = P(output_rate|bridge, router)\n",
      "\n"
     ]
    }
   ],
   "source": [
    "identified_estimand = model.identify_effect(proceed_when_unidentifiable=False)\n",
    "print(identified_estimand)"
   ]
  },
  {
   "cell_type": "markdown",
   "metadata": {},
   "source": [
    "Note the parameter flag *proceed\\_when\\_unidentifiable*. It needs to be set to *True* to convey the assumption that we are ignoring any unobserved confounding. The default behavior is to prompt the user to double-check that the unobserved confounders can be ignored. "
   ]
  },
  {
   "cell_type": "markdown",
   "metadata": {},
   "source": [
    "#### Estimation methods:"
   ]
  },
  {
   "cell_type": "code",
   "execution_count": 253,
   "metadata": {
    "scrolled": true
   },
   "outputs": [
    {
     "name": "stdout",
     "output_type": "stream",
     "text": [
      "*** Causal Estimate ***\n",
      "\n",
      "## Identified estimand\n",
      "Estimand type: EstimandType.NONPARAMETRIC_ATE\n",
      "\n",
      "### Estimand : 1\n",
      "Estimand name: backdoor\n",
      "Estimand expression:\n",
      "    d                                                      \n",
      "─────────(E[output_rate|bridge_cycles,payload_scan_cycles])\n",
      "d[router]                                                  \n",
      "Estimand assumption 1, Unconfoundedness: If U→{router} and U→output_rate then P(output_rate|router,bridge_cycles,payload_scan_cycles,U) = P(output_rate|router,bridge_cycles,payload_scan_cycles)\n",
      "\n",
      "## Realized estimand\n",
      "b: output_rate~router+bridge_cycles+payload_scan_cycles+router*bridge_cycles+router*payload_scan_cycles\n",
      "Target units: ate\n",
      "\n",
      "## Estimate\n",
      "Mean value: 0.7775347407543529\n",
      "\n"
     ]
    }
   ],
   "source": [
    "# Other available backdoor methods: distance_matching, propensity_score_stratification, \n",
    "# propensity_score_matching, propensity_score_weighting. @ Discretize the treatment.\n",
    "\n",
    "causal_estimate = model.estimate_effect(identified_estimand,\n",
    "        method_name=\"backdoor.linear_regression\", test_significance=True)\n",
    "print(causal_estimate)"
   ]
  },
  {
   "cell_type": "code",
   "execution_count": 254,
   "metadata": {},
   "outputs": [
    {
     "name": "stdout",
     "output_type": "stream",
     "text": [
      "Refute: Bootstrap Sample Dataset\n",
      "Estimated effect:0.7775347407543529\n",
      "New effect:0.8408936070496016\n",
      "p value:0.48\n",
      "\n"
     ]
    }
   ],
   "source": [
    "ref = model.refute_estimate(identified_estimand, causal_estimate, method_name=\"bootstrap_refuter\")\n",
    "print(ref)"
   ]
  },
  {
   "cell_type": "code",
   "execution_count": 255,
   "metadata": {},
   "outputs": [
    {
     "name": "stdout",
     "output_type": "stream",
     "text": [
      "Refute: Use a subset of data\n",
      "Estimated effect:0.7775347407543529\n",
      "New effect:0.8133385085602682\n",
      "p value:1.0\n",
      "\n"
     ]
    }
   ],
   "source": [
    "ref = model.refute_estimate(identified_estimand, causal_estimate, method_name=\"data_subset_refuter\")\n",
    "print(ref)"
   ]
  },
  {
   "cell_type": "code",
   "execution_count": 256,
   "metadata": {},
   "outputs": [
    {
     "name": "stdout",
     "output_type": "stream",
     "text": [
      "Refute: Use a Dummy Outcome\n",
      "Estimated effect:0\n",
      "New effect:-0.08676338733778116\n",
      "p value:0.8999999999999999\n",
      "\n"
     ]
    }
   ],
   "source": [
    "ref = model.refute_estimate(identified_estimand, causal_estimate, method_name=\"dummy_outcome_refuter\")\n",
    "print(ref[0])"
   ]
  },
  {
   "cell_type": "code",
   "execution_count": 257,
   "metadata": {},
   "outputs": [
    {
     "name": "stdout",
     "output_type": "stream",
     "text": [
      "Refute: Add a random common cause\n",
      "Estimated effect:0.7775347407543529\n",
      "New effect:0.7783489398930241\n",
      "p value:0.9\n",
      "\n"
     ]
    }
   ],
   "source": [
    "ref = model.refute_estimate(identified_estimand, causal_estimate, method_name=\"random_common_cause\")\n",
    "print(ref)"
   ]
  },
  {
   "cell_type": "markdown",
   "metadata": {},
   "source": [
    "ref = model.refute_estimate(identified_estimand, causal_estimate, method_name=\"placebo_treatment_refuter\", placebo_type=\"permute\")\n",
    "print(ref)"
   ]
  },
  {
   "cell_type": "code",
   "execution_count": 258,
   "metadata": {
    "scrolled": true
   },
   "outputs": [
    {
     "name": "stdout",
     "output_type": "stream",
     "text": [
      "*** Causal Estimate ***\n",
      "\n",
      "## Identified estimand\n",
      "Estimand type: EstimandType.NONPARAMETRIC_ATE\n",
      "\n",
      "### Estimand : 1\n",
      "Estimand name: frontdoor\n",
      "Estimand expression:\n",
      " ⎡    d                     d              ⎤\n",
      "E⎢─────────(outputᵣₐₜₑ)⋅─────────([bridge])⎥\n",
      " ⎣d[bridge]             d[router]          ⎦\n",
      "Estimand assumption 1, Full-mediation: bridge intercepts (blocks) all directed paths from router to o,u,t,p,u,t,_,r,a,t,e.\n",
      "Estimand assumption 2, First-stage-unconfoundedness: If U→{router} and U→{bridge} then P(bridge|router,U) = P(bridge|router)\n",
      "Estimand assumption 3, Second-stage-unconfoundedness: If U→{bridge} and U→output_rate then P(output_rate|bridge, router, U) = P(output_rate|bridge, router)\n",
      "\n",
      "## Realized estimand\n",
      "b: output_rate~router+bridge_cycles+payload_scan_cycles+router*bridge_cycles+router*payload_scan_cycles\n",
      "Target units: ate\n",
      "\n",
      "## Estimate\n",
      "Mean value: 0.7775347407543529\n",
      "\n"
     ]
    }
   ],
   "source": [
    "causal_estimate = model.estimate_effect(identified_estimand,\n",
    "        method_name=\"frontdoor.linear_regression\")\n",
    "print(causal_estimate)"
   ]
  },
  {
   "cell_type": "code",
   "execution_count": 259,
   "metadata": {},
   "outputs": [
    {
     "name": "stdout",
     "output_type": "stream",
     "text": [
      "Refute: Bootstrap Sample Dataset\n",
      "Estimated effect:0.7775347407543529\n",
      "New effect:0.8265729402112479\n",
      "p value:0.58\n",
      "\n"
     ]
    }
   ],
   "source": [
    "ref = model.refute_estimate(identified_estimand, causal_estimate, method_name=\"bootstrap_refuter\")\n",
    "print(ref)"
   ]
  },
  {
   "cell_type": "code",
   "execution_count": 260,
   "metadata": {},
   "outputs": [
    {
     "name": "stdout",
     "output_type": "stream",
     "text": [
      "Refute: Use a subset of data\n",
      "Estimated effect:0.7775347407543529\n",
      "New effect:0.8076725843742344\n",
      "p value:0.8400000000000001\n",
      "\n"
     ]
    }
   ],
   "source": [
    "ref = model.refute_estimate(identified_estimand, causal_estimate, method_name=\"data_subset_refuter\")\n",
    "print(ref)"
   ]
  },
  {
   "cell_type": "code",
   "execution_count": 261,
   "metadata": {},
   "outputs": [
    {
     "name": "stdout",
     "output_type": "stream",
     "text": [
      "Refute: Use a Dummy Outcome\n",
      "Estimated effect:0\n",
      "New effect:0.12473592288153565\n",
      "p value:0.94\n",
      "\n"
     ]
    }
   ],
   "source": [
    "ref = model.refute_estimate(identified_estimand, causal_estimate, method_name=\"dummy_outcome_refuter\")\n",
    "print(ref[0])"
   ]
  },
  {
   "cell_type": "code",
   "execution_count": 262,
   "metadata": {},
   "outputs": [
    {
     "name": "stdout",
     "output_type": "stream",
     "text": [
      "Refute: Add a random common cause\n",
      "Estimated effect:0.7775347407543529\n",
      "New effect:0.7775347407543528\n",
      "p value:2.0\n",
      "\n"
     ]
    }
   ],
   "source": [
    "ref = model.refute_estimate(identified_estimand, causal_estimate, method_name=\"random_common_cause\")\n",
    "print(ref)"
   ]
  },
  {
   "cell_type": "markdown",
   "metadata": {},
   "source": [
    "You can input additional parameters to the estimate_effect method. For instance, to estimate the effect on any subset of the units, you can specify the \"target_units\" parameter which can be a string (\"ate\", \"att\", or \"atc\"), lambda function that filters rows of the data frame, or a new dataframe on which to compute the effect. You can also specify \"effect modifiers\" to estimate heterogeneous effects across these variables. See `help(CausalModel.estimate_effect)`. "
   ]
  },
  {
   "cell_type": "code",
   "execution_count": 263,
   "metadata": {},
   "outputs": [
    {
     "name": "stdout",
     "output_type": "stream",
     "text": [
      "Estimation failed! No relevant identified estimand available for this estimation method.\n"
     ]
    }
   ],
   "source": [
    "# Step 3: Estimate\n",
    "#Choose the second estimand: using IV\n",
    "estimate = model.estimate_effect(identified_estimand,\n",
    "        method_name=\"iv.instrumental_variable\", test_significance=True)\n",
    "print(estimate)"
   ]
  },
  {
   "cell_type": "code",
   "execution_count": 264,
   "metadata": {},
   "outputs": [
    {
     "name": "stdout",
     "output_type": "stream",
     "text": [
      "Estimation failed! No relevant identified estimand available for this estimation method.\n",
      "Causal Estimate is None\n"
     ]
    }
   ],
   "source": [
    "causal_estimate_regdist = model.estimate_effect(identified_estimand,\n",
    "        method_name=\"iv.regression_discontinuity\", \n",
    "        method_params={'rd_variable_name':'input_rate',\n",
    "                       'rd_threshold_value':0.5,\n",
    "                       'rd_bandwidth': 0.15})\n",
    "print(causal_estimate_regdist)\n",
    "print(\"Causal Estimate is \" + str(causal_estimate_regdist.value))"
   ]
  },
  {
   "cell_type": "code",
   "execution_count": 265,
   "metadata": {},
   "outputs": [
    {
     "name": "stdout",
     "output_type": "stream",
     "text": [
      "Estimation failed! No relevant identified estimand available for this estimation method.\n",
      "Causal Estimate is None\n"
     ]
    }
   ],
   "source": [
    "causal_estimate_regdist = model.estimate_effect(identified_estimand,\n",
    "        method_name=\"iv.regression_discontinuity\", \n",
    "        method_params={'rd_variable_name':'firewall_cycles',\n",
    "                       'rd_threshold_value':0.5,\n",
    "                       'rd_bandwidth': 0.15})\n",
    "print(causal_estimate_regdist)\n",
    "print(\"Causal Estimate is \" + str(causal_estimate_regdist.value))"
   ]
  },
  {
   "cell_type": "code",
   "execution_count": null,
   "metadata": {},
   "outputs": [],
   "source": []
  }
 ],
 "metadata": {
  "kernelspec": {
   "display_name": "Python 3 (ipykernel)",
   "language": "python",
   "name": "python3"
  },
  "language_info": {
   "codemirror_mode": {
    "name": "ipython",
    "version": 3
   },
   "file_extension": ".py",
   "mimetype": "text/x-python",
   "name": "python",
   "nbconvert_exporter": "python",
   "pygments_lexer": "ipython3",
   "version": "3.8.15"
  },
  "toc": {
   "base_numbering": 1,
   "nav_menu": {},
   "number_sections": false,
   "sideBar": true,
   "skip_h1_title": true,
   "title_cell": "Table of Contents",
   "title_sidebar": "Contents",
   "toc_cell": false,
   "toc_position": {},
   "toc_section_display": true,
   "toc_window_display": false
  }
 },
 "nbformat": 4,
 "nbformat_minor": 4
}
