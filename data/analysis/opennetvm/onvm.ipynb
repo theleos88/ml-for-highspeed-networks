{
 "cells": [
  {
   "cell_type": "code",
   "execution_count": 1,
   "id": "8e234bf7",
   "metadata": {},
   "outputs": [],
   "source": [
    "import sys, re\n",
    "import matplotlib.pyplot as plt"
   ]
  },
  {
   "cell_type": "code",
   "execution_count": 2,
   "id": "537782ce",
   "metadata": {},
   "outputs": [],
   "source": [
    "def get_stat(stat_name, source=\"general/fastclick-varied-cbr-rates.csv\"):\n",
    "    stat = []\n",
    "    with open(source) as file:\n",
    "        for line in file:\n",
    "            if re.search(stat_name, line):\n",
    "                stat.append(line.strip().split(',')[1])\n",
    "    \n",
    "    return list(map(lambda x:float(x), stat[:-1]))\n",
    "\n",
    "def plot_stat(stat_name, ax, source):\n",
    "    stat = get_stat(stat_name, source)\n",
    "    ax.plot(stat)\n",
    "    ax.set_title(stat_name)\n",
    "\n",
    "def plot_stats(stat_names, source=\"fastclick-varied-cbr-rates.csv\"):\n",
    "    i = 1\n",
    "    fig, ax = plt.subplots(len(stat_names),1)\n",
    "    for s in stat_names:\n",
    "        ax = plt.subplot(len(stat_names),1, i)\n",
    "        plot_stat(s, ax, source)\n",
    "        i+=1\n",
    "    fig.tight_layout()"
   ]
  }
 ],
 "metadata": {
  "kernelspec": {
   "display_name": "Python 3",
   "language": "python",
   "name": "python3"
  },
  "language_info": {
   "codemirror_mode": {
    "name": "ipython",
    "version": 3
   },
   "file_extension": ".py",
   "mimetype": "text/x-python",
   "name": "python",
   "nbconvert_exporter": "python",
   "pygments_lexer": "ipython3",
   "version": "3.6.9"
  }
 },
 "nbformat": 4,
 "nbformat_minor": 5
}
